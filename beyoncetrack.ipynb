{
 "cells": [
  {
   "cell_type": "code",
   "execution_count": 1,
   "id": "fdf49f8e",
   "metadata": {
    "_cell_guid": "b1076dfc-b9ad-4769-8c92-a6c4dae69d19",
    "_uuid": "8f2839f25d086af736a60e9eeb907d3b93b6e0e5",
    "execution": {
     "iopub.execute_input": "2024-04-13T15:09:40.999255Z",
     "iopub.status.busy": "2024-04-13T15:09:40.998814Z",
     "iopub.status.idle": "2024-04-13T15:09:43.851745Z",
     "shell.execute_reply": "2024-04-13T15:09:43.850900Z"
    },
    "papermill": {
     "duration": 2.867833,
     "end_time": "2024-04-13T15:09:43.854374",
     "exception": false,
     "start_time": "2024-04-13T15:09:40.986541",
     "status": "completed"
    },
    "tags": []
   },
   "outputs": [
    {
     "name": "stdout",
     "output_type": "stream",
     "text": [
      "/kaggle/input/beyonce-track-attribute-data/beyonce_tracks.csv\n"
     ]
    }
   ],
   "source": [
    "# This Python 3 environment comes with many helpful analytics libraries installed\n",
    "# It is defined by the kaggle/python Docker image: https://github.com/kaggle/docker-python\n",
    "# For example, here's several helpful packages to load\n",
    "\n",
    "import numpy as np # linear algebra\n",
    "import pandas as pd # data processing, CSV file I/O (e.g. pd.read_csv)\n",
    "import matplotlib.pyplot as plt\n",
    "import seaborn as sns\n",
    "\n",
    "# Input data files are available in the read-only \"../input/\" directory\n",
    "# For example, running this (by clicking run or pressing Shift+Enter) will list all files under the input directory\n",
    "\n",
    "import os\n",
    "for dirname, _, filenames in os.walk('/kaggle/input'):\n",
    "    for filename in filenames:\n",
    "        print(os.path.join(dirname, filename))\n",
    "\n",
    "# You can write up to 20GB to the current directory (/kaggle/working/) that gets preserved as output when you create a version using \"Save & Run All\" \n",
    "# You can also write temporary files to /kaggle/temp/, but they won't be saved outside of the current session"
   ]
  },
  {
   "cell_type": "code",
   "execution_count": 2,
   "id": "9bc128ff",
   "metadata": {
    "execution": {
     "iopub.execute_input": "2024-04-13T15:09:43.876161Z",
     "iopub.status.busy": "2024-04-13T15:09:43.874468Z",
     "iopub.status.idle": "2024-04-13T15:09:43.880721Z",
     "shell.execute_reply": "2024-04-13T15:09:43.879678Z"
    },
    "papermill": {
     "duration": 0.019823,
     "end_time": "2024-04-13T15:09:43.883440",
     "exception": false,
     "start_time": "2024-04-13T15:09:43.863617",
     "status": "completed"
    },
    "tags": []
   },
   "outputs": [],
   "source": [
    "import warnings\n",
    "warnings.filterwarnings(\"ignore\")"
   ]
  },
  {
   "cell_type": "code",
   "execution_count": 3,
   "id": "df3000a1",
   "metadata": {
    "execution": {
     "iopub.execute_input": "2024-04-13T15:09:43.904907Z",
     "iopub.status.busy": "2024-04-13T15:09:43.903817Z",
     "iopub.status.idle": "2024-04-13T15:09:43.929385Z",
     "shell.execute_reply": "2024-04-13T15:09:43.927966Z"
    },
    "papermill": {
     "duration": 0.039783,
     "end_time": "2024-04-13T15:09:43.932803",
     "exception": false,
     "start_time": "2024-04-13T15:09:43.893020",
     "status": "completed"
    },
    "tags": []
   },
   "outputs": [],
   "source": [
    "data= pd.read_csv(\"/kaggle/input/beyonce-track-attribute-data/beyonce_tracks.csv\")"
   ]
  },
  {
   "cell_type": "code",
   "execution_count": 4,
   "id": "0c28b96a",
   "metadata": {
    "execution": {
     "iopub.execute_input": "2024-04-13T15:09:43.954982Z",
     "iopub.status.busy": "2024-04-13T15:09:43.954511Z",
     "iopub.status.idle": "2024-04-13T15:09:43.992622Z",
     "shell.execute_reply": "2024-04-13T15:09:43.991350Z"
    },
    "papermill": {
     "duration": 0.052497,
     "end_time": "2024-04-13T15:09:43.995426",
     "exception": false,
     "start_time": "2024-04-13T15:09:43.942929",
     "status": "completed"
    },
    "tags": []
   },
   "outputs": [
    {
     "data": {
      "text/html": [
       "<div>\n",
       "<style scoped>\n",
       "    .dataframe tbody tr th:only-of-type {\n",
       "        vertical-align: middle;\n",
       "    }\n",
       "\n",
       "    .dataframe tbody tr th {\n",
       "        vertical-align: top;\n",
       "    }\n",
       "\n",
       "    .dataframe thead th {\n",
       "        text-align: right;\n",
       "    }\n",
       "</style>\n",
       "<table border=\"1\" class=\"dataframe\">\n",
       "  <thead>\n",
       "    <tr style=\"text-align: right;\">\n",
       "      <th></th>\n",
       "      <th>artist_name</th>\n",
       "      <th>track_name</th>\n",
       "      <th>album_name</th>\n",
       "      <th>is_explicit</th>\n",
       "      <th>genres</th>\n",
       "      <th>release_date</th>\n",
       "      <th>track_id</th>\n",
       "      <th>danceability</th>\n",
       "      <th>valence</th>\n",
       "      <th>energy</th>\n",
       "      <th>loudness</th>\n",
       "      <th>acousticness</th>\n",
       "      <th>instrumentalness</th>\n",
       "      <th>liveness</th>\n",
       "      <th>speechiness</th>\n",
       "      <th>key</th>\n",
       "      <th>tempo</th>\n",
       "      <th>mode</th>\n",
       "      <th>duration_ms</th>\n",
       "      <th>time_signature</th>\n",
       "    </tr>\n",
       "  </thead>\n",
       "  <tbody>\n",
       "    <tr>\n",
       "      <th>0</th>\n",
       "      <td>Beyoncé</td>\n",
       "      <td>I'M THAT GIRL</td>\n",
       "      <td>RENAISSANCE</td>\n",
       "      <td>True</td>\n",
       "      <td>pop, r&amp;b</td>\n",
       "      <td>2022-07-29</td>\n",
       "      <td>1MpCaOeUWhox2Fgigbe1cL</td>\n",
       "      <td>0.554</td>\n",
       "      <td>0.136</td>\n",
       "      <td>0.535</td>\n",
       "      <td>-8.959</td>\n",
       "      <td>0.061600</td>\n",
       "      <td>0.000013</td>\n",
       "      <td>0.1240</td>\n",
       "      <td>0.1860</td>\n",
       "      <td>5</td>\n",
       "      <td>105.865</td>\n",
       "      <td>0</td>\n",
       "      <td>208014</td>\n",
       "      <td>4</td>\n",
       "    </tr>\n",
       "    <tr>\n",
       "      <th>1</th>\n",
       "      <td>Beyoncé</td>\n",
       "      <td>COZY</td>\n",
       "      <td>RENAISSANCE</td>\n",
       "      <td>True</td>\n",
       "      <td>pop, r&amp;b</td>\n",
       "      <td>2022-07-29</td>\n",
       "      <td>0mKGwFMHzTprtS2vpR3b6s</td>\n",
       "      <td>0.556</td>\n",
       "      <td>0.367</td>\n",
       "      <td>0.630</td>\n",
       "      <td>-8.150</td>\n",
       "      <td>0.000828</td>\n",
       "      <td>0.004680</td>\n",
       "      <td>0.1550</td>\n",
       "      <td>0.1020</td>\n",
       "      <td>7</td>\n",
       "      <td>149.147</td>\n",
       "      <td>1</td>\n",
       "      <td>210372</td>\n",
       "      <td>5</td>\n",
       "    </tr>\n",
       "    <tr>\n",
       "      <th>2</th>\n",
       "      <td>Beyoncé</td>\n",
       "      <td>ALIEN SUPERSTAR</td>\n",
       "      <td>RENAISSANCE</td>\n",
       "      <td>True</td>\n",
       "      <td>pop, r&amp;b</td>\n",
       "      <td>2022-07-29</td>\n",
       "      <td>1Hohk6AufHZOrrhMXZppax</td>\n",
       "      <td>0.545</td>\n",
       "      <td>0.464</td>\n",
       "      <td>0.641</td>\n",
       "      <td>-6.398</td>\n",
       "      <td>0.004530</td>\n",
       "      <td>0.000066</td>\n",
       "      <td>0.1710</td>\n",
       "      <td>0.0998</td>\n",
       "      <td>10</td>\n",
       "      <td>121.892</td>\n",
       "      <td>0</td>\n",
       "      <td>215460</td>\n",
       "      <td>4</td>\n",
       "    </tr>\n",
       "    <tr>\n",
       "      <th>3</th>\n",
       "      <td>Beyoncé</td>\n",
       "      <td>CUFF IT</td>\n",
       "      <td>RENAISSANCE</td>\n",
       "      <td>True</td>\n",
       "      <td>pop, r&amp;b</td>\n",
       "      <td>2022-07-29</td>\n",
       "      <td>1xzi1Jcr7mEi9K2RfzLOqS</td>\n",
       "      <td>0.780</td>\n",
       "      <td>0.642</td>\n",
       "      <td>0.689</td>\n",
       "      <td>-5.668</td>\n",
       "      <td>0.036800</td>\n",
       "      <td>0.000010</td>\n",
       "      <td>0.0698</td>\n",
       "      <td>0.1410</td>\n",
       "      <td>7</td>\n",
       "      <td>115.042</td>\n",
       "      <td>1</td>\n",
       "      <td>225389</td>\n",
       "      <td>4</td>\n",
       "    </tr>\n",
       "    <tr>\n",
       "      <th>4</th>\n",
       "      <td>Beyoncé, BEAM</td>\n",
       "      <td>ENERGY (feat. Beam)</td>\n",
       "      <td>RENAISSANCE</td>\n",
       "      <td>False</td>\n",
       "      <td>pop, r&amp;b</td>\n",
       "      <td>2022-07-29</td>\n",
       "      <td>0314PeD1sQNonfVWix3B2K</td>\n",
       "      <td>0.903</td>\n",
       "      <td>0.587</td>\n",
       "      <td>0.519</td>\n",
       "      <td>-9.151</td>\n",
       "      <td>0.281000</td>\n",
       "      <td>0.000106</td>\n",
       "      <td>0.1550</td>\n",
       "      <td>0.2600</td>\n",
       "      <td>1</td>\n",
       "      <td>114.991</td>\n",
       "      <td>1</td>\n",
       "      <td>116727</td>\n",
       "      <td>4</td>\n",
       "    </tr>\n",
       "  </tbody>\n",
       "</table>\n",
       "</div>"
      ],
      "text/plain": [
       "     artist_name           track_name   album_name  is_explicit    genres  \\\n",
       "0        Beyoncé        I'M THAT GIRL  RENAISSANCE         True  pop, r&b   \n",
       "1        Beyoncé                 COZY  RENAISSANCE         True  pop, r&b   \n",
       "2        Beyoncé      ALIEN SUPERSTAR  RENAISSANCE         True  pop, r&b   \n",
       "3        Beyoncé              CUFF IT  RENAISSANCE         True  pop, r&b   \n",
       "4  Beyoncé, BEAM  ENERGY (feat. Beam)  RENAISSANCE        False  pop, r&b   \n",
       "\n",
       "  release_date                track_id  danceability  valence  energy  \\\n",
       "0   2022-07-29  1MpCaOeUWhox2Fgigbe1cL         0.554    0.136   0.535   \n",
       "1   2022-07-29  0mKGwFMHzTprtS2vpR3b6s         0.556    0.367   0.630   \n",
       "2   2022-07-29  1Hohk6AufHZOrrhMXZppax         0.545    0.464   0.641   \n",
       "3   2022-07-29  1xzi1Jcr7mEi9K2RfzLOqS         0.780    0.642   0.689   \n",
       "4   2022-07-29  0314PeD1sQNonfVWix3B2K         0.903    0.587   0.519   \n",
       "\n",
       "   loudness  acousticness  instrumentalness  liveness  speechiness  key  \\\n",
       "0    -8.959      0.061600          0.000013    0.1240       0.1860    5   \n",
       "1    -8.150      0.000828          0.004680    0.1550       0.1020    7   \n",
       "2    -6.398      0.004530          0.000066    0.1710       0.0998   10   \n",
       "3    -5.668      0.036800          0.000010    0.0698       0.1410    7   \n",
       "4    -9.151      0.281000          0.000106    0.1550       0.2600    1   \n",
       "\n",
       "     tempo  mode  duration_ms  time_signature  \n",
       "0  105.865     0       208014               4  \n",
       "1  149.147     1       210372               5  \n",
       "2  121.892     0       215460               4  \n",
       "3  115.042     1       225389               4  \n",
       "4  114.991     1       116727               4  "
      ]
     },
     "execution_count": 4,
     "metadata": {},
     "output_type": "execute_result"
    }
   ],
   "source": [
    "data.head()"
   ]
  },
  {
   "cell_type": "code",
   "execution_count": 5,
   "id": "b07e6021",
   "metadata": {
    "execution": {
     "iopub.execute_input": "2024-04-13T15:09:44.017929Z",
     "iopub.status.busy": "2024-04-13T15:09:44.017480Z",
     "iopub.status.idle": "2024-04-13T15:09:44.046238Z",
     "shell.execute_reply": "2024-04-13T15:09:44.044683Z"
    },
    "papermill": {
     "duration": 0.043456,
     "end_time": "2024-04-13T15:09:44.049480",
     "exception": false,
     "start_time": "2024-04-13T15:09:44.006024",
     "status": "completed"
    },
    "tags": []
   },
   "outputs": [
    {
     "data": {
      "text/html": [
       "<div>\n",
       "<style scoped>\n",
       "    .dataframe tbody tr th:only-of-type {\n",
       "        vertical-align: middle;\n",
       "    }\n",
       "\n",
       "    .dataframe tbody tr th {\n",
       "        vertical-align: top;\n",
       "    }\n",
       "\n",
       "    .dataframe thead th {\n",
       "        text-align: right;\n",
       "    }\n",
       "</style>\n",
       "<table border=\"1\" class=\"dataframe\">\n",
       "  <thead>\n",
       "    <tr style=\"text-align: right;\">\n",
       "      <th></th>\n",
       "      <th>artist_name</th>\n",
       "      <th>track_name</th>\n",
       "      <th>album_name</th>\n",
       "      <th>is_explicit</th>\n",
       "      <th>genres</th>\n",
       "      <th>release_date</th>\n",
       "      <th>track_id</th>\n",
       "      <th>danceability</th>\n",
       "      <th>valence</th>\n",
       "      <th>energy</th>\n",
       "      <th>loudness</th>\n",
       "      <th>acousticness</th>\n",
       "      <th>instrumentalness</th>\n",
       "      <th>liveness</th>\n",
       "      <th>speechiness</th>\n",
       "      <th>key</th>\n",
       "      <th>tempo</th>\n",
       "      <th>mode</th>\n",
       "      <th>duration_ms</th>\n",
       "      <th>time_signature</th>\n",
       "    </tr>\n",
       "  </thead>\n",
       "  <tbody>\n",
       "    <tr>\n",
       "      <th>331</th>\n",
       "      <td>Beyoncé, JAY-Z</td>\n",
       "      <td>Crazy In Love (feat. Jay-Z)</td>\n",
       "      <td>Crazy In Love (featuring Jay-Z)</td>\n",
       "      <td>False</td>\n",
       "      <td>pop, r&amp;b</td>\n",
       "      <td>2003-05-20</td>\n",
       "      <td>19lLzX7vt4BhrSOaHeRyn7</td>\n",
       "      <td>0.656</td>\n",
       "      <td>0.700</td>\n",
       "      <td>0.767</td>\n",
       "      <td>-6.607</td>\n",
       "      <td>0.00248</td>\n",
       "      <td>0.000000</td>\n",
       "      <td>0.0688</td>\n",
       "      <td>0.2100</td>\n",
       "      <td>2</td>\n",
       "      <td>99.201</td>\n",
       "      <td>0</td>\n",
       "      <td>236120</td>\n",
       "      <td>4</td>\n",
       "    </tr>\n",
       "    <tr>\n",
       "      <th>332</th>\n",
       "      <td>Beyoncé</td>\n",
       "      <td>Work It Out - New Radio Edit</td>\n",
       "      <td>Work It Out</td>\n",
       "      <td>False</td>\n",
       "      <td>pop, r&amp;b</td>\n",
       "      <td>2002-06-17</td>\n",
       "      <td>3hBf0RhTUX3qKJFKaagnIg</td>\n",
       "      <td>0.674</td>\n",
       "      <td>0.960</td>\n",
       "      <td>0.838</td>\n",
       "      <td>-4.066</td>\n",
       "      <td>0.41700</td>\n",
       "      <td>0.000000</td>\n",
       "      <td>0.1890</td>\n",
       "      <td>0.2000</td>\n",
       "      <td>5</td>\n",
       "      <td>173.946</td>\n",
       "      <td>1</td>\n",
       "      <td>221773</td>\n",
       "      <td>4</td>\n",
       "    </tr>\n",
       "    <tr>\n",
       "      <th>333</th>\n",
       "      <td>Beyoncé, Victor Calderone, Mac Quayle</td>\n",
       "      <td>Work It Out - Blow Your Horn Dub</td>\n",
       "      <td>Work It Out</td>\n",
       "      <td>False</td>\n",
       "      <td>pop, r&amp;b</td>\n",
       "      <td>2002-06-17</td>\n",
       "      <td>7t8C85BFp6CwB3PS8Wao1D</td>\n",
       "      <td>0.725</td>\n",
       "      <td>0.295</td>\n",
       "      <td>0.783</td>\n",
       "      <td>-6.275</td>\n",
       "      <td>0.00439</td>\n",
       "      <td>0.682000</td>\n",
       "      <td>0.1430</td>\n",
       "      <td>0.0537</td>\n",
       "      <td>11</td>\n",
       "      <td>129.976</td>\n",
       "      <td>0</td>\n",
       "      <td>597520</td>\n",
       "      <td>4</td>\n",
       "    </tr>\n",
       "    <tr>\n",
       "      <th>334</th>\n",
       "      <td>Beyoncé, Azza</td>\n",
       "      <td>Work It Out - Azza's Nu Soul Mix</td>\n",
       "      <td>Work It Out</td>\n",
       "      <td>False</td>\n",
       "      <td>pop, r&amp;b</td>\n",
       "      <td>2002-06-17</td>\n",
       "      <td>4E82n1R43NJJ2M5A0I5IS1</td>\n",
       "      <td>0.552</td>\n",
       "      <td>0.740</td>\n",
       "      <td>0.728</td>\n",
       "      <td>-6.600</td>\n",
       "      <td>0.18400</td>\n",
       "      <td>0.000564</td>\n",
       "      <td>0.0868</td>\n",
       "      <td>0.3310</td>\n",
       "      <td>2</td>\n",
       "      <td>86.902</td>\n",
       "      <td>1</td>\n",
       "      <td>287200</td>\n",
       "      <td>4</td>\n",
       "    </tr>\n",
       "    <tr>\n",
       "      <th>335</th>\n",
       "      <td>Beyoncé, Maurice Joshua</td>\n",
       "      <td>Work It Out - Maurice's Nu Soul Mix</td>\n",
       "      <td>Work It Out</td>\n",
       "      <td>False</td>\n",
       "      <td>pop, r&amp;b</td>\n",
       "      <td>2002-06-17</td>\n",
       "      <td>3iqTyC2c1sincQjj5t3Fdo</td>\n",
       "      <td>0.832</td>\n",
       "      <td>0.646</td>\n",
       "      <td>0.651</td>\n",
       "      <td>-6.926</td>\n",
       "      <td>0.00110</td>\n",
       "      <td>0.562000</td>\n",
       "      <td>0.3520</td>\n",
       "      <td>0.0490</td>\n",
       "      <td>5</td>\n",
       "      <td>126.013</td>\n",
       "      <td>0</td>\n",
       "      <td>430613</td>\n",
       "      <td>4</td>\n",
       "    </tr>\n",
       "  </tbody>\n",
       "</table>\n",
       "</div>"
      ],
      "text/plain": [
       "                               artist_name  \\\n",
       "331                         Beyoncé, JAY-Z   \n",
       "332                                Beyoncé   \n",
       "333  Beyoncé, Victor Calderone, Mac Quayle   \n",
       "334                          Beyoncé, Azza   \n",
       "335                Beyoncé, Maurice Joshua   \n",
       "\n",
       "                              track_name                       album_name  \\\n",
       "331          Crazy In Love (feat. Jay-Z)  Crazy In Love (featuring Jay-Z)   \n",
       "332         Work It Out - New Radio Edit                      Work It Out   \n",
       "333     Work It Out - Blow Your Horn Dub                      Work It Out   \n",
       "334     Work It Out - Azza's Nu Soul Mix                      Work It Out   \n",
       "335  Work It Out - Maurice's Nu Soul Mix                      Work It Out   \n",
       "\n",
       "     is_explicit    genres release_date                track_id  danceability  \\\n",
       "331        False  pop, r&b   2003-05-20  19lLzX7vt4BhrSOaHeRyn7         0.656   \n",
       "332        False  pop, r&b   2002-06-17  3hBf0RhTUX3qKJFKaagnIg         0.674   \n",
       "333        False  pop, r&b   2002-06-17  7t8C85BFp6CwB3PS8Wao1D         0.725   \n",
       "334        False  pop, r&b   2002-06-17  4E82n1R43NJJ2M5A0I5IS1         0.552   \n",
       "335        False  pop, r&b   2002-06-17  3iqTyC2c1sincQjj5t3Fdo         0.832   \n",
       "\n",
       "     valence  energy  loudness  acousticness  instrumentalness  liveness  \\\n",
       "331    0.700   0.767    -6.607       0.00248          0.000000    0.0688   \n",
       "332    0.960   0.838    -4.066       0.41700          0.000000    0.1890   \n",
       "333    0.295   0.783    -6.275       0.00439          0.682000    0.1430   \n",
       "334    0.740   0.728    -6.600       0.18400          0.000564    0.0868   \n",
       "335    0.646   0.651    -6.926       0.00110          0.562000    0.3520   \n",
       "\n",
       "     speechiness  key    tempo  mode  duration_ms  time_signature  \n",
       "331       0.2100    2   99.201     0       236120               4  \n",
       "332       0.2000    5  173.946     1       221773               4  \n",
       "333       0.0537   11  129.976     0       597520               4  \n",
       "334       0.3310    2   86.902     1       287200               4  \n",
       "335       0.0490    5  126.013     0       430613               4  "
      ]
     },
     "execution_count": 5,
     "metadata": {},
     "output_type": "execute_result"
    }
   ],
   "source": [
    "data.tail()"
   ]
  },
  {
   "cell_type": "code",
   "execution_count": 6,
   "id": "81489e92",
   "metadata": {
    "execution": {
     "iopub.execute_input": "2024-04-13T15:09:44.074020Z",
     "iopub.status.busy": "2024-04-13T15:09:44.072249Z",
     "iopub.status.idle": "2024-04-13T15:09:44.079938Z",
     "shell.execute_reply": "2024-04-13T15:09:44.078933Z"
    },
    "papermill": {
     "duration": 0.022198,
     "end_time": "2024-04-13T15:09:44.082380",
     "exception": false,
     "start_time": "2024-04-13T15:09:44.060182",
     "status": "completed"
    },
    "tags": []
   },
   "outputs": [
    {
     "data": {
      "text/plain": [
       "(336, 20)"
      ]
     },
     "execution_count": 6,
     "metadata": {},
     "output_type": "execute_result"
    }
   ],
   "source": [
    "data.shape"
   ]
  },
  {
   "cell_type": "code",
   "execution_count": 7,
   "id": "ccd5dda0",
   "metadata": {
    "execution": {
     "iopub.execute_input": "2024-04-13T15:09:44.107769Z",
     "iopub.status.busy": "2024-04-13T15:09:44.107355Z",
     "iopub.status.idle": "2024-04-13T15:09:44.140565Z",
     "shell.execute_reply": "2024-04-13T15:09:44.139005Z"
    },
    "papermill": {
     "duration": 0.04965,
     "end_time": "2024-04-13T15:09:44.143737",
     "exception": false,
     "start_time": "2024-04-13T15:09:44.094087",
     "status": "completed"
    },
    "tags": []
   },
   "outputs": [
    {
     "name": "stdout",
     "output_type": "stream",
     "text": [
      "<class 'pandas.core.frame.DataFrame'>\n",
      "RangeIndex: 336 entries, 0 to 335\n",
      "Data columns (total 20 columns):\n",
      " #   Column            Non-Null Count  Dtype  \n",
      "---  ------            --------------  -----  \n",
      " 0   artist_name       336 non-null    object \n",
      " 1   track_name        336 non-null    object \n",
      " 2   album_name        336 non-null    object \n",
      " 3   is_explicit       336 non-null    bool   \n",
      " 4   genres            336 non-null    object \n",
      " 5   release_date      336 non-null    object \n",
      " 6   track_id          336 non-null    object \n",
      " 7   danceability      336 non-null    float64\n",
      " 8   valence           336 non-null    float64\n",
      " 9   energy            336 non-null    float64\n",
      " 10  loudness          336 non-null    float64\n",
      " 11  acousticness      336 non-null    float64\n",
      " 12  instrumentalness  336 non-null    float64\n",
      " 13  liveness          336 non-null    float64\n",
      " 14  speechiness       336 non-null    float64\n",
      " 15  key               336 non-null    int64  \n",
      " 16  tempo             336 non-null    float64\n",
      " 17  mode              336 non-null    int64  \n",
      " 18  duration_ms       336 non-null    int64  \n",
      " 19  time_signature    336 non-null    int64  \n",
      "dtypes: bool(1), float64(9), int64(4), object(6)\n",
      "memory usage: 50.3+ KB\n"
     ]
    }
   ],
   "source": [
    "data.info()"
   ]
  },
  {
   "cell_type": "code",
   "execution_count": 8,
   "id": "3340b992",
   "metadata": {
    "execution": {
     "iopub.execute_input": "2024-04-13T15:09:44.168755Z",
     "iopub.status.busy": "2024-04-13T15:09:44.167689Z",
     "iopub.status.idle": "2024-04-13T15:09:44.221111Z",
     "shell.execute_reply": "2024-04-13T15:09:44.219941Z"
    },
    "papermill": {
     "duration": 0.068346,
     "end_time": "2024-04-13T15:09:44.224070",
     "exception": false,
     "start_time": "2024-04-13T15:09:44.155724",
     "status": "completed"
    },
    "tags": []
   },
   "outputs": [
    {
     "data": {
      "text/html": [
       "<div>\n",
       "<style scoped>\n",
       "    .dataframe tbody tr th:only-of-type {\n",
       "        vertical-align: middle;\n",
       "    }\n",
       "\n",
       "    .dataframe tbody tr th {\n",
       "        vertical-align: top;\n",
       "    }\n",
       "\n",
       "    .dataframe thead th {\n",
       "        text-align: right;\n",
       "    }\n",
       "</style>\n",
       "<table border=\"1\" class=\"dataframe\">\n",
       "  <thead>\n",
       "    <tr style=\"text-align: right;\">\n",
       "      <th></th>\n",
       "      <th>danceability</th>\n",
       "      <th>valence</th>\n",
       "      <th>energy</th>\n",
       "      <th>loudness</th>\n",
       "      <th>acousticness</th>\n",
       "      <th>instrumentalness</th>\n",
       "      <th>liveness</th>\n",
       "      <th>speechiness</th>\n",
       "      <th>key</th>\n",
       "      <th>tempo</th>\n",
       "      <th>mode</th>\n",
       "      <th>duration_ms</th>\n",
       "      <th>time_signature</th>\n",
       "    </tr>\n",
       "  </thead>\n",
       "  <tbody>\n",
       "    <tr>\n",
       "      <th>count</th>\n",
       "      <td>336.000000</td>\n",
       "      <td>336.000000</td>\n",
       "      <td>336.000000</td>\n",
       "      <td>336.000000</td>\n",
       "      <td>336.000000</td>\n",
       "      <td>336.000000</td>\n",
       "      <td>336.000000</td>\n",
       "      <td>336.000000</td>\n",
       "      <td>336.000000</td>\n",
       "      <td>336.000000</td>\n",
       "      <td>336.000000</td>\n",
       "      <td>336.000000</td>\n",
       "      <td>336.000000</td>\n",
       "    </tr>\n",
       "    <tr>\n",
       "      <th>mean</th>\n",
       "      <td>0.612640</td>\n",
       "      <td>0.490362</td>\n",
       "      <td>0.682492</td>\n",
       "      <td>-7.289720</td>\n",
       "      <td>0.138767</td>\n",
       "      <td>0.079687</td>\n",
       "      <td>0.305424</td>\n",
       "      <td>0.168143</td>\n",
       "      <td>5.181548</td>\n",
       "      <td>121.615961</td>\n",
       "      <td>0.651786</td>\n",
       "      <td>250289.229167</td>\n",
       "      <td>3.922619</td>\n",
       "    </tr>\n",
       "    <tr>\n",
       "      <th>std</th>\n",
       "      <td>0.155603</td>\n",
       "      <td>0.233648</td>\n",
       "      <td>0.189090</td>\n",
       "      <td>2.854806</td>\n",
       "      <td>0.219504</td>\n",
       "      <td>0.209146</td>\n",
       "      <td>0.265685</td>\n",
       "      <td>0.150844</td>\n",
       "      <td>3.568488</td>\n",
       "      <td>29.594229</td>\n",
       "      <td>0.477115</td>\n",
       "      <td>98478.940431</td>\n",
       "      <td>0.408814</td>\n",
       "    </tr>\n",
       "    <tr>\n",
       "      <th>min</th>\n",
       "      <td>0.143000</td>\n",
       "      <td>0.038800</td>\n",
       "      <td>0.045200</td>\n",
       "      <td>-27.432000</td>\n",
       "      <td>0.000066</td>\n",
       "      <td>0.000000</td>\n",
       "      <td>0.016200</td>\n",
       "      <td>0.027100</td>\n",
       "      <td>0.000000</td>\n",
       "      <td>66.930000</td>\n",
       "      <td>0.000000</td>\n",
       "      <td>16373.000000</td>\n",
       "      <td>1.000000</td>\n",
       "    </tr>\n",
       "    <tr>\n",
       "      <th>25%</th>\n",
       "      <td>0.508750</td>\n",
       "      <td>0.323000</td>\n",
       "      <td>0.557750</td>\n",
       "      <td>-8.451000</td>\n",
       "      <td>0.005295</td>\n",
       "      <td>0.000000</td>\n",
       "      <td>0.097200</td>\n",
       "      <td>0.053650</td>\n",
       "      <td>1.000000</td>\n",
       "      <td>97.076500</td>\n",
       "      <td>0.000000</td>\n",
       "      <td>200813.000000</td>\n",
       "      <td>4.000000</td>\n",
       "    </tr>\n",
       "    <tr>\n",
       "      <th>50%</th>\n",
       "      <td>0.635000</td>\n",
       "      <td>0.489500</td>\n",
       "      <td>0.715000</td>\n",
       "      <td>-6.750500</td>\n",
       "      <td>0.037200</td>\n",
       "      <td>0.000020</td>\n",
       "      <td>0.201000</td>\n",
       "      <td>0.106500</td>\n",
       "      <td>6.000000</td>\n",
       "      <td>123.015000</td>\n",
       "      <td>1.000000</td>\n",
       "      <td>228933.000000</td>\n",
       "      <td>4.000000</td>\n",
       "    </tr>\n",
       "    <tr>\n",
       "      <th>75%</th>\n",
       "      <td>0.725250</td>\n",
       "      <td>0.651000</td>\n",
       "      <td>0.821750</td>\n",
       "      <td>-5.446750</td>\n",
       "      <td>0.158000</td>\n",
       "      <td>0.005510</td>\n",
       "      <td>0.392750</td>\n",
       "      <td>0.254750</td>\n",
       "      <td>8.000000</td>\n",
       "      <td>136.039000</td>\n",
       "      <td>1.000000</td>\n",
       "      <td>278884.750000</td>\n",
       "      <td>4.000000</td>\n",
       "    </tr>\n",
       "    <tr>\n",
       "      <th>max</th>\n",
       "      <td>0.925000</td>\n",
       "      <td>0.971000</td>\n",
       "      <td>0.993000</td>\n",
       "      <td>-2.706000</td>\n",
       "      <td>0.994000</td>\n",
       "      <td>0.937000</td>\n",
       "      <td>0.983000</td>\n",
       "      <td>0.940000</td>\n",
       "      <td>11.000000</td>\n",
       "      <td>216.788000</td>\n",
       "      <td>1.000000</td>\n",
       "      <td>597520.000000</td>\n",
       "      <td>5.000000</td>\n",
       "    </tr>\n",
       "  </tbody>\n",
       "</table>\n",
       "</div>"
      ],
      "text/plain": [
       "       danceability     valence      energy    loudness  acousticness  \\\n",
       "count    336.000000  336.000000  336.000000  336.000000    336.000000   \n",
       "mean       0.612640    0.490362    0.682492   -7.289720      0.138767   \n",
       "std        0.155603    0.233648    0.189090    2.854806      0.219504   \n",
       "min        0.143000    0.038800    0.045200  -27.432000      0.000066   \n",
       "25%        0.508750    0.323000    0.557750   -8.451000      0.005295   \n",
       "50%        0.635000    0.489500    0.715000   -6.750500      0.037200   \n",
       "75%        0.725250    0.651000    0.821750   -5.446750      0.158000   \n",
       "max        0.925000    0.971000    0.993000   -2.706000      0.994000   \n",
       "\n",
       "       instrumentalness    liveness  speechiness         key       tempo  \\\n",
       "count        336.000000  336.000000   336.000000  336.000000  336.000000   \n",
       "mean           0.079687    0.305424     0.168143    5.181548  121.615961   \n",
       "std            0.209146    0.265685     0.150844    3.568488   29.594229   \n",
       "min            0.000000    0.016200     0.027100    0.000000   66.930000   \n",
       "25%            0.000000    0.097200     0.053650    1.000000   97.076500   \n",
       "50%            0.000020    0.201000     0.106500    6.000000  123.015000   \n",
       "75%            0.005510    0.392750     0.254750    8.000000  136.039000   \n",
       "max            0.937000    0.983000     0.940000   11.000000  216.788000   \n",
       "\n",
       "             mode    duration_ms  time_signature  \n",
       "count  336.000000     336.000000      336.000000  \n",
       "mean     0.651786  250289.229167        3.922619  \n",
       "std      0.477115   98478.940431        0.408814  \n",
       "min      0.000000   16373.000000        1.000000  \n",
       "25%      0.000000  200813.000000        4.000000  \n",
       "50%      1.000000  228933.000000        4.000000  \n",
       "75%      1.000000  278884.750000        4.000000  \n",
       "max      1.000000  597520.000000        5.000000  "
      ]
     },
     "execution_count": 8,
     "metadata": {},
     "output_type": "execute_result"
    }
   ],
   "source": [
    "data.describe()"
   ]
  },
  {
   "cell_type": "markdown",
   "id": "dbcf1a6e",
   "metadata": {
    "papermill": {
     "duration": 0.010791,
     "end_time": "2024-04-13T15:09:44.246093",
     "exception": false,
     "start_time": "2024-04-13T15:09:44.235302",
     "status": "completed"
    },
    "tags": []
   },
   "source": [
    "# Check for any missing values"
   ]
  },
  {
   "cell_type": "code",
   "execution_count": 9,
   "id": "d16196d7",
   "metadata": {
    "execution": {
     "iopub.execute_input": "2024-04-13T15:09:44.270911Z",
     "iopub.status.busy": "2024-04-13T15:09:44.270113Z",
     "iopub.status.idle": "2024-04-13T15:09:44.280469Z",
     "shell.execute_reply": "2024-04-13T15:09:44.279291Z"
    },
    "papermill": {
     "duration": 0.025633,
     "end_time": "2024-04-13T15:09:44.282880",
     "exception": false,
     "start_time": "2024-04-13T15:09:44.257247",
     "status": "completed"
    },
    "tags": []
   },
   "outputs": [
    {
     "data": {
      "text/plain": [
       "artist_name         0\n",
       "track_name          0\n",
       "album_name          0\n",
       "is_explicit         0\n",
       "genres              0\n",
       "release_date        0\n",
       "track_id            0\n",
       "danceability        0\n",
       "valence             0\n",
       "energy              0\n",
       "loudness            0\n",
       "acousticness        0\n",
       "instrumentalness    0\n",
       "liveness            0\n",
       "speechiness         0\n",
       "key                 0\n",
       "tempo               0\n",
       "mode                0\n",
       "duration_ms         0\n",
       "time_signature      0\n",
       "dtype: int64"
      ]
     },
     "execution_count": 9,
     "metadata": {},
     "output_type": "execute_result"
    }
   ],
   "source": [
    "data.isnull().sum()"
   ]
  },
  {
   "cell_type": "code",
   "execution_count": 10,
   "id": "cfac0270",
   "metadata": {
    "execution": {
     "iopub.execute_input": "2024-04-13T15:09:44.307197Z",
     "iopub.status.busy": "2024-04-13T15:09:44.306322Z",
     "iopub.status.idle": "2024-04-13T15:09:44.318448Z",
     "shell.execute_reply": "2024-04-13T15:09:44.316881Z"
    },
    "papermill": {
     "duration": 0.027812,
     "end_time": "2024-04-13T15:09:44.321496",
     "exception": false,
     "start_time": "2024-04-13T15:09:44.293684",
     "status": "completed"
    },
    "tags": []
   },
   "outputs": [
    {
     "data": {
      "text/plain": [
       "0"
      ]
     },
     "execution_count": 10,
     "metadata": {},
     "output_type": "execute_result"
    }
   ],
   "source": [
    "data.duplicated().sum()"
   ]
  },
  {
   "cell_type": "code",
   "execution_count": 11,
   "id": "ce73f443",
   "metadata": {
    "execution": {
     "iopub.execute_input": "2024-04-13T15:09:44.346973Z",
     "iopub.status.busy": "2024-04-13T15:09:44.346521Z",
     "iopub.status.idle": "2024-04-13T15:09:44.355249Z",
     "shell.execute_reply": "2024-04-13T15:09:44.353941Z"
    },
    "papermill": {
     "duration": 0.024428,
     "end_time": "2024-04-13T15:09:44.357817",
     "exception": false,
     "start_time": "2024-04-13T15:09:44.333389",
     "status": "completed"
    },
    "tags": []
   },
   "outputs": [
    {
     "data": {
      "text/plain": [
       "84"
      ]
     },
     "execution_count": 11,
     "metadata": {},
     "output_type": "execute_result"
    }
   ],
   "source": [
    "duplicate_track=data['track_name'].duplicated(keep=False)\n",
    "duplicate_track.sum()"
   ]
  },
  {
   "cell_type": "code",
   "execution_count": 12,
   "id": "c83a31bb",
   "metadata": {
    "execution": {
     "iopub.execute_input": "2024-04-13T15:09:44.383253Z",
     "iopub.status.busy": "2024-04-13T15:09:44.382813Z",
     "iopub.status.idle": "2024-04-13T15:09:44.401512Z",
     "shell.execute_reply": "2024-04-13T15:09:44.399449Z"
    },
    "papermill": {
     "duration": 0.034994,
     "end_time": "2024-04-13T15:09:44.404575",
     "exception": false,
     "start_time": "2024-04-13T15:09:44.369581",
     "status": "completed"
    },
    "tags": []
   },
   "outputs": [
    {
     "name": "stdout",
     "output_type": "stream",
     "text": [
      "                           artist_name               track_name  \\\n",
      "30   Beyoncé, Shatta Wale, Major Lazer                  ALREADY   \n",
      "20   Beyoncé, Shatta Wale, Major Lazer                  ALREADY   \n",
      "272       Beyoncé, Alejandro Fernández              Amor Gitano   \n",
      "185       Beyoncé, Alejandro Fernández              Amor Gitano   \n",
      "16                             Beyoncé                   BIGGER   \n",
      "..                                 ...                      ...   \n",
      "194                            Beyoncé                Suga Mama   \n",
      "242                            Beyoncé             Sweet Dreams   \n",
      "164                            Beyoncé             Sweet Dreams   \n",
      "174                     Beyoncé, JAY-Z  Upgrade U (feat. Jay-Z)   \n",
      "195                     Beyoncé, JAY-Z  Upgrade U (feat. Jay-Z)   \n",
      "\n",
      "                                   album_name release_date  \n",
      "30                    The Lion King: The Gift   2019-07-19  \n",
      "20   The Lion King: The Gift [Deluxe Edition]   2020-07-31  \n",
      "272                            Irreemplazable   2007-08-27  \n",
      "185                      B'Day Deluxe Edition   2007-05-29  \n",
      "16   The Lion King: The Gift [Deluxe Edition]   2020-07-31  \n",
      "..                                        ...          ...  \n",
      "194                                     B'Day   2006-09-04  \n",
      "242    Ego/Sweet Dreams Singles & Dance Mixes   2009-07-21  \n",
      "164                       I AM...SASHA FIERCE   2008-11-14  \n",
      "174                      B'Day Deluxe Edition   2007-05-29  \n",
      "195                                     B'Day   2006-09-04  \n",
      "\n",
      "[84 rows x 4 columns]\n"
     ]
    }
   ],
   "source": [
    "if duplicate_track.sum()>0:\n",
    "    df_duplicate_track=data[duplicate_track].sort_values(by='track_name')\n",
    "    print(df_duplicate_track[['artist_name', 'track_name', 'album_name', 'release_date']])"
   ]
  },
  {
   "cell_type": "code",
   "execution_count": 13,
   "id": "d72ab607",
   "metadata": {
    "execution": {
     "iopub.execute_input": "2024-04-13T15:09:44.429958Z",
     "iopub.status.busy": "2024-04-13T15:09:44.429464Z",
     "iopub.status.idle": "2024-04-13T15:09:44.458260Z",
     "shell.execute_reply": "2024-04-13T15:09:44.456695Z"
    },
    "papermill": {
     "duration": 0.044668,
     "end_time": "2024-04-13T15:09:44.460943",
     "exception": false,
     "start_time": "2024-04-13T15:09:44.416275",
     "status": "completed"
    },
    "tags": []
   },
   "outputs": [
    {
     "data": {
      "text/html": [
       "<div>\n",
       "<style scoped>\n",
       "    .dataframe tbody tr th:only-of-type {\n",
       "        vertical-align: middle;\n",
       "    }\n",
       "\n",
       "    .dataframe tbody tr th {\n",
       "        vertical-align: top;\n",
       "    }\n",
       "\n",
       "    .dataframe thead th {\n",
       "        text-align: right;\n",
       "    }\n",
       "</style>\n",
       "<table border=\"1\" class=\"dataframe\">\n",
       "  <thead>\n",
       "    <tr style=\"text-align: right;\">\n",
       "      <th></th>\n",
       "      <th>artist_name</th>\n",
       "      <th>track_name</th>\n",
       "      <th>album_name</th>\n",
       "      <th>is_explicit</th>\n",
       "      <th>genres</th>\n",
       "      <th>release_date</th>\n",
       "      <th>track_id</th>\n",
       "      <th>danceability</th>\n",
       "      <th>valence</th>\n",
       "      <th>energy</th>\n",
       "      <th>loudness</th>\n",
       "      <th>acousticness</th>\n",
       "      <th>instrumentalness</th>\n",
       "      <th>liveness</th>\n",
       "      <th>speechiness</th>\n",
       "      <th>key</th>\n",
       "      <th>tempo</th>\n",
       "      <th>mode</th>\n",
       "      <th>duration_ms</th>\n",
       "      <th>time_signature</th>\n",
       "    </tr>\n",
       "  </thead>\n",
       "  <tbody>\n",
       "    <tr>\n",
       "      <th>30</th>\n",
       "      <td>Beyoncé, Shatta Wale, Major Lazer</td>\n",
       "      <td>ALREADY</td>\n",
       "      <td>The Lion King: The Gift</td>\n",
       "      <td>False</td>\n",
       "      <td>pop, r&amp;b</td>\n",
       "      <td>2019-07-19</td>\n",
       "      <td>6tgEc2O1uFHcZDKPoo6PC8</td>\n",
       "      <td>0.647</td>\n",
       "      <td>0.548</td>\n",
       "      <td>0.732</td>\n",
       "      <td>-5.846</td>\n",
       "      <td>0.0846</td>\n",
       "      <td>0.0</td>\n",
       "      <td>0.597</td>\n",
       "      <td>0.0891</td>\n",
       "      <td>2</td>\n",
       "      <td>67.295</td>\n",
       "      <td>1</td>\n",
       "      <td>222529</td>\n",
       "      <td>3</td>\n",
       "    </tr>\n",
       "    <tr>\n",
       "      <th>20</th>\n",
       "      <td>Beyoncé, Shatta Wale, Major Lazer</td>\n",
       "      <td>ALREADY</td>\n",
       "      <td>The Lion King: The Gift [Deluxe Edition]</td>\n",
       "      <td>False</td>\n",
       "      <td>pop, r&amp;b</td>\n",
       "      <td>2020-07-31</td>\n",
       "      <td>1TSinFFcDJJzR6ErO81Y3c</td>\n",
       "      <td>0.671</td>\n",
       "      <td>0.543</td>\n",
       "      <td>0.755</td>\n",
       "      <td>-5.831</td>\n",
       "      <td>0.0876</td>\n",
       "      <td>0.0</td>\n",
       "      <td>0.429</td>\n",
       "      <td>0.0683</td>\n",
       "      <td>2</td>\n",
       "      <td>67.332</td>\n",
       "      <td>0</td>\n",
       "      <td>223422</td>\n",
       "      <td>3</td>\n",
       "    </tr>\n",
       "    <tr>\n",
       "      <th>272</th>\n",
       "      <td>Beyoncé, Alejandro Fernández</td>\n",
       "      <td>Amor Gitano</td>\n",
       "      <td>Irreemplazable</td>\n",
       "      <td>False</td>\n",
       "      <td>pop, r&amp;b</td>\n",
       "      <td>2007-08-27</td>\n",
       "      <td>2N1D0rf5uu3kYLxgEXWB8E</td>\n",
       "      <td>0.390</td>\n",
       "      <td>0.627</td>\n",
       "      <td>0.758</td>\n",
       "      <td>-5.687</td>\n",
       "      <td>0.4570</td>\n",
       "      <td>0.0</td>\n",
       "      <td>0.188</td>\n",
       "      <td>0.3220</td>\n",
       "      <td>4</td>\n",
       "      <td>168.128</td>\n",
       "      <td>0</td>\n",
       "      <td>228413</td>\n",
       "      <td>4</td>\n",
       "    </tr>\n",
       "    <tr>\n",
       "      <th>185</th>\n",
       "      <td>Beyoncé, Alejandro Fernández</td>\n",
       "      <td>Amor Gitano</td>\n",
       "      <td>B'Day Deluxe Edition</td>\n",
       "      <td>False</td>\n",
       "      <td>pop, r&amp;b</td>\n",
       "      <td>2007-05-29</td>\n",
       "      <td>1Kd5Qj9kicqjCw1BjWRzH0</td>\n",
       "      <td>0.491</td>\n",
       "      <td>0.596</td>\n",
       "      <td>0.745</td>\n",
       "      <td>-5.631</td>\n",
       "      <td>0.4730</td>\n",
       "      <td>0.0</td>\n",
       "      <td>0.239</td>\n",
       "      <td>0.2540</td>\n",
       "      <td>4</td>\n",
       "      <td>167.875</td>\n",
       "      <td>0</td>\n",
       "      <td>228413</td>\n",
       "      <td>4</td>\n",
       "    </tr>\n",
       "    <tr>\n",
       "      <th>16</th>\n",
       "      <td>Beyoncé</td>\n",
       "      <td>BIGGER</td>\n",
       "      <td>The Lion King: The Gift [Deluxe Edition]</td>\n",
       "      <td>False</td>\n",
       "      <td>pop, r&amp;b</td>\n",
       "      <td>2020-07-31</td>\n",
       "      <td>0gdOcxvPU37ADE7vPkgQsv</td>\n",
       "      <td>0.509</td>\n",
       "      <td>0.181</td>\n",
       "      <td>0.360</td>\n",
       "      <td>-8.200</td>\n",
       "      <td>0.6330</td>\n",
       "      <td>0.0</td>\n",
       "      <td>0.130</td>\n",
       "      <td>0.0361</td>\n",
       "      <td>5</td>\n",
       "      <td>129.624</td>\n",
       "      <td>0</td>\n",
       "      <td>226361</td>\n",
       "      <td>4</td>\n",
       "    </tr>\n",
       "  </tbody>\n",
       "</table>\n",
       "</div>"
      ],
      "text/plain": [
       "                           artist_name   track_name  \\\n",
       "30   Beyoncé, Shatta Wale, Major Lazer      ALREADY   \n",
       "20   Beyoncé, Shatta Wale, Major Lazer      ALREADY   \n",
       "272       Beyoncé, Alejandro Fernández  Amor Gitano   \n",
       "185       Beyoncé, Alejandro Fernández  Amor Gitano   \n",
       "16                             Beyoncé       BIGGER   \n",
       "\n",
       "                                   album_name  is_explicit    genres  \\\n",
       "30                    The Lion King: The Gift        False  pop, r&b   \n",
       "20   The Lion King: The Gift [Deluxe Edition]        False  pop, r&b   \n",
       "272                            Irreemplazable        False  pop, r&b   \n",
       "185                      B'Day Deluxe Edition        False  pop, r&b   \n",
       "16   The Lion King: The Gift [Deluxe Edition]        False  pop, r&b   \n",
       "\n",
       "    release_date                track_id  danceability  valence  energy  \\\n",
       "30    2019-07-19  6tgEc2O1uFHcZDKPoo6PC8         0.647    0.548   0.732   \n",
       "20    2020-07-31  1TSinFFcDJJzR6ErO81Y3c         0.671    0.543   0.755   \n",
       "272   2007-08-27  2N1D0rf5uu3kYLxgEXWB8E         0.390    0.627   0.758   \n",
       "185   2007-05-29  1Kd5Qj9kicqjCw1BjWRzH0         0.491    0.596   0.745   \n",
       "16    2020-07-31  0gdOcxvPU37ADE7vPkgQsv         0.509    0.181   0.360   \n",
       "\n",
       "     loudness  acousticness  instrumentalness  liveness  speechiness  key  \\\n",
       "30     -5.846        0.0846               0.0     0.597       0.0891    2   \n",
       "20     -5.831        0.0876               0.0     0.429       0.0683    2   \n",
       "272    -5.687        0.4570               0.0     0.188       0.3220    4   \n",
       "185    -5.631        0.4730               0.0     0.239       0.2540    4   \n",
       "16     -8.200        0.6330               0.0     0.130       0.0361    5   \n",
       "\n",
       "       tempo  mode  duration_ms  time_signature  \n",
       "30    67.295     1       222529               3  \n",
       "20    67.332     0       223422               3  \n",
       "272  168.128     0       228413               4  \n",
       "185  167.875     0       228413               4  \n",
       "16   129.624     0       226361               4  "
      ]
     },
     "execution_count": 13,
     "metadata": {},
     "output_type": "execute_result"
    }
   ],
   "source": [
    "df_duplicate_track.head()"
   ]
  },
  {
   "cell_type": "code",
   "execution_count": 14,
   "id": "2463720f",
   "metadata": {
    "execution": {
     "iopub.execute_input": "2024-04-13T15:09:44.489769Z",
     "iopub.status.busy": "2024-04-13T15:09:44.488666Z",
     "iopub.status.idle": "2024-04-13T15:09:44.495872Z",
     "shell.execute_reply": "2024-04-13T15:09:44.494760Z"
    },
    "papermill": {
     "duration": 0.025134,
     "end_time": "2024-04-13T15:09:44.498307",
     "exception": false,
     "start_time": "2024-04-13T15:09:44.473173",
     "status": "completed"
    },
    "tags": []
   },
   "outputs": [],
   "source": [
    "data.drop(['track_id'],axis=1,inplace=True)"
   ]
  },
  {
   "cell_type": "code",
   "execution_count": 15,
   "id": "3a6cfa22",
   "metadata": {
    "execution": {
     "iopub.execute_input": "2024-04-13T15:09:44.525306Z",
     "iopub.status.busy": "2024-04-13T15:09:44.524929Z",
     "iopub.status.idle": "2024-04-13T15:09:44.550363Z",
     "shell.execute_reply": "2024-04-13T15:09:44.549203Z"
    },
    "papermill": {
     "duration": 0.042253,
     "end_time": "2024-04-13T15:09:44.552859",
     "exception": false,
     "start_time": "2024-04-13T15:09:44.510606",
     "status": "completed"
    },
    "tags": []
   },
   "outputs": [
    {
     "data": {
      "text/html": [
       "<div>\n",
       "<style scoped>\n",
       "    .dataframe tbody tr th:only-of-type {\n",
       "        vertical-align: middle;\n",
       "    }\n",
       "\n",
       "    .dataframe tbody tr th {\n",
       "        vertical-align: top;\n",
       "    }\n",
       "\n",
       "    .dataframe thead th {\n",
       "        text-align: right;\n",
       "    }\n",
       "</style>\n",
       "<table border=\"1\" class=\"dataframe\">\n",
       "  <thead>\n",
       "    <tr style=\"text-align: right;\">\n",
       "      <th></th>\n",
       "      <th>artist_name</th>\n",
       "      <th>track_name</th>\n",
       "      <th>album_name</th>\n",
       "      <th>is_explicit</th>\n",
       "      <th>genres</th>\n",
       "      <th>release_date</th>\n",
       "      <th>danceability</th>\n",
       "      <th>valence</th>\n",
       "      <th>energy</th>\n",
       "      <th>loudness</th>\n",
       "      <th>acousticness</th>\n",
       "      <th>instrumentalness</th>\n",
       "      <th>liveness</th>\n",
       "      <th>speechiness</th>\n",
       "      <th>key</th>\n",
       "      <th>tempo</th>\n",
       "      <th>mode</th>\n",
       "      <th>duration_ms</th>\n",
       "      <th>time_signature</th>\n",
       "    </tr>\n",
       "  </thead>\n",
       "  <tbody>\n",
       "    <tr>\n",
       "      <th>0</th>\n",
       "      <td>Beyoncé</td>\n",
       "      <td>I'M THAT GIRL</td>\n",
       "      <td>RENAISSANCE</td>\n",
       "      <td>True</td>\n",
       "      <td>pop, r&amp;b</td>\n",
       "      <td>2022-07-29</td>\n",
       "      <td>0.554</td>\n",
       "      <td>0.136</td>\n",
       "      <td>0.535</td>\n",
       "      <td>-8.959</td>\n",
       "      <td>0.061600</td>\n",
       "      <td>0.000013</td>\n",
       "      <td>0.1240</td>\n",
       "      <td>0.1860</td>\n",
       "      <td>5</td>\n",
       "      <td>105.865</td>\n",
       "      <td>0</td>\n",
       "      <td>208014</td>\n",
       "      <td>4</td>\n",
       "    </tr>\n",
       "    <tr>\n",
       "      <th>1</th>\n",
       "      <td>Beyoncé</td>\n",
       "      <td>COZY</td>\n",
       "      <td>RENAISSANCE</td>\n",
       "      <td>True</td>\n",
       "      <td>pop, r&amp;b</td>\n",
       "      <td>2022-07-29</td>\n",
       "      <td>0.556</td>\n",
       "      <td>0.367</td>\n",
       "      <td>0.630</td>\n",
       "      <td>-8.150</td>\n",
       "      <td>0.000828</td>\n",
       "      <td>0.004680</td>\n",
       "      <td>0.1550</td>\n",
       "      <td>0.1020</td>\n",
       "      <td>7</td>\n",
       "      <td>149.147</td>\n",
       "      <td>1</td>\n",
       "      <td>210372</td>\n",
       "      <td>5</td>\n",
       "    </tr>\n",
       "    <tr>\n",
       "      <th>2</th>\n",
       "      <td>Beyoncé</td>\n",
       "      <td>ALIEN SUPERSTAR</td>\n",
       "      <td>RENAISSANCE</td>\n",
       "      <td>True</td>\n",
       "      <td>pop, r&amp;b</td>\n",
       "      <td>2022-07-29</td>\n",
       "      <td>0.545</td>\n",
       "      <td>0.464</td>\n",
       "      <td>0.641</td>\n",
       "      <td>-6.398</td>\n",
       "      <td>0.004530</td>\n",
       "      <td>0.000066</td>\n",
       "      <td>0.1710</td>\n",
       "      <td>0.0998</td>\n",
       "      <td>10</td>\n",
       "      <td>121.892</td>\n",
       "      <td>0</td>\n",
       "      <td>215460</td>\n",
       "      <td>4</td>\n",
       "    </tr>\n",
       "    <tr>\n",
       "      <th>3</th>\n",
       "      <td>Beyoncé</td>\n",
       "      <td>CUFF IT</td>\n",
       "      <td>RENAISSANCE</td>\n",
       "      <td>True</td>\n",
       "      <td>pop, r&amp;b</td>\n",
       "      <td>2022-07-29</td>\n",
       "      <td>0.780</td>\n",
       "      <td>0.642</td>\n",
       "      <td>0.689</td>\n",
       "      <td>-5.668</td>\n",
       "      <td>0.036800</td>\n",
       "      <td>0.000010</td>\n",
       "      <td>0.0698</td>\n",
       "      <td>0.1410</td>\n",
       "      <td>7</td>\n",
       "      <td>115.042</td>\n",
       "      <td>1</td>\n",
       "      <td>225389</td>\n",
       "      <td>4</td>\n",
       "    </tr>\n",
       "    <tr>\n",
       "      <th>4</th>\n",
       "      <td>Beyoncé, BEAM</td>\n",
       "      <td>ENERGY (feat. Beam)</td>\n",
       "      <td>RENAISSANCE</td>\n",
       "      <td>False</td>\n",
       "      <td>pop, r&amp;b</td>\n",
       "      <td>2022-07-29</td>\n",
       "      <td>0.903</td>\n",
       "      <td>0.587</td>\n",
       "      <td>0.519</td>\n",
       "      <td>-9.151</td>\n",
       "      <td>0.281000</td>\n",
       "      <td>0.000106</td>\n",
       "      <td>0.1550</td>\n",
       "      <td>0.2600</td>\n",
       "      <td>1</td>\n",
       "      <td>114.991</td>\n",
       "      <td>1</td>\n",
       "      <td>116727</td>\n",
       "      <td>4</td>\n",
       "    </tr>\n",
       "  </tbody>\n",
       "</table>\n",
       "</div>"
      ],
      "text/plain": [
       "     artist_name           track_name   album_name  is_explicit    genres  \\\n",
       "0        Beyoncé        I'M THAT GIRL  RENAISSANCE         True  pop, r&b   \n",
       "1        Beyoncé                 COZY  RENAISSANCE         True  pop, r&b   \n",
       "2        Beyoncé      ALIEN SUPERSTAR  RENAISSANCE         True  pop, r&b   \n",
       "3        Beyoncé              CUFF IT  RENAISSANCE         True  pop, r&b   \n",
       "4  Beyoncé, BEAM  ENERGY (feat. Beam)  RENAISSANCE        False  pop, r&b   \n",
       "\n",
       "  release_date  danceability  valence  energy  loudness  acousticness  \\\n",
       "0   2022-07-29         0.554    0.136   0.535    -8.959      0.061600   \n",
       "1   2022-07-29         0.556    0.367   0.630    -8.150      0.000828   \n",
       "2   2022-07-29         0.545    0.464   0.641    -6.398      0.004530   \n",
       "3   2022-07-29         0.780    0.642   0.689    -5.668      0.036800   \n",
       "4   2022-07-29         0.903    0.587   0.519    -9.151      0.281000   \n",
       "\n",
       "   instrumentalness  liveness  speechiness  key    tempo  mode  duration_ms  \\\n",
       "0          0.000013    0.1240       0.1860    5  105.865     0       208014   \n",
       "1          0.004680    0.1550       0.1020    7  149.147     1       210372   \n",
       "2          0.000066    0.1710       0.0998   10  121.892     0       215460   \n",
       "3          0.000010    0.0698       0.1410    7  115.042     1       225389   \n",
       "4          0.000106    0.1550       0.2600    1  114.991     1       116727   \n",
       "\n",
       "   time_signature  \n",
       "0               4  \n",
       "1               5  \n",
       "2               4  \n",
       "3               4  \n",
       "4               4  "
      ]
     },
     "execution_count": 15,
     "metadata": {},
     "output_type": "execute_result"
    }
   ],
   "source": [
    "data.head()"
   ]
  },
  {
   "cell_type": "code",
   "execution_count": 16,
   "id": "3785d36f",
   "metadata": {
    "execution": {
     "iopub.execute_input": "2024-04-13T15:09:44.580075Z",
     "iopub.status.busy": "2024-04-13T15:09:44.579459Z",
     "iopub.status.idle": "2024-04-13T15:09:44.592793Z",
     "shell.execute_reply": "2024-04-13T15:09:44.591299Z"
    },
    "papermill": {
     "duration": 0.030858,
     "end_time": "2024-04-13T15:09:44.596246",
     "exception": false,
     "start_time": "2024-04-13T15:09:44.565388",
     "status": "completed"
    },
    "tags": []
   },
   "outputs": [],
   "source": [
    "#data wrangling\n",
    "data['release_date']=pd.to_datetime(data['release_date'])"
   ]
  },
  {
   "cell_type": "code",
   "execution_count": 17,
   "id": "1a8f0693",
   "metadata": {
    "execution": {
     "iopub.execute_input": "2024-04-13T15:09:44.624920Z",
     "iopub.status.busy": "2024-04-13T15:09:44.623759Z",
     "iopub.status.idle": "2024-04-13T15:09:44.634325Z",
     "shell.execute_reply": "2024-04-13T15:09:44.632888Z"
    },
    "papermill": {
     "duration": 0.027949,
     "end_time": "2024-04-13T15:09:44.637104",
     "exception": false,
     "start_time": "2024-04-13T15:09:44.609155",
     "status": "completed"
    },
    "tags": []
   },
   "outputs": [
    {
     "data": {
      "text/plain": [
       "0     2022-07-29\n",
       "1     2022-07-29\n",
       "2     2022-07-29\n",
       "3     2022-07-29\n",
       "4     2022-07-29\n",
       "         ...    \n",
       "331   2003-05-20\n",
       "332   2002-06-17\n",
       "333   2002-06-17\n",
       "334   2002-06-17\n",
       "335   2002-06-17\n",
       "Name: release_date, Length: 336, dtype: datetime64[ns]"
      ]
     },
     "execution_count": 17,
     "metadata": {},
     "output_type": "execute_result"
    }
   ],
   "source": [
    "data['release_date']"
   ]
  },
  {
   "cell_type": "markdown",
   "id": "d44bf54a",
   "metadata": {
    "papermill": {
     "duration": 0.012861,
     "end_time": "2024-04-13T15:09:44.662814",
     "exception": false,
     "start_time": "2024-04-13T15:09:44.649953",
     "status": "completed"
    },
    "tags": []
   },
   "source": [
    "# Distribution of numerical features"
   ]
  },
  {
   "cell_type": "code",
   "execution_count": 18,
   "id": "e48e44ad",
   "metadata": {
    "execution": {
     "iopub.execute_input": "2024-04-13T15:09:44.692363Z",
     "iopub.status.busy": "2024-04-13T15:09:44.691973Z",
     "iopub.status.idle": "2024-04-13T15:09:47.507627Z",
     "shell.execute_reply": "2024-04-13T15:09:47.506308Z"
    },
    "papermill": {
     "duration": 2.834803,
     "end_time": "2024-04-13T15:09:47.511111",
     "exception": false,
     "start_time": "2024-04-13T15:09:44.676308",
     "status": "completed"
    },
    "tags": []
   },
   "outputs": [
    {
     "data": {
      "image/png": "[encoded data removed]",
      "text/plain": [
       "<Figure size 1500x1000 with 12 Axes>"
      ]
     },
     "metadata": {},
     "output_type": "display_data"
    }
   ],
   "source": [
    "num_cols= ['danceability', 'valence', 'energy', 'loudness', 'acousticness', \n",
    "            'instrumentalness', 'liveness', 'speechiness', 'tempo', 'duration_ms']\n",
    "data[num_cols].hist(figsize=(15, 10))\n",
    "plt.tight_layout()\n",
    "plt.show()"
   ]
  },
  {
   "cell_type": "code",
   "execution_count": 19,
   "id": "3ab84f96",
   "metadata": {
    "execution": {
     "iopub.execute_input": "2024-04-13T15:09:47.542302Z",
     "iopub.status.busy": "2024-04-13T15:09:47.541741Z",
     "iopub.status.idle": "2024-04-13T15:09:47.840494Z",
     "shell.execute_reply": "2024-04-13T15:09:47.839504Z"
    },
    "papermill": {
     "duration": 0.317538,
     "end_time": "2024-04-13T15:09:47.842915",
     "exception": false,
     "start_time": "2024-04-13T15:09:47.525377",
     "status": "completed"
    },
    "tags": []
   },
   "outputs": [
    {
     "data": {
      "image/png": "[encoded data removed]",
      "text/plain": [
       "<Figure size 800x800 with 1 Axes>"
      ]
     },
     "metadata": {},
     "output_type": "display_data"
    }
   ],
   "source": [
    "genre= data['genres'].value_counts()\n",
    "plt.figure(figsize=(8,8))\n",
    "genre.plot(kind='bar')\n",
    "plt.title('Distribution of Music Genres in Beyoncé Tracks')\n",
    "plt.xlabel('Genre')\n",
    "plt.ylabel('Frequency')\n",
    "plt.xticks(rotation=45)\n",
    "plt.show()"
   ]
  },
  {
   "cell_type": "code",
   "execution_count": 20,
   "id": "5ad0fd59",
   "metadata": {
    "execution": {
     "iopub.execute_input": "2024-04-13T15:09:47.874543Z",
     "iopub.status.busy": "2024-04-13T15:09:47.873931Z",
     "iopub.status.idle": "2024-04-13T15:09:48.135337Z",
     "shell.execute_reply": "2024-04-13T15:09:48.134325Z"
    },
    "papermill": {
     "duration": 0.280073,
     "end_time": "2024-04-13T15:09:48.137736",
     "exception": false,
     "start_time": "2024-04-13T15:09:47.857663",
     "status": "completed"
    },
    "tags": []
   },
   "outputs": [
    {
     "data": {
      "image/png": "[encoded data removed]",
      "text/plain": [
       "<Figure size 640x480 with 1 Axes>"
      ]
     },
     "metadata": {},
     "output_type": "display_data"
    }
   ],
   "source": [
    "explicit_counts=data['is_explicit'].value_counts()\n",
    "explicit_counts.plot(kind='bar')\n",
    "plt.title(\"Distribution of explicit content\")\n",
    "plt.xlabel(\"Presence of Explicit\")\n",
    "plt.ylabel(\"Frequecy\")\n",
    "plt.xticks([0,1],['Non_Explicit','Explicit'],rotation=45)\n",
    "plt.show()\n"
   ]
  },
  {
   "cell_type": "code",
   "execution_count": 21,
   "id": "c6d67676",
   "metadata": {
    "execution": {
     "iopub.execute_input": "2024-04-13T15:09:48.169986Z",
     "iopub.status.busy": "2024-04-13T15:09:48.169266Z",
     "iopub.status.idle": "2024-04-13T15:09:48.179930Z",
     "shell.execute_reply": "2024-04-13T15:09:48.178716Z"
    },
    "papermill": {
     "duration": 0.030162,
     "end_time": "2024-04-13T15:09:48.182843",
     "exception": false,
     "start_time": "2024-04-13T15:09:48.152681",
     "status": "completed"
    },
    "tags": []
   },
   "outputs": [
    {
     "data": {
      "text/plain": [
       "count    336.000000\n",
       "mean       0.612640\n",
       "std        0.155603\n",
       "min        0.143000\n",
       "25%        0.508750\n",
       "50%        0.635000\n",
       "75%        0.725250\n",
       "max        0.925000\n",
       "Name: danceability, dtype: float64"
      ]
     },
     "execution_count": 21,
     "metadata": {},
     "output_type": "execute_result"
    }
   ],
   "source": [
    "data['danceability'].describe()"
   ]
  },
  {
   "cell_type": "code",
   "execution_count": 22,
   "id": "d742b4a3",
   "metadata": {
    "execution": {
     "iopub.execute_input": "2024-04-13T15:09:48.216498Z",
     "iopub.status.busy": "2024-04-13T15:09:48.216064Z",
     "iopub.status.idle": "2024-04-13T15:09:48.785284Z",
     "shell.execute_reply": "2024-04-13T15:09:48.783928Z"
    },
    "papermill": {
     "duration": 0.589406,
     "end_time": "2024-04-13T15:09:48.788040",
     "exception": false,
     "start_time": "2024-04-13T15:09:48.198634",
     "status": "completed"
    },
    "tags": []
   },
   "outputs": [
    {
     "data": {
      "image/png": "[encoded data removed]",
      "text/plain": [
       "<Figure size 1000x600 with 1 Axes>"
      ]
     },
     "metadata": {},
     "output_type": "display_data"
    }
   ],
   "source": [
    "sns.set(style=\"whitegrid\")\n",
    "\n",
    "# Create a histogram of danceability scores\n",
    "plt.figure(figsize=(10, 6))\n",
    "sns.histplot(data=data, x='danceability', kde=True, color='skyblue', bins=20)\n",
    "plt.title(\"Distribution of Danceability Scores for Beyoncé's Tracks\", fontsize=16)\n",
    "plt.xlabel(\"Danceability Score\", fontsize=14)\n",
    "plt.ylabel(\"Frequency\", fontsize=14)\n",
    "plt.show()"
   ]
  },
  {
   "cell_type": "markdown",
   "id": "271206f6",
   "metadata": {
    "papermill": {
     "duration": 0.015601,
     "end_time": "2024-04-13T15:09:48.820418",
     "exception": false,
     "start_time": "2024-04-13T15:09:48.804817",
     "status": "completed"
    },
    "tags": []
   },
   "source": [
    "a left-skewed distribution suggests that Beyoncé's tracks generally tend to be highly danceable, with only a few tracks having lower danceability scores. This interpretation aligns with the idea that Beyoncé's music is often energetic and suitable for dancing."
   ]
  },
  {
   "cell_type": "code",
   "execution_count": 23,
   "id": "91bf7372",
   "metadata": {
    "execution": {
     "iopub.execute_input": "2024-04-13T15:09:48.854976Z",
     "iopub.status.busy": "2024-04-13T15:09:48.854467Z",
     "iopub.status.idle": "2024-04-13T15:09:48.865302Z",
     "shell.execute_reply": "2024-04-13T15:09:48.863894Z"
    },
    "papermill": {
     "duration": 0.032012,
     "end_time": "2024-04-13T15:09:48.868223",
     "exception": false,
     "start_time": "2024-04-13T15:09:48.836211",
     "status": "completed"
    },
    "tags": []
   },
   "outputs": [],
   "source": [
    "key_mapping={\n",
    "    0: 'C',\n",
    "    1: 'C#/Db',\n",
    "    2: 'D',\n",
    "    3: 'D#/Eb',\n",
    "    4: 'E',\n",
    "    5: 'F',\n",
    "    6: 'F#/Gb',\n",
    "    7: 'G',\n",
    "    8: 'G#/Ab',\n",
    "    9: 'A',\n",
    "    10: 'A#/Bb',\n",
    "    11: 'B'\n",
    "}\n",
    "data['key_map']=data['key'].map(key_mapping)\n",
    "freq=data['key_map'].value_counts().index\n"
   ]
  },
  {
   "cell_type": "code",
   "execution_count": 24,
   "id": "a3e1e8a6",
   "metadata": {
    "execution": {
     "iopub.execute_input": "2024-04-13T15:09:48.901893Z",
     "iopub.status.busy": "2024-04-13T15:09:48.901406Z",
     "iopub.status.idle": "2024-04-13T15:09:49.360644Z",
     "shell.execute_reply": "2024-04-13T15:09:49.359141Z"
    },
    "papermill": {
     "duration": 0.479444,
     "end_time": "2024-04-13T15:09:49.363220",
     "exception": false,
     "start_time": "2024-04-13T15:09:48.883776",
     "status": "completed"
    },
    "tags": []
   },
   "outputs": [
    {
     "data": {
      "image/png": "[encoded data removed]",
      "text/plain": [
       "<Figure size 1000x600 with 1 Axes>"
      ]
     },
     "metadata": {},
     "output_type": "display_data"
    }
   ],
   "source": [
    "plt.figure(figsize=(10, 6))\n",
    "sns.countplot(x='key_map', data=data, palette='colorblind', order=freq)\n",
    "plt.title('Distribution of Tracks by Key')\n",
    "plt.xlabel('Musical Key')\n",
    "plt.ylabel('Number of Tracks')\n",
    "plt.xticks(rotation=45)\n",
    "plt.show()"
   ]
  }
 ],
 "metadata": {
  "kaggle": {
   "accelerator": "none",
   "dataSources": [
    {
     "datasetId": 4594214,
     "sourceId": 7837467,
     "sourceType": "datasetVersion"
    }
   ],
   "dockerImageVersionId": 30684,
   "isGpuEnabled": false,
   "isInternetEnabled": true,
   "language": "python",
   "sourceType": "notebook"
  },
  "kernelspec": {
   "display_name": "Python 3",
   "language": "python",
   "name": "python3"
  },
  "language_info": {
   "codemirror_mode": {
    "name": "ipython",
    "version": 3
   },
   "file_extension": ".py",
   "mimetype": "text/x-python",
   "name": "python",
   "nbconvert_exporter": "python",
   "pygments_lexer": "ipython3",
   "version": "3.10.13"
  },
  "papermill": {
   "default_parameters": {},
   "duration": 12.83232,
   "end_time": "2024-04-13T15:09:50.304074",
   "environment_variables": {},
   "exception": null,
   "input_path": "__notebook__.ipynb",
   "output_path": "__notebook__.ipynb",
   "parameters": {},
   "start_time": "2024-04-13T15:09:37.471754",
   "version": "2.5.0"
  }
 },
 "nbformat": 4,
 "nbformat_minor": 5
}
