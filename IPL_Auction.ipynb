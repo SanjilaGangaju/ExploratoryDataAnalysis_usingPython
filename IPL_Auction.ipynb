{
 "cells": [
  {
   "cell_type": "code",
   "execution_count": 1,
   "id": "8bddd67a-0726-4409-8fb0-08f1f5eb4ea8",
   "metadata": {},
   "outputs": [],
   "source": [
    "import numpy as np\n",
    "import pandas as pd\n",
    "import seaborn as sns"
   ]
  },
  {
   "cell_type": "code",
   "execution_count": 3,
   "id": "9080be4e-cd53-4423-96dd-4ea758dcddfe",
   "metadata": {},
   "outputs": [],
   "source": [
    "data= pd.read_csv(\"iplauction2023.csv\")\n"
   ]
  },
  {
   "cell_type": "code",
   "execution_count": 4,
   "id": "56d476ed-3f18-4196-b5ea-7db0eba19e02",
   "metadata": {},
   "outputs": [
    {
     "data": {
      "text/html": [
       "<div>\n",
       "<style scoped>\n",
       "    .dataframe tbody tr th:only-of-type {\n",
       "        vertical-align: middle;\n",
       "    }\n",
       "\n",
       "    .dataframe tbody tr th {\n",
       "        vertical-align: top;\n",
       "    }\n",
       "\n",
       "    .dataframe thead th {\n",
       "        text-align: right;\n",
       "    }\n",
       "</style>\n",
       "<table border=\"1\" class=\"dataframe\">\n",
       "  <thead>\n",
       "    <tr style=\"text-align: right;\">\n",
       "      <th></th>\n",
       "      <th>name</th>\n",
       "      <th>player style</th>\n",
       "      <th>nationality</th>\n",
       "      <th>base price (in lacs)</th>\n",
       "      <th>final price (in lacs)</th>\n",
       "      <th>franchise</th>\n",
       "      <th>status</th>\n",
       "    </tr>\n",
       "  </thead>\n",
       "  <tbody>\n",
       "    <tr>\n",
       "      <th>0</th>\n",
       "      <td>Harshit Rana</td>\n",
       "      <td>Bowler</td>\n",
       "      <td>India</td>\n",
       "      <td>NaN</td>\n",
       "      <td>20.0</td>\n",
       "      <td>KKR</td>\n",
       "      <td>RETAINED</td>\n",
       "    </tr>\n",
       "    <tr>\n",
       "      <th>1</th>\n",
       "      <td>Ekant Sen</td>\n",
       "      <td>Batter</td>\n",
       "      <td>India</td>\n",
       "      <td>20.0</td>\n",
       "      <td>NaN</td>\n",
       "      <td>NaN</td>\n",
       "      <td>UNSOLD</td>\n",
       "    </tr>\n",
       "    <tr>\n",
       "      <th>2</th>\n",
       "      <td>Wayne Parnell</td>\n",
       "      <td>Allrounder</td>\n",
       "      <td>South Africa</td>\n",
       "      <td>75.0</td>\n",
       "      <td>NaN</td>\n",
       "      <td>NaN</td>\n",
       "      <td>UNSOLD</td>\n",
       "    </tr>\n",
       "    <tr>\n",
       "      <th>3</th>\n",
       "      <td>Shakib Al Hasan</td>\n",
       "      <td>Allrounder</td>\n",
       "      <td>Bangladesh</td>\n",
       "      <td>150.0</td>\n",
       "      <td>150.0</td>\n",
       "      <td>KKR</td>\n",
       "      <td>SOLD</td>\n",
       "    </tr>\n",
       "    <tr>\n",
       "      <th>4</th>\n",
       "      <td>Joe Root</td>\n",
       "      <td>Batter</td>\n",
       "      <td>England</td>\n",
       "      <td>100.0</td>\n",
       "      <td>100.0</td>\n",
       "      <td>RR</td>\n",
       "      <td>SOLD</td>\n",
       "    </tr>\n",
       "  </tbody>\n",
       "</table>\n",
       "</div>"
      ],
      "text/plain": [
       "              name player style   nationality  base price (in lacs)  \\\n",
       "0     Harshit Rana       Bowler         India                   NaN   \n",
       "1        Ekant Sen       Batter         India                  20.0   \n",
       "2    Wayne Parnell   Allrounder  South Africa                  75.0   \n",
       "3  Shakib Al Hasan   Allrounder    Bangladesh                 150.0   \n",
       "4         Joe Root       Batter       England                 100.0   \n",
       "\n",
       "   final price (in lacs) franchise    status  \n",
       "0                   20.0       KKR  RETAINED  \n",
       "1                    NaN       NaN    UNSOLD  \n",
       "2                    NaN       NaN    UNSOLD  \n",
       "3                  150.0       KKR      SOLD  \n",
       "4                  100.0        RR      SOLD  "
      ]
     },
     "execution_count": 4,
     "metadata": {},
     "output_type": "execute_result"
    }
   ],
   "source": [
    "data.head()"
   ]
  },
  {
   "cell_type": "code",
   "execution_count": 5,
   "id": "11f709b8-0542-46b9-bd32-0dc988a17a0d",
   "metadata": {},
   "outputs": [
    {
     "data": {
      "text/html": [
       "<div>\n",
       "<style scoped>\n",
       "    .dataframe tbody tr th:only-of-type {\n",
       "        vertical-align: middle;\n",
       "    }\n",
       "\n",
       "    .dataframe tbody tr th {\n",
       "        vertical-align: top;\n",
       "    }\n",
       "\n",
       "    .dataframe thead th {\n",
       "        text-align: right;\n",
       "    }\n",
       "</style>\n",
       "<table border=\"1\" class=\"dataframe\">\n",
       "  <thead>\n",
       "    <tr style=\"text-align: right;\">\n",
       "      <th></th>\n",
       "      <th>name</th>\n",
       "      <th>player style</th>\n",
       "      <th>nationality</th>\n",
       "      <th>base price (in lacs)</th>\n",
       "      <th>final price (in lacs)</th>\n",
       "      <th>franchise</th>\n",
       "      <th>status</th>\n",
       "    </tr>\n",
       "  </thead>\n",
       "  <tbody>\n",
       "    <tr>\n",
       "      <th>304</th>\n",
       "      <td>MS Dhoni</td>\n",
       "      <td>WK-Batter</td>\n",
       "      <td>India</td>\n",
       "      <td>NaN</td>\n",
       "      <td>1200.0</td>\n",
       "      <td>CSK</td>\n",
       "      <td>RETAINED</td>\n",
       "    </tr>\n",
       "    <tr>\n",
       "      <th>305</th>\n",
       "      <td>Moeen Ali</td>\n",
       "      <td>Allrounder</td>\n",
       "      <td>England</td>\n",
       "      <td>NaN</td>\n",
       "      <td>800.0</td>\n",
       "      <td>CSK</td>\n",
       "      <td>RETAINED</td>\n",
       "    </tr>\n",
       "    <tr>\n",
       "      <th>306</th>\n",
       "      <td>Ruturaj Gaikwad</td>\n",
       "      <td>Batter</td>\n",
       "      <td>India</td>\n",
       "      <td>NaN</td>\n",
       "      <td>600.0</td>\n",
       "      <td>CSK</td>\n",
       "      <td>RETAINED</td>\n",
       "    </tr>\n",
       "    <tr>\n",
       "      <th>307</th>\n",
       "      <td>Rishabh Pant</td>\n",
       "      <td>WK-Batter</td>\n",
       "      <td>India</td>\n",
       "      <td>NaN</td>\n",
       "      <td>1600.0</td>\n",
       "      <td>DC</td>\n",
       "      <td>RETAINED</td>\n",
       "    </tr>\n",
       "    <tr>\n",
       "      <th>308</th>\n",
       "      <td>Axar Patel</td>\n",
       "      <td>Allrounder</td>\n",
       "      <td>India</td>\n",
       "      <td>NaN</td>\n",
       "      <td>900.0</td>\n",
       "      <td>DC</td>\n",
       "      <td>RETAINED</td>\n",
       "    </tr>\n",
       "  </tbody>\n",
       "</table>\n",
       "</div>"
      ],
      "text/plain": [
       "                name player style nationality  base price (in lacs)  \\\n",
       "304         MS Dhoni    WK-Batter       India                   NaN   \n",
       "305        Moeen Ali   Allrounder     England                   NaN   \n",
       "306  Ruturaj Gaikwad       Batter       India                   NaN   \n",
       "307     Rishabh Pant    WK-Batter       India                   NaN   \n",
       "308       Axar Patel   Allrounder       India                   NaN   \n",
       "\n",
       "     final price (in lacs) franchise    status  \n",
       "304                 1200.0       CSK  RETAINED  \n",
       "305                  800.0       CSK  RETAINED  \n",
       "306                  600.0       CSK  RETAINED  \n",
       "307                 1600.0        DC  RETAINED  \n",
       "308                  900.0        DC  RETAINED  "
      ]
     },
     "execution_count": 5,
     "metadata": {},
     "output_type": "execute_result"
    }
   ],
   "source": [
    "data.tail()\n"
   ]
  },
  {
   "cell_type": "code",
   "execution_count": 7,
   "id": "0cf034bc-f62c-45be-9c31-b3bf276e3ae0",
   "metadata": {},
   "outputs": [
    {
     "data": {
      "text/plain": [
       "Index(['name', 'player style', 'nationality', 'base price (in lacs)',\n",
       "       'final price (in lacs)', 'franchise', 'status'],\n",
       "      dtype='object')"
      ]
     },
     "execution_count": 7,
     "metadata": {},
     "output_type": "execute_result"
    }
   ],
   "source": [
    "data.columns\n"
   ]
  },
  {
   "cell_type": "code",
   "execution_count": 10,
   "id": "bfcb453f-ba27-4f2f-9297-ba5d70eaa782",
   "metadata": {},
   "outputs": [
    {
     "data": {
      "text/plain": [
       "(309, 7)"
      ]
     },
     "execution_count": 10,
     "metadata": {},
     "output_type": "execute_result"
    }
   ],
   "source": [
    "data.shape\n"
   ]
  },
  {
   "cell_type": "code",
   "execution_count": 11,
   "id": "c3af9687-7b7c-4958-91cc-8309c73fad2f",
   "metadata": {},
   "outputs": [
    {
     "data": {
      "text/plain": [
       "name                      object\n",
       "player style              object\n",
       "nationality               object\n",
       "base price (in lacs)     float64\n",
       "final price (in lacs)    float64\n",
       "franchise                 object\n",
       "status                    object\n",
       "dtype: object"
      ]
     },
     "execution_count": 11,
     "metadata": {},
     "output_type": "execute_result"
    }
   ],
   "source": [
    "data.dtypes"
   ]
  },
  {
   "cell_type": "code",
   "execution_count": 12,
   "id": "666a49d5-f8d6-4ab2-9c22-4ee477eaad2e",
   "metadata": {},
   "outputs": [
    {
     "data": {
      "text/plain": [
       "name                     309\n",
       "player style               4\n",
       "nationality               14\n",
       "base price (in lacs)       8\n",
       "final price (in lacs)     67\n",
       "franchise                 10\n",
       "status                     3\n",
       "dtype: int64"
      ]
     },
     "execution_count": 12,
     "metadata": {},
     "output_type": "execute_result"
    }
   ],
   "source": [
    "data.nunique()"
   ]
  },
  {
   "cell_type": "code",
   "execution_count": 13,
   "id": "1233611f-99f7-4785-82e9-f3c5ca3d762c",
   "metadata": {},
   "outputs": [
    {
     "data": {
      "text/html": [
       "<div>\n",
       "<style scoped>\n",
       "    .dataframe tbody tr th:only-of-type {\n",
       "        vertical-align: middle;\n",
       "    }\n",
       "\n",
       "    .dataframe tbody tr th {\n",
       "        vertical-align: top;\n",
       "    }\n",
       "\n",
       "    .dataframe thead th {\n",
       "        text-align: right;\n",
       "    }\n",
       "</style>\n",
       "<table border=\"1\" class=\"dataframe\">\n",
       "  <thead>\n",
       "    <tr style=\"text-align: right;\">\n",
       "      <th></th>\n",
       "      <th>base price (in lacs)</th>\n",
       "      <th>final price (in lacs)</th>\n",
       "    </tr>\n",
       "  </thead>\n",
       "  <tbody>\n",
       "    <tr>\n",
       "      <th>count</th>\n",
       "      <td>151.000000</td>\n",
       "      <td>238.000000</td>\n",
       "    </tr>\n",
       "    <tr>\n",
       "      <th>mean</th>\n",
       "      <td>59.205298</td>\n",
       "      <td>368.067227</td>\n",
       "    </tr>\n",
       "    <tr>\n",
       "      <th>std</th>\n",
       "      <td>59.688337</td>\n",
       "      <td>449.070117</td>\n",
       "    </tr>\n",
       "    <tr>\n",
       "      <th>min</th>\n",
       "      <td>20.000000</td>\n",
       "      <td>20.000000</td>\n",
       "    </tr>\n",
       "    <tr>\n",
       "      <th>25%</th>\n",
       "      <td>20.000000</td>\n",
       "      <td>21.250000</td>\n",
       "    </tr>\n",
       "    <tr>\n",
       "      <th>50%</th>\n",
       "      <td>20.000000</td>\n",
       "      <td>150.000000</td>\n",
       "    </tr>\n",
       "    <tr>\n",
       "      <th>75%</th>\n",
       "      <td>75.000000</td>\n",
       "      <td>625.000000</td>\n",
       "    </tr>\n",
       "    <tr>\n",
       "      <th>max</th>\n",
       "      <td>200.000000</td>\n",
       "      <td>1850.000000</td>\n",
       "    </tr>\n",
       "  </tbody>\n",
       "</table>\n",
       "</div>"
      ],
      "text/plain": [
       "       base price (in lacs)  final price (in lacs)\n",
       "count            151.000000             238.000000\n",
       "mean              59.205298             368.067227\n",
       "std               59.688337             449.070117\n",
       "min               20.000000              20.000000\n",
       "25%               20.000000              21.250000\n",
       "50%               20.000000             150.000000\n",
       "75%               75.000000             625.000000\n",
       "max              200.000000            1850.000000"
      ]
     },
     "execution_count": 13,
     "metadata": {},
     "output_type": "execute_result"
    }
   ],
   "source": [
    "data.describe()"
   ]
  },
  {
   "cell_type": "markdown",
   "id": "cde6565d-8392-42f1-9c73-b536f19262e6",
   "metadata": {},
   "source": [
    "# Cleaning the data"
   ]
  },
  {
   "cell_type": "code",
   "execution_count": 19,
   "id": "57f216da-d816-450d-9d74-9643f15858c6",
   "metadata": {},
   "outputs": [
    {
     "data": {
      "text/plain": [
       "name                       0\n",
       "player style               0\n",
       "nationality                0\n",
       "base price (in lacs)     158\n",
       "final price (in lacs)     71\n",
       "franchise                 71\n",
       "status                     0\n",
       "dtype: int64"
      ]
     },
     "execution_count": 19,
     "metadata": {},
     "output_type": "execute_result"
    }
   ],
   "source": [
    "d1=data.isnull().sum()\n",
    "d1"
   ]
  },
  {
   "cell_type": "code",
   "execution_count": 17,
   "id": "bf396f25-a1f9-42aa-9e07-e3abcccbe6cb",
   "metadata": {},
   "outputs": [
    {
     "data": {
      "text/plain": [
       "name                     0.000000\n",
       "player style             0.000000\n",
       "nationality              0.000000\n",
       "base price (in lacs)     5.355273\n",
       "final price (in lacs)    2.406484\n",
       "franchise                2.406484\n",
       "status                   0.000000\n",
       "dtype: float64"
      ]
     },
     "execution_count": 17,
     "metadata": {},
     "output_type": "execute_result"
    }
   ],
   "source": [
    "d2=(d1/len(data))*100\n",
    "d2"
   ]
  },
  {
   "cell_type": "code",
   "execution_count": 20,
   "id": "8c51a36d-b00a-42d9-8eaa-f2cb59ab847f",
   "metadata": {},
   "outputs": [
    {
     "data": {
      "text/html": [
       "<div>\n",
       "<style scoped>\n",
       "    .dataframe tbody tr th:only-of-type {\n",
       "        vertical-align: middle;\n",
       "    }\n",
       "\n",
       "    .dataframe tbody tr th {\n",
       "        vertical-align: top;\n",
       "    }\n",
       "\n",
       "    .dataframe thead th {\n",
       "        text-align: right;\n",
       "    }\n",
       "</style>\n",
       "<table border=\"1\" class=\"dataframe\">\n",
       "  <thead>\n",
       "    <tr style=\"text-align: right;\">\n",
       "      <th></th>\n",
       "      <th>Total</th>\n",
       "      <th>Missing(%)</th>\n",
       "    </tr>\n",
       "  </thead>\n",
       "  <tbody>\n",
       "    <tr>\n",
       "      <th>name</th>\n",
       "      <td>0</td>\n",
       "      <td>0.000000</td>\n",
       "    </tr>\n",
       "    <tr>\n",
       "      <th>player style</th>\n",
       "      <td>0</td>\n",
       "      <td>0.000000</td>\n",
       "    </tr>\n",
       "    <tr>\n",
       "      <th>nationality</th>\n",
       "      <td>0</td>\n",
       "      <td>0.000000</td>\n",
       "    </tr>\n",
       "    <tr>\n",
       "      <th>base price (in lacs)</th>\n",
       "      <td>158</td>\n",
       "      <td>5.355273</td>\n",
       "    </tr>\n",
       "    <tr>\n",
       "      <th>final price (in lacs)</th>\n",
       "      <td>71</td>\n",
       "      <td>2.406484</td>\n",
       "    </tr>\n",
       "    <tr>\n",
       "      <th>franchise</th>\n",
       "      <td>71</td>\n",
       "      <td>2.406484</td>\n",
       "    </tr>\n",
       "    <tr>\n",
       "      <th>status</th>\n",
       "      <td>0</td>\n",
       "      <td>0.000000</td>\n",
       "    </tr>\n",
       "  </tbody>\n",
       "</table>\n",
       "</div>"
      ],
      "text/plain": [
       "                       Total  Missing(%)\n",
       "name                       0    0.000000\n",
       "player style               0    0.000000\n",
       "nationality                0    0.000000\n",
       "base price (in lacs)     158    5.355273\n",
       "final price (in lacs)     71    2.406484\n",
       "franchise                 71    2.406484\n",
       "status                     0    0.000000"
      ]
     },
     "execution_count": 20,
     "metadata": {},
     "output_type": "execute_result"
    }
   ],
   "source": [
    "m=pd.concat([d1,d2],axis=1,keys=['Total','Missing(%)'])\n",
    "m"
   ]
  },
  {
   "cell_type": "code",
   "execution_count": null,
   "id": "d9e2ec88-fb73-4f91-bde5-3afcda4cfbf6",
   "metadata": {},
   "outputs": [],
   "source": []
  }
 ],
 "metadata": {
  "kernelspec": {
   "display_name": "Python 3 (ipykernel)",
   "language": "python",
   "name": "python3"
  },
  "language_info": {
   "codemirror_mode": {
    "name": "ipython",
    "version": 3
   },
   "file_extension": ".py",
   "mimetype": "text/x-python",
   "name": "python",
   "nbconvert_exporter": "python",
   "pygments_lexer": "ipython3",
   "version": "3.11.1"
  }
 },
 "nbformat": 4,
 "nbformat_minor": 5
}
