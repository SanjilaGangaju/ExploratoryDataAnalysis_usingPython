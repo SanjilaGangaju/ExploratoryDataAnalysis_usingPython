{
 "cells": [
  {
   "cell_type": "code",
   "execution_count": 2,
   "id": "8bddd67a-0726-4409-8fb0-08f1f5eb4ea8",
   "metadata": {},
   "outputs": [],
   "source": [
    "import numpy as np\n",
    "import pandas as pd\n",
    "import seaborn as sns"
   ]
  },
  {
   "cell_type": "code",
   "execution_count": 3,
   "id": "9080be4e-cd53-4423-96dd-4ea758dcddfe",
   "metadata": {},
   "outputs": [],
   "source": [
    "data= pd.read_csv(\"iplauction2023.csv\")\n"
   ]
  },
  {
   "cell_type": "code",
   "execution_count": 4,
   "id": "56d476ed-3f18-4196-b5ea-7db0eba19e02",
   "metadata": {},
   "outputs": [
    {
     "data": {
      "text/html": [
       "<div>\n",
       "<style scoped>\n",
       "    .dataframe tbody tr th:only-of-type {\n",
       "        vertical-align: middle;\n",
       "    }\n",
       "\n",
       "    .dataframe tbody tr th {\n",
       "        vertical-align: top;\n",
       "    }\n",
       "\n",
       "    .dataframe thead th {\n",
       "        text-align: right;\n",
       "    }\n",
       "</style>\n",
       "<table border=\"1\" class=\"dataframe\">\n",
       "  <thead>\n",
       "    <tr style=\"text-align: right;\">\n",
       "      <th></th>\n",
       "      <th>name</th>\n",
       "      <th>player style</th>\n",
       "      <th>nationality</th>\n",
       "      <th>base price (in lacs)</th>\n",
       "      <th>final price (in lacs)</th>\n",
       "      <th>franchise</th>\n",
       "      <th>status</th>\n",
       "    </tr>\n",
       "  </thead>\n",
       "  <tbody>\n",
       "    <tr>\n",
       "      <th>0</th>\n",
       "      <td>Harshit Rana</td>\n",
       "      <td>Bowler</td>\n",
       "      <td>India</td>\n",
       "      <td>NaN</td>\n",
       "      <td>20.0</td>\n",
       "      <td>KKR</td>\n",
       "      <td>RETAINED</td>\n",
       "    </tr>\n",
       "    <tr>\n",
       "      <th>1</th>\n",
       "      <td>Ekant Sen</td>\n",
       "      <td>Batter</td>\n",
       "      <td>India</td>\n",
       "      <td>20.0</td>\n",
       "      <td>NaN</td>\n",
       "      <td>NaN</td>\n",
       "      <td>UNSOLD</td>\n",
       "    </tr>\n",
       "    <tr>\n",
       "      <th>2</th>\n",
       "      <td>Wayne Parnell</td>\n",
       "      <td>Allrounder</td>\n",
       "      <td>South Africa</td>\n",
       "      <td>75.0</td>\n",
       "      <td>NaN</td>\n",
       "      <td>NaN</td>\n",
       "      <td>UNSOLD</td>\n",
       "    </tr>\n",
       "    <tr>\n",
       "      <th>3</th>\n",
       "      <td>Shakib Al Hasan</td>\n",
       "      <td>Allrounder</td>\n",
       "      <td>Bangladesh</td>\n",
       "      <td>150.0</td>\n",
       "      <td>150.0</td>\n",
       "      <td>KKR</td>\n",
       "      <td>SOLD</td>\n",
       "    </tr>\n",
       "    <tr>\n",
       "      <th>4</th>\n",
       "      <td>Joe Root</td>\n",
       "      <td>Batter</td>\n",
       "      <td>England</td>\n",
       "      <td>100.0</td>\n",
       "      <td>100.0</td>\n",
       "      <td>RR</td>\n",
       "      <td>SOLD</td>\n",
       "    </tr>\n",
       "  </tbody>\n",
       "</table>\n",
       "</div>"
      ],
      "text/plain": [
       "              name player style   nationality  base price (in lacs)  \\\n",
       "0     Harshit Rana       Bowler         India                   NaN   \n",
       "1        Ekant Sen       Batter         India                  20.0   \n",
       "2    Wayne Parnell   Allrounder  South Africa                  75.0   \n",
       "3  Shakib Al Hasan   Allrounder    Bangladesh                 150.0   \n",
       "4         Joe Root       Batter       England                 100.0   \n",
       "\n",
       "   final price (in lacs) franchise    status  \n",
       "0                   20.0       KKR  RETAINED  \n",
       "1                    NaN       NaN    UNSOLD  \n",
       "2                    NaN       NaN    UNSOLD  \n",
       "3                  150.0       KKR      SOLD  \n",
       "4                  100.0        RR      SOLD  "
      ]
     },
     "execution_count": 4,
     "metadata": {},
     "output_type": "execute_result"
    }
   ],
   "source": [
    "data.head()"
   ]
  },
  {
   "cell_type": "code",
   "execution_count": 5,
   "id": "11f709b8-0542-46b9-bd32-0dc988a17a0d",
   "metadata": {},
   "outputs": [
    {
     "data": {
      "text/html": [
       "<div>\n",
       "<style scoped>\n",
       "    .dataframe tbody tr th:only-of-type {\n",
       "        vertical-align: middle;\n",
       "    }\n",
       "\n",
       "    .dataframe tbody tr th {\n",
       "        vertical-align: top;\n",
       "    }\n",
       "\n",
       "    .dataframe thead th {\n",
       "        text-align: right;\n",
       "    }\n",
       "</style>\n",
       "<table border=\"1\" class=\"dataframe\">\n",
       "  <thead>\n",
       "    <tr style=\"text-align: right;\">\n",
       "      <th></th>\n",
       "      <th>name</th>\n",
       "      <th>player style</th>\n",
       "      <th>nationality</th>\n",
       "      <th>base price (in lacs)</th>\n",
       "      <th>final price (in lacs)</th>\n",
       "      <th>franchise</th>\n",
       "      <th>status</th>\n",
       "    </tr>\n",
       "  </thead>\n",
       "  <tbody>\n",
       "    <tr>\n",
       "      <th>304</th>\n",
       "      <td>MS Dhoni</td>\n",
       "      <td>WK-Batter</td>\n",
       "      <td>India</td>\n",
       "      <td>NaN</td>\n",
       "      <td>1200.0</td>\n",
       "      <td>CSK</td>\n",
       "      <td>RETAINED</td>\n",
       "    </tr>\n",
       "    <tr>\n",
       "      <th>305</th>\n",
       "      <td>Moeen Ali</td>\n",
       "      <td>Allrounder</td>\n",
       "      <td>England</td>\n",
       "      <td>NaN</td>\n",
       "      <td>800.0</td>\n",
       "      <td>CSK</td>\n",
       "      <td>RETAINED</td>\n",
       "    </tr>\n",
       "    <tr>\n",
       "      <th>306</th>\n",
       "      <td>Ruturaj Gaikwad</td>\n",
       "      <td>Batter</td>\n",
       "      <td>India</td>\n",
       "      <td>NaN</td>\n",
       "      <td>600.0</td>\n",
       "      <td>CSK</td>\n",
       "      <td>RETAINED</td>\n",
       "    </tr>\n",
       "    <tr>\n",
       "      <th>307</th>\n",
       "      <td>Rishabh Pant</td>\n",
       "      <td>WK-Batter</td>\n",
       "      <td>India</td>\n",
       "      <td>NaN</td>\n",
       "      <td>1600.0</td>\n",
       "      <td>DC</td>\n",
       "      <td>RETAINED</td>\n",
       "    </tr>\n",
       "    <tr>\n",
       "      <th>308</th>\n",
       "      <td>Axar Patel</td>\n",
       "      <td>Allrounder</td>\n",
       "      <td>India</td>\n",
       "      <td>NaN</td>\n",
       "      <td>900.0</td>\n",
       "      <td>DC</td>\n",
       "      <td>RETAINED</td>\n",
       "    </tr>\n",
       "  </tbody>\n",
       "</table>\n",
       "</div>"
      ],
      "text/plain": [
       "                name player style nationality  base price (in lacs)  \\\n",
       "304         MS Dhoni    WK-Batter       India                   NaN   \n",
       "305        Moeen Ali   Allrounder     England                   NaN   \n",
       "306  Ruturaj Gaikwad       Batter       India                   NaN   \n",
       "307     Rishabh Pant    WK-Batter       India                   NaN   \n",
       "308       Axar Patel   Allrounder       India                   NaN   \n",
       "\n",
       "     final price (in lacs) franchise    status  \n",
       "304                 1200.0       CSK  RETAINED  \n",
       "305                  800.0       CSK  RETAINED  \n",
       "306                  600.0       CSK  RETAINED  \n",
       "307                 1600.0        DC  RETAINED  \n",
       "308                  900.0        DC  RETAINED  "
      ]
     },
     "execution_count": 5,
     "metadata": {},
     "output_type": "execute_result"
    }
   ],
   "source": [
    "data.tail()\n"
   ]
  },
  {
   "cell_type": "code",
   "execution_count": 6,
   "id": "0cf034bc-f62c-45be-9c31-b3bf276e3ae0",
   "metadata": {},
   "outputs": [
    {
     "data": {
      "text/plain": [
       "Index(['name', 'player style', 'nationality', 'base price (in lacs)',\n",
       "       'final price (in lacs)', 'franchise', 'status'],\n",
       "      dtype='object')"
      ]
     },
     "execution_count": 6,
     "metadata": {},
     "output_type": "execute_result"
    }
   ],
   "source": [
    "data.columns\n"
   ]
  },
  {
   "cell_type": "code",
   "execution_count": 7,
   "id": "bfcb453f-ba27-4f2f-9297-ba5d70eaa782",
   "metadata": {},
   "outputs": [
    {
     "data": {
      "text/plain": [
       "(309, 7)"
      ]
     },
     "execution_count": 7,
     "metadata": {},
     "output_type": "execute_result"
    }
   ],
   "source": [
    "data.shape\n"
   ]
  },
  {
   "cell_type": "code",
   "execution_count": 8,
   "id": "c3af9687-7b7c-4958-91cc-8309c73fad2f",
   "metadata": {},
   "outputs": [
    {
     "data": {
      "text/plain": [
       "name                      object\n",
       "player style              object\n",
       "nationality               object\n",
       "base price (in lacs)     float64\n",
       "final price (in lacs)    float64\n",
       "franchise                 object\n",
       "status                    object\n",
       "dtype: object"
      ]
     },
     "execution_count": 8,
     "metadata": {},
     "output_type": "execute_result"
    }
   ],
   "source": [
    "data.dtypes"
   ]
  },
  {
   "cell_type": "code",
   "execution_count": 9,
   "id": "666a49d5-f8d6-4ab2-9c22-4ee477eaad2e",
   "metadata": {},
   "outputs": [
    {
     "data": {
      "text/plain": [
       "name                     309\n",
       "player style               4\n",
       "nationality               14\n",
       "base price (in lacs)       8\n",
       "final price (in lacs)     67\n",
       "franchise                 10\n",
       "status                     3\n",
       "dtype: int64"
      ]
     },
     "execution_count": 9,
     "metadata": {},
     "output_type": "execute_result"
    }
   ],
   "source": [
    "data.nunique()"
   ]
  },
  {
   "cell_type": "code",
   "execution_count": 10,
   "id": "b19b0b8d-a61f-445c-855b-7228e992d20d",
   "metadata": {},
   "outputs": [
    {
     "name": "stdout",
     "output_type": "stream",
     "text": [
      "<class 'pandas.core.frame.DataFrame'>\n",
      "RangeIndex: 309 entries, 0 to 308\n",
      "Data columns (total 7 columns):\n",
      " #   Column                 Non-Null Count  Dtype  \n",
      "---  ------                 --------------  -----  \n",
      " 0   name                   309 non-null    object \n",
      " 1   player style           309 non-null    object \n",
      " 2   nationality            309 non-null    object \n",
      " 3   base price (in lacs)   151 non-null    float64\n",
      " 4   final price (in lacs)  238 non-null    float64\n",
      " 5   franchise              238 non-null    object \n",
      " 6   status                 309 non-null    object \n",
      "dtypes: float64(2), object(5)\n",
      "memory usage: 17.0+ KB\n"
     ]
    }
   ],
   "source": [
    "data.info()"
   ]
  },
  {
   "cell_type": "code",
   "execution_count": 11,
   "id": "1233611f-99f7-4785-82e9-f3c5ca3d762c",
   "metadata": {},
   "outputs": [
    {
     "data": {
      "text/html": [
       "<div>\n",
       "<style scoped>\n",
       "    .dataframe tbody tr th:only-of-type {\n",
       "        vertical-align: middle;\n",
       "    }\n",
       "\n",
       "    .dataframe tbody tr th {\n",
       "        vertical-align: top;\n",
       "    }\n",
       "\n",
       "    .dataframe thead th {\n",
       "        text-align: right;\n",
       "    }\n",
       "</style>\n",
       "<table border=\"1\" class=\"dataframe\">\n",
       "  <thead>\n",
       "    <tr style=\"text-align: right;\">\n",
       "      <th></th>\n",
       "      <th>base price (in lacs)</th>\n",
       "      <th>final price (in lacs)</th>\n",
       "    </tr>\n",
       "  </thead>\n",
       "  <tbody>\n",
       "    <tr>\n",
       "      <th>count</th>\n",
       "      <td>151.000000</td>\n",
       "      <td>238.000000</td>\n",
       "    </tr>\n",
       "    <tr>\n",
       "      <th>mean</th>\n",
       "      <td>59.205298</td>\n",
       "      <td>368.067227</td>\n",
       "    </tr>\n",
       "    <tr>\n",
       "      <th>std</th>\n",
       "      <td>59.688337</td>\n",
       "      <td>449.070117</td>\n",
       "    </tr>\n",
       "    <tr>\n",
       "      <th>min</th>\n",
       "      <td>20.000000</td>\n",
       "      <td>20.000000</td>\n",
       "    </tr>\n",
       "    <tr>\n",
       "      <th>25%</th>\n",
       "      <td>20.000000</td>\n",
       "      <td>21.250000</td>\n",
       "    </tr>\n",
       "    <tr>\n",
       "      <th>50%</th>\n",
       "      <td>20.000000</td>\n",
       "      <td>150.000000</td>\n",
       "    </tr>\n",
       "    <tr>\n",
       "      <th>75%</th>\n",
       "      <td>75.000000</td>\n",
       "      <td>625.000000</td>\n",
       "    </tr>\n",
       "    <tr>\n",
       "      <th>max</th>\n",
       "      <td>200.000000</td>\n",
       "      <td>1850.000000</td>\n",
       "    </tr>\n",
       "  </tbody>\n",
       "</table>\n",
       "</div>"
      ],
      "text/plain": [
       "       base price (in lacs)  final price (in lacs)\n",
       "count            151.000000             238.000000\n",
       "mean              59.205298             368.067227\n",
       "std               59.688337             449.070117\n",
       "min               20.000000              20.000000\n",
       "25%               20.000000              21.250000\n",
       "50%               20.000000             150.000000\n",
       "75%               75.000000             625.000000\n",
       "max              200.000000            1850.000000"
      ]
     },
     "execution_count": 11,
     "metadata": {},
     "output_type": "execute_result"
    }
   ],
   "source": [
    "data.describe()"
   ]
  },
  {
   "cell_type": "markdown",
   "id": "cde6565d-8392-42f1-9c73-b536f19262e6",
   "metadata": {},
   "source": [
    "# Cleaning the data"
   ]
  },
  {
   "cell_type": "code",
   "execution_count": 12,
   "id": "57f216da-d816-450d-9d74-9643f15858c6",
   "metadata": {},
   "outputs": [
    {
     "data": {
      "text/plain": [
       "name                       0\n",
       "player style               0\n",
       "nationality                0\n",
       "base price (in lacs)     158\n",
       "final price (in lacs)     71\n",
       "franchise                 71\n",
       "status                     0\n",
       "dtype: int64"
      ]
     },
     "execution_count": 12,
     "metadata": {},
     "output_type": "execute_result"
    }
   ],
   "source": [
    "d1=data.isnull().sum()\n",
    "d1"
   ]
  },
  {
   "cell_type": "code",
   "execution_count": 13,
   "id": "bf396f25-a1f9-42aa-9e07-e3abcccbe6cb",
   "metadata": {},
   "outputs": [
    {
     "data": {
      "text/plain": [
       "name                      0.000000\n",
       "player style              0.000000\n",
       "nationality               0.000000\n",
       "base price (in lacs)     51.132686\n",
       "final price (in lacs)    22.977346\n",
       "franchise                22.977346\n",
       "status                    0.000000\n",
       "dtype: float64"
      ]
     },
     "execution_count": 13,
     "metadata": {},
     "output_type": "execute_result"
    }
   ],
   "source": [
    "d2=(d1/len(data))*100\n",
    "d2"
   ]
  },
  {
   "cell_type": "code",
   "execution_count": 14,
   "id": "8c51a36d-b00a-42d9-8eaa-f2cb59ab847f",
   "metadata": {},
   "outputs": [
    {
     "data": {
      "text/html": [
       "<div>\n",
       "<style scoped>\n",
       "    .dataframe tbody tr th:only-of-type {\n",
       "        vertical-align: middle;\n",
       "    }\n",
       "\n",
       "    .dataframe tbody tr th {\n",
       "        vertical-align: top;\n",
       "    }\n",
       "\n",
       "    .dataframe thead th {\n",
       "        text-align: right;\n",
       "    }\n",
       "</style>\n",
       "<table border=\"1\" class=\"dataframe\">\n",
       "  <thead>\n",
       "    <tr style=\"text-align: right;\">\n",
       "      <th></th>\n",
       "      <th>Total</th>\n",
       "      <th>Missing(%)</th>\n",
       "    </tr>\n",
       "  </thead>\n",
       "  <tbody>\n",
       "    <tr>\n",
       "      <th>name</th>\n",
       "      <td>0</td>\n",
       "      <td>0.000000</td>\n",
       "    </tr>\n",
       "    <tr>\n",
       "      <th>player style</th>\n",
       "      <td>0</td>\n",
       "      <td>0.000000</td>\n",
       "    </tr>\n",
       "    <tr>\n",
       "      <th>nationality</th>\n",
       "      <td>0</td>\n",
       "      <td>0.000000</td>\n",
       "    </tr>\n",
       "    <tr>\n",
       "      <th>base price (in lacs)</th>\n",
       "      <td>158</td>\n",
       "      <td>51.132686</td>\n",
       "    </tr>\n",
       "    <tr>\n",
       "      <th>final price (in lacs)</th>\n",
       "      <td>71</td>\n",
       "      <td>22.977346</td>\n",
       "    </tr>\n",
       "    <tr>\n",
       "      <th>franchise</th>\n",
       "      <td>71</td>\n",
       "      <td>22.977346</td>\n",
       "    </tr>\n",
       "    <tr>\n",
       "      <th>status</th>\n",
       "      <td>0</td>\n",
       "      <td>0.000000</td>\n",
       "    </tr>\n",
       "  </tbody>\n",
       "</table>\n",
       "</div>"
      ],
      "text/plain": [
       "                       Total  Missing(%)\n",
       "name                       0    0.000000\n",
       "player style               0    0.000000\n",
       "nationality                0    0.000000\n",
       "base price (in lacs)     158   51.132686\n",
       "final price (in lacs)     71   22.977346\n",
       "franchise                 71   22.977346\n",
       "status                     0    0.000000"
      ]
     },
     "execution_count": 14,
     "metadata": {},
     "output_type": "execute_result"
    }
   ],
   "source": [
    "m=pd.concat([d1,d2],axis=1,keys=['Total','Missing(%)'])\n",
    "m"
   ]
  },
  {
   "cell_type": "code",
   "execution_count": 15,
   "id": "d9e2ec88-fb73-4f91-bde5-3afcda4cfbf6",
   "metadata": {},
   "outputs": [
    {
     "data": {
      "text/html": [
       "<div>\n",
       "<style scoped>\n",
       "    .dataframe tbody tr th:only-of-type {\n",
       "        vertical-align: middle;\n",
       "    }\n",
       "\n",
       "    .dataframe tbody tr th {\n",
       "        vertical-align: top;\n",
       "    }\n",
       "\n",
       "    .dataframe thead th {\n",
       "        text-align: right;\n",
       "    }\n",
       "</style>\n",
       "<table border=\"1\" class=\"dataframe\">\n",
       "  <thead>\n",
       "    <tr style=\"text-align: right;\">\n",
       "      <th></th>\n",
       "      <th>name</th>\n",
       "      <th>player style</th>\n",
       "      <th>nationality</th>\n",
       "      <th>base price (in lacs)</th>\n",
       "      <th>final price (in lacs)</th>\n",
       "      <th>franchise</th>\n",
       "      <th>status</th>\n",
       "    </tr>\n",
       "  </thead>\n",
       "  <tbody>\n",
       "    <tr>\n",
       "      <th>1</th>\n",
       "      <td>Ekant Sen</td>\n",
       "      <td>Batter</td>\n",
       "      <td>India</td>\n",
       "      <td>20.0</td>\n",
       "      <td>NaN</td>\n",
       "      <td>NaN</td>\n",
       "      <td>UNSOLD</td>\n",
       "    </tr>\n",
       "    <tr>\n",
       "      <th>2</th>\n",
       "      <td>Wayne Parnell</td>\n",
       "      <td>Allrounder</td>\n",
       "      <td>South Africa</td>\n",
       "      <td>75.0</td>\n",
       "      <td>NaN</td>\n",
       "      <td>NaN</td>\n",
       "      <td>UNSOLD</td>\n",
       "    </tr>\n",
       "    <tr>\n",
       "      <th>6</th>\n",
       "      <td>Prashant Chopra</td>\n",
       "      <td>Allrounder</td>\n",
       "      <td>India</td>\n",
       "      <td>20.0</td>\n",
       "      <td>NaN</td>\n",
       "      <td>NaN</td>\n",
       "      <td>UNSOLD</td>\n",
       "    </tr>\n",
       "    <tr>\n",
       "      <th>10</th>\n",
       "      <td>Luke Wood</td>\n",
       "      <td>Bowler</td>\n",
       "      <td>England</td>\n",
       "      <td>100.0</td>\n",
       "      <td>NaN</td>\n",
       "      <td>NaN</td>\n",
       "      <td>UNSOLD</td>\n",
       "    </tr>\n",
       "    <tr>\n",
       "      <th>11</th>\n",
       "      <td>Dilshan Madushanka</td>\n",
       "      <td>Bowler</td>\n",
       "      <td>Sri Lanka</td>\n",
       "      <td>50.0</td>\n",
       "      <td>NaN</td>\n",
       "      <td>NaN</td>\n",
       "      <td>UNSOLD</td>\n",
       "    </tr>\n",
       "    <tr>\n",
       "      <th>...</th>\n",
       "      <td>...</td>\n",
       "      <td>...</td>\n",
       "      <td>...</td>\n",
       "      <td>...</td>\n",
       "      <td>...</td>\n",
       "      <td>...</td>\n",
       "      <td>...</td>\n",
       "    </tr>\n",
       "    <tr>\n",
       "      <th>137</th>\n",
       "      <td>Mujeeb Ur Rahman</td>\n",
       "      <td>Bowler</td>\n",
       "      <td>Afghanistan</td>\n",
       "      <td>100.0</td>\n",
       "      <td>NaN</td>\n",
       "      <td>NaN</td>\n",
       "      <td>UNSOLD</td>\n",
       "    </tr>\n",
       "    <tr>\n",
       "      <th>138</th>\n",
       "      <td>Tabraiz Shamsi</td>\n",
       "      <td>Bowler</td>\n",
       "      <td>South Africa</td>\n",
       "      <td>100.0</td>\n",
       "      <td>NaN</td>\n",
       "      <td>NaN</td>\n",
       "      <td>UNSOLD</td>\n",
       "    </tr>\n",
       "    <tr>\n",
       "      <th>141</th>\n",
       "      <td>Adam Milne</td>\n",
       "      <td>Bowler</td>\n",
       "      <td>New Zealand</td>\n",
       "      <td>200.0</td>\n",
       "      <td>NaN</td>\n",
       "      <td>NaN</td>\n",
       "      <td>UNSOLD</td>\n",
       "    </tr>\n",
       "    <tr>\n",
       "      <th>143</th>\n",
       "      <td>Chris Jordan</td>\n",
       "      <td>Bowler</td>\n",
       "      <td>England</td>\n",
       "      <td>200.0</td>\n",
       "      <td>NaN</td>\n",
       "      <td>NaN</td>\n",
       "      <td>UNSOLD</td>\n",
       "    </tr>\n",
       "    <tr>\n",
       "      <th>145</th>\n",
       "      <td>Tom Banton</td>\n",
       "      <td>WK-Batter</td>\n",
       "      <td>England</td>\n",
       "      <td>200.0</td>\n",
       "      <td>NaN</td>\n",
       "      <td>NaN</td>\n",
       "      <td>UNSOLD</td>\n",
       "    </tr>\n",
       "  </tbody>\n",
       "</table>\n",
       "<p>71 rows × 7 columns</p>\n",
       "</div>"
      ],
      "text/plain": [
       "                   name player style   nationality  base price (in lacs)  \\\n",
       "1             Ekant Sen       Batter         India                  20.0   \n",
       "2         Wayne Parnell   Allrounder  South Africa                  75.0   \n",
       "6       Prashant Chopra   Allrounder         India                  20.0   \n",
       "10            Luke Wood       Bowler       England                 100.0   \n",
       "11   Dilshan Madushanka       Bowler     Sri Lanka                  50.0   \n",
       "..                  ...          ...           ...                   ...   \n",
       "137    Mujeeb Ur Rahman       Bowler   Afghanistan                 100.0   \n",
       "138      Tabraiz Shamsi       Bowler  South Africa                 100.0   \n",
       "141          Adam Milne       Bowler   New Zealand                 200.0   \n",
       "143        Chris Jordan       Bowler       England                 200.0   \n",
       "145          Tom Banton    WK-Batter       England                 200.0   \n",
       "\n",
       "     final price (in lacs) franchise  status  \n",
       "1                      NaN       NaN  UNSOLD  \n",
       "2                      NaN       NaN  UNSOLD  \n",
       "6                      NaN       NaN  UNSOLD  \n",
       "10                     NaN       NaN  UNSOLD  \n",
       "11                     NaN       NaN  UNSOLD  \n",
       "..                     ...       ...     ...  \n",
       "137                    NaN       NaN  UNSOLD  \n",
       "138                    NaN       NaN  UNSOLD  \n",
       "141                    NaN       NaN  UNSOLD  \n",
       "143                    NaN       NaN  UNSOLD  \n",
       "145                    NaN       NaN  UNSOLD  \n",
       "\n",
       "[71 rows x 7 columns]"
      ]
     },
     "execution_count": 15,
     "metadata": {},
     "output_type": "execute_result"
    }
   ],
   "source": [
    "data[data['franchise'].isnull()]"
   ]
  },
  {
   "cell_type": "code",
   "execution_count": 16,
   "id": "4281ab6f-315d-41d0-99cf-77ffd7d64555",
   "metadata": {},
   "outputs": [],
   "source": [
    "df = data.copy()\n",
    "\n",
    "# Renaming columns for consistency\n",
    "df.rename(columns={'player style': 'player_style', 'base price (in lacs)': 'base_price', 'final price (in lacs)': 'final_price'}, inplace=True)"
   ]
  },
  {
   "cell_type": "code",
   "execution_count": 17,
   "id": "a2bb5824-f10e-4887-9a68-c6a5f75aba6d",
   "metadata": {},
   "outputs": [
    {
     "data": {
      "text/html": [
       "<div>\n",
       "<style scoped>\n",
       "    .dataframe tbody tr th:only-of-type {\n",
       "        vertical-align: middle;\n",
       "    }\n",
       "\n",
       "    .dataframe tbody tr th {\n",
       "        vertical-align: top;\n",
       "    }\n",
       "\n",
       "    .dataframe thead th {\n",
       "        text-align: right;\n",
       "    }\n",
       "</style>\n",
       "<table border=\"1\" class=\"dataframe\">\n",
       "  <thead>\n",
       "    <tr style=\"text-align: right;\">\n",
       "      <th></th>\n",
       "      <th>name</th>\n",
       "      <th>player_style</th>\n",
       "      <th>nationality</th>\n",
       "      <th>base_price</th>\n",
       "      <th>final_price</th>\n",
       "      <th>franchise</th>\n",
       "      <th>status</th>\n",
       "    </tr>\n",
       "  </thead>\n",
       "  <tbody>\n",
       "    <tr>\n",
       "      <th>0</th>\n",
       "      <td>Harshit Rana</td>\n",
       "      <td>Bowler</td>\n",
       "      <td>India</td>\n",
       "      <td>NaN</td>\n",
       "      <td>20.0</td>\n",
       "      <td>KKR</td>\n",
       "      <td>RETAINED</td>\n",
       "    </tr>\n",
       "    <tr>\n",
       "      <th>1</th>\n",
       "      <td>Ekant Sen</td>\n",
       "      <td>Batter</td>\n",
       "      <td>India</td>\n",
       "      <td>20.0</td>\n",
       "      <td>NaN</td>\n",
       "      <td>NaN</td>\n",
       "      <td>UNSOLD</td>\n",
       "    </tr>\n",
       "    <tr>\n",
       "      <th>2</th>\n",
       "      <td>Wayne Parnell</td>\n",
       "      <td>Allrounder</td>\n",
       "      <td>South Africa</td>\n",
       "      <td>75.0</td>\n",
       "      <td>NaN</td>\n",
       "      <td>NaN</td>\n",
       "      <td>UNSOLD</td>\n",
       "    </tr>\n",
       "    <tr>\n",
       "      <th>3</th>\n",
       "      <td>Shakib Al Hasan</td>\n",
       "      <td>Allrounder</td>\n",
       "      <td>Bangladesh</td>\n",
       "      <td>150.0</td>\n",
       "      <td>150.0</td>\n",
       "      <td>KKR</td>\n",
       "      <td>SOLD</td>\n",
       "    </tr>\n",
       "    <tr>\n",
       "      <th>4</th>\n",
       "      <td>Joe Root</td>\n",
       "      <td>Batter</td>\n",
       "      <td>England</td>\n",
       "      <td>100.0</td>\n",
       "      <td>100.0</td>\n",
       "      <td>RR</td>\n",
       "      <td>SOLD</td>\n",
       "    </tr>\n",
       "    <tr>\n",
       "      <th>...</th>\n",
       "      <td>...</td>\n",
       "      <td>...</td>\n",
       "      <td>...</td>\n",
       "      <td>...</td>\n",
       "      <td>...</td>\n",
       "      <td>...</td>\n",
       "      <td>...</td>\n",
       "    </tr>\n",
       "    <tr>\n",
       "      <th>304</th>\n",
       "      <td>MS Dhoni</td>\n",
       "      <td>WK-Batter</td>\n",
       "      <td>India</td>\n",
       "      <td>NaN</td>\n",
       "      <td>1200.0</td>\n",
       "      <td>CSK</td>\n",
       "      <td>RETAINED</td>\n",
       "    </tr>\n",
       "    <tr>\n",
       "      <th>305</th>\n",
       "      <td>Moeen Ali</td>\n",
       "      <td>Allrounder</td>\n",
       "      <td>England</td>\n",
       "      <td>NaN</td>\n",
       "      <td>800.0</td>\n",
       "      <td>CSK</td>\n",
       "      <td>RETAINED</td>\n",
       "    </tr>\n",
       "    <tr>\n",
       "      <th>306</th>\n",
       "      <td>Ruturaj Gaikwad</td>\n",
       "      <td>Batter</td>\n",
       "      <td>India</td>\n",
       "      <td>NaN</td>\n",
       "      <td>600.0</td>\n",
       "      <td>CSK</td>\n",
       "      <td>RETAINED</td>\n",
       "    </tr>\n",
       "    <tr>\n",
       "      <th>307</th>\n",
       "      <td>Rishabh Pant</td>\n",
       "      <td>WK-Batter</td>\n",
       "      <td>India</td>\n",
       "      <td>NaN</td>\n",
       "      <td>1600.0</td>\n",
       "      <td>DC</td>\n",
       "      <td>RETAINED</td>\n",
       "    </tr>\n",
       "    <tr>\n",
       "      <th>308</th>\n",
       "      <td>Axar Patel</td>\n",
       "      <td>Allrounder</td>\n",
       "      <td>India</td>\n",
       "      <td>NaN</td>\n",
       "      <td>900.0</td>\n",
       "      <td>DC</td>\n",
       "      <td>RETAINED</td>\n",
       "    </tr>\n",
       "  </tbody>\n",
       "</table>\n",
       "<p>309 rows × 7 columns</p>\n",
       "</div>"
      ],
      "text/plain": [
       "                name player_style   nationality  base_price  final_price  \\\n",
       "0       Harshit Rana       Bowler         India         NaN         20.0   \n",
       "1          Ekant Sen       Batter         India        20.0          NaN   \n",
       "2      Wayne Parnell   Allrounder  South Africa        75.0          NaN   \n",
       "3    Shakib Al Hasan   Allrounder    Bangladesh       150.0        150.0   \n",
       "4           Joe Root       Batter       England       100.0        100.0   \n",
       "..               ...          ...           ...         ...          ...   \n",
       "304         MS Dhoni    WK-Batter         India         NaN       1200.0   \n",
       "305        Moeen Ali   Allrounder       England         NaN        800.0   \n",
       "306  Ruturaj Gaikwad       Batter         India         NaN        600.0   \n",
       "307     Rishabh Pant    WK-Batter         India         NaN       1600.0   \n",
       "308       Axar Patel   Allrounder         India         NaN        900.0   \n",
       "\n",
       "    franchise    status  \n",
       "0         KKR  RETAINED  \n",
       "1         NaN    UNSOLD  \n",
       "2         NaN    UNSOLD  \n",
       "3         KKR      SOLD  \n",
       "4          RR      SOLD  \n",
       "..        ...       ...  \n",
       "304       CSK  RETAINED  \n",
       "305       CSK  RETAINED  \n",
       "306       CSK  RETAINED  \n",
       "307        DC  RETAINED  \n",
       "308        DC  RETAINED  \n",
       "\n",
       "[309 rows x 7 columns]"
      ]
     },
     "execution_count": 17,
     "metadata": {},
     "output_type": "execute_result"
    }
   ],
   "source": [
    "df"
   ]
  },
  {
   "cell_type": "code",
   "execution_count": 18,
   "id": "bea24429-8487-4128-8cd8-8a1837614b9f",
   "metadata": {},
   "outputs": [
    {
     "data": {
      "text/plain": [
       "status\n",
       "UNSOLD    71\n",
       "Name: count, dtype: int64"
      ]
     },
     "execution_count": 18,
     "metadata": {},
     "output_type": "execute_result"
    }
   ],
   "source": [
    "df['status'][df['franchise'].isnull() & df['final_price'].isnull()].value_counts()"
   ]
  },
  {
   "cell_type": "code",
   "execution_count": 19,
   "id": "8783161f-7557-4f3e-9f2b-85edf62f6051",
   "metadata": {},
   "outputs": [
    {
     "data": {
      "text/html": [
       "<div>\n",
       "<style scoped>\n",
       "    .dataframe tbody tr th:only-of-type {\n",
       "        vertical-align: middle;\n",
       "    }\n",
       "\n",
       "    .dataframe tbody tr th {\n",
       "        vertical-align: top;\n",
       "    }\n",
       "\n",
       "    .dataframe thead th {\n",
       "        text-align: right;\n",
       "    }\n",
       "</style>\n",
       "<table border=\"1\" class=\"dataframe\">\n",
       "  <thead>\n",
       "    <tr style=\"text-align: right;\">\n",
       "      <th></th>\n",
       "      <th>name</th>\n",
       "      <th>player_style</th>\n",
       "      <th>nationality</th>\n",
       "      <th>base_price</th>\n",
       "      <th>final_price</th>\n",
       "      <th>franchise</th>\n",
       "      <th>status</th>\n",
       "    </tr>\n",
       "  </thead>\n",
       "  <tbody>\n",
       "    <tr>\n",
       "      <th>0</th>\n",
       "      <td>Harshit Rana</td>\n",
       "      <td>Bowler</td>\n",
       "      <td>India</td>\n",
       "      <td>NaN</td>\n",
       "      <td>20.0</td>\n",
       "      <td>KKR</td>\n",
       "      <td>RETAINED</td>\n",
       "    </tr>\n",
       "    <tr>\n",
       "      <th>3</th>\n",
       "      <td>Shakib Al Hasan</td>\n",
       "      <td>Allrounder</td>\n",
       "      <td>Bangladesh</td>\n",
       "      <td>150.0</td>\n",
       "      <td>150.0</td>\n",
       "      <td>KKR</td>\n",
       "      <td>SOLD</td>\n",
       "    </tr>\n",
       "    <tr>\n",
       "      <th>4</th>\n",
       "      <td>Joe Root</td>\n",
       "      <td>Batter</td>\n",
       "      <td>England</td>\n",
       "      <td>100.0</td>\n",
       "      <td>100.0</td>\n",
       "      <td>RR</td>\n",
       "      <td>SOLD</td>\n",
       "    </tr>\n",
       "    <tr>\n",
       "      <th>5</th>\n",
       "      <td>Abdul Basith</td>\n",
       "      <td>Allrounder</td>\n",
       "      <td>India</td>\n",
       "      <td>20.0</td>\n",
       "      <td>20.0</td>\n",
       "      <td>RR</td>\n",
       "      <td>SOLD</td>\n",
       "    </tr>\n",
       "    <tr>\n",
       "      <th>7</th>\n",
       "      <td>Akeal Hosein</td>\n",
       "      <td>Bowler</td>\n",
       "      <td>West Indies</td>\n",
       "      <td>100.0</td>\n",
       "      <td>100.0</td>\n",
       "      <td>SRH</td>\n",
       "      <td>SOLD</td>\n",
       "    </tr>\n",
       "    <tr>\n",
       "      <th>...</th>\n",
       "      <td>...</td>\n",
       "      <td>...</td>\n",
       "      <td>...</td>\n",
       "      <td>...</td>\n",
       "      <td>...</td>\n",
       "      <td>...</td>\n",
       "      <td>...</td>\n",
       "    </tr>\n",
       "    <tr>\n",
       "      <th>304</th>\n",
       "      <td>MS Dhoni</td>\n",
       "      <td>WK-Batter</td>\n",
       "      <td>India</td>\n",
       "      <td>NaN</td>\n",
       "      <td>1200.0</td>\n",
       "      <td>CSK</td>\n",
       "      <td>RETAINED</td>\n",
       "    </tr>\n",
       "    <tr>\n",
       "      <th>305</th>\n",
       "      <td>Moeen Ali</td>\n",
       "      <td>Allrounder</td>\n",
       "      <td>England</td>\n",
       "      <td>NaN</td>\n",
       "      <td>800.0</td>\n",
       "      <td>CSK</td>\n",
       "      <td>RETAINED</td>\n",
       "    </tr>\n",
       "    <tr>\n",
       "      <th>306</th>\n",
       "      <td>Ruturaj Gaikwad</td>\n",
       "      <td>Batter</td>\n",
       "      <td>India</td>\n",
       "      <td>NaN</td>\n",
       "      <td>600.0</td>\n",
       "      <td>CSK</td>\n",
       "      <td>RETAINED</td>\n",
       "    </tr>\n",
       "    <tr>\n",
       "      <th>307</th>\n",
       "      <td>Rishabh Pant</td>\n",
       "      <td>WK-Batter</td>\n",
       "      <td>India</td>\n",
       "      <td>NaN</td>\n",
       "      <td>1600.0</td>\n",
       "      <td>DC</td>\n",
       "      <td>RETAINED</td>\n",
       "    </tr>\n",
       "    <tr>\n",
       "      <th>308</th>\n",
       "      <td>Axar Patel</td>\n",
       "      <td>Allrounder</td>\n",
       "      <td>India</td>\n",
       "      <td>NaN</td>\n",
       "      <td>900.0</td>\n",
       "      <td>DC</td>\n",
       "      <td>RETAINED</td>\n",
       "    </tr>\n",
       "  </tbody>\n",
       "</table>\n",
       "<p>238 rows × 7 columns</p>\n",
       "</div>"
      ],
      "text/plain": [
       "                name player_style  nationality  base_price  final_price  \\\n",
       "0       Harshit Rana       Bowler        India         NaN         20.0   \n",
       "3    Shakib Al Hasan   Allrounder   Bangladesh       150.0        150.0   \n",
       "4           Joe Root       Batter      England       100.0        100.0   \n",
       "5       Abdul Basith   Allrounder        India        20.0         20.0   \n",
       "7       Akeal Hosein       Bowler  West Indies       100.0        100.0   \n",
       "..               ...          ...          ...         ...          ...   \n",
       "304         MS Dhoni    WK-Batter        India         NaN       1200.0   \n",
       "305        Moeen Ali   Allrounder      England         NaN        800.0   \n",
       "306  Ruturaj Gaikwad       Batter        India         NaN        600.0   \n",
       "307     Rishabh Pant    WK-Batter        India         NaN       1600.0   \n",
       "308       Axar Patel   Allrounder        India         NaN        900.0   \n",
       "\n",
       "    franchise    status  \n",
       "0         KKR  RETAINED  \n",
       "3         KKR      SOLD  \n",
       "4          RR      SOLD  \n",
       "5          RR      SOLD  \n",
       "7         SRH      SOLD  \n",
       "..        ...       ...  \n",
       "304       CSK  RETAINED  \n",
       "305       CSK  RETAINED  \n",
       "306       CSK  RETAINED  \n",
       "307        DC  RETAINED  \n",
       "308        DC  RETAINED  \n",
       "\n",
       "[238 rows x 7 columns]"
      ]
     },
     "execution_count": 19,
     "metadata": {},
     "output_type": "execute_result"
    }
   ],
   "source": [
    "df.dropna(subset=['franchise','final_price'],inplace=True)\n",
    "df"
   ]
  },
  {
   "cell_type": "code",
   "execution_count": 20,
   "id": "826d880d-c270-47ce-9dc7-7e0e44e4a51b",
   "metadata": {},
   "outputs": [
    {
     "data": {
      "text/plain": [
       "name              0\n",
       "player_style      0\n",
       "nationality       0\n",
       "base_price      158\n",
       "final_price       0\n",
       "franchise         0\n",
       "status            0\n",
       "dtype: int64"
      ]
     },
     "execution_count": 20,
     "metadata": {},
     "output_type": "execute_result"
    }
   ],
   "source": [
    "df.isnull().sum()"
   ]
  },
  {
   "cell_type": "markdown",
   "id": "dd7d5f08-3a9e-4256-b29b-d9727dfbeab9",
   "metadata": {},
   "source": [
    "# Visualizing the distribution of player styles by base price"
   ]
  },
  {
   "cell_type": "code",
   "execution_count": 21,
   "id": "b5b169c5-f0b1-435c-a4e3-1905d833a7d0",
   "metadata": {},
   "outputs": [
    {
     "data": {
      "text/plain": [
       "<Axes: xlabel='player_style', ylabel='count'>"
      ]
     },
     "execution_count": 21,
     "metadata": {},
     "output_type": "execute_result"
    },
    {
     "data": {
      "image/png": "[encoded data removed]",
      "text/plain": [
       "<Figure size 1000x500 with 1 Axes>"
      ]
     },
     "metadata": {},
     "output_type": "display_data"
    }
   ],
   "source": [
    "import matplotlib.pyplot as plt\n",
    "plt.figure(figsize=(10,5))\n",
    "sns.countplot(data=df,x=df.player_style,hue=df['base_price'])"
   ]
  },
  {
   "cell_type": "code",
   "execution_count": 22,
   "id": "862382ac-65c8-4541-8b43-835bb4de8db2",
   "metadata": {},
   "outputs": [
    {
     "name": "stdout",
     "output_type": "stream",
     "text": [
      "Base Salary of all rounders counts:\n",
      " base_price\n",
      "20.0     20\n",
      "200.0     4\n",
      "50.0      3\n",
      "150.0     2\n",
      "100.0     2\n",
      "75.0      1\n",
      "Name: count, dtype: int64\n"
     ]
    },
    {
     "data": {
      "text/plain": [
       "<Axes: xlabel='base_price'>"
      ]
     },
     "execution_count": 22,
     "metadata": {},
     "output_type": "execute_result"
    },
    {
     "data": {
      "image/png": "[encoded data removed]",
      "text/plain": [
       "<Figure size 640x480 with 1 Axes>"
      ]
     },
     "metadata": {},
     "output_type": "display_data"
    }
   ],
   "source": [
    "\n",
    "print('Base Salary of all rounders counts:\\n',df['base_price'][df['player_style']=='Allrounder'].value_counts())\n",
    "df['base_price'][df['player_style']==\"Allrounder\"].value_counts().plot(kind=\"bar\")"
   ]
  },
  {
   "cell_type": "code",
   "execution_count": 23,
   "id": "658f0da6-8ea3-499f-a7f2-ac288852df2e",
   "metadata": {},
   "outputs": [
    {
     "data": {
      "text/plain": [
       "player_style\n",
       "Bowler        87\n",
       "Allrounder    77\n",
       "Batter        44\n",
       "WK-Batter     30\n",
       "Name: count, dtype: int64"
      ]
     },
     "execution_count": 23,
     "metadata": {},
     "output_type": "execute_result"
    }
   ],
   "source": [
    "df.player_style.value_counts()"
   ]
  },
  {
   "cell_type": "code",
   "execution_count": 24,
   "id": "f2140840-6b62-4365-b984-a00db3aaa2aa",
   "metadata": {},
   "outputs": [
    {
     "data": {
      "text/plain": [
       "player_style\n",
       "Allrounder    45\n",
       "Name: count, dtype: int64"
      ]
     },
     "execution_count": 24,
     "metadata": {},
     "output_type": "execute_result"
    }
   ],
   "source": [
    "df['player_style'][(df['player_style']==\"Allrounder\" ) &(df['base_price'].isnull())].value_counts()"
   ]
  },
  {
   "cell_type": "code",
   "execution_count": 25,
   "id": "bb58a89f-e44b-45e4-851f-13bb9c83b546",
   "metadata": {},
   "outputs": [],
   "source": [
    "df.loc[(df['player_style'] == 'Allrounder') & (df['base_price'].isnull()), 'base_price'] = 20"
   ]
  },
  {
   "cell_type": "code",
   "execution_count": 26,
   "id": "b5fe3b3d-b25a-43c3-9a91-9a3351c65676",
   "metadata": {},
   "outputs": [
    {
     "data": {
      "text/html": [
       "<div>\n",
       "<style scoped>\n",
       "    .dataframe tbody tr th:only-of-type {\n",
       "        vertical-align: middle;\n",
       "    }\n",
       "\n",
       "    .dataframe tbody tr th {\n",
       "        vertical-align: top;\n",
       "    }\n",
       "\n",
       "    .dataframe thead th {\n",
       "        text-align: right;\n",
       "    }\n",
       "</style>\n",
       "<table border=\"1\" class=\"dataframe\">\n",
       "  <thead>\n",
       "    <tr style=\"text-align: right;\">\n",
       "      <th></th>\n",
       "      <th>name</th>\n",
       "      <th>player_style</th>\n",
       "      <th>nationality</th>\n",
       "      <th>base_price</th>\n",
       "      <th>final_price</th>\n",
       "      <th>franchise</th>\n",
       "      <th>status</th>\n",
       "    </tr>\n",
       "  </thead>\n",
       "  <tbody>\n",
       "    <tr>\n",
       "      <th>0</th>\n",
       "      <td>Harshit Rana</td>\n",
       "      <td>Bowler</td>\n",
       "      <td>India</td>\n",
       "      <td>NaN</td>\n",
       "      <td>20.0</td>\n",
       "      <td>KKR</td>\n",
       "      <td>RETAINED</td>\n",
       "    </tr>\n",
       "    <tr>\n",
       "      <th>3</th>\n",
       "      <td>Shakib Al Hasan</td>\n",
       "      <td>Allrounder</td>\n",
       "      <td>Bangladesh</td>\n",
       "      <td>150.0</td>\n",
       "      <td>150.0</td>\n",
       "      <td>KKR</td>\n",
       "      <td>SOLD</td>\n",
       "    </tr>\n",
       "    <tr>\n",
       "      <th>4</th>\n",
       "      <td>Joe Root</td>\n",
       "      <td>Batter</td>\n",
       "      <td>England</td>\n",
       "      <td>100.0</td>\n",
       "      <td>100.0</td>\n",
       "      <td>RR</td>\n",
       "      <td>SOLD</td>\n",
       "    </tr>\n",
       "    <tr>\n",
       "      <th>5</th>\n",
       "      <td>Abdul Basith</td>\n",
       "      <td>Allrounder</td>\n",
       "      <td>India</td>\n",
       "      <td>20.0</td>\n",
       "      <td>20.0</td>\n",
       "      <td>RR</td>\n",
       "      <td>SOLD</td>\n",
       "    </tr>\n",
       "    <tr>\n",
       "      <th>7</th>\n",
       "      <td>Akeal Hosein</td>\n",
       "      <td>Bowler</td>\n",
       "      <td>West Indies</td>\n",
       "      <td>100.0</td>\n",
       "      <td>100.0</td>\n",
       "      <td>SRH</td>\n",
       "      <td>SOLD</td>\n",
       "    </tr>\n",
       "    <tr>\n",
       "      <th>...</th>\n",
       "      <td>...</td>\n",
       "      <td>...</td>\n",
       "      <td>...</td>\n",
       "      <td>...</td>\n",
       "      <td>...</td>\n",
       "      <td>...</td>\n",
       "      <td>...</td>\n",
       "    </tr>\n",
       "    <tr>\n",
       "      <th>304</th>\n",
       "      <td>MS Dhoni</td>\n",
       "      <td>WK-Batter</td>\n",
       "      <td>India</td>\n",
       "      <td>NaN</td>\n",
       "      <td>1200.0</td>\n",
       "      <td>CSK</td>\n",
       "      <td>RETAINED</td>\n",
       "    </tr>\n",
       "    <tr>\n",
       "      <th>305</th>\n",
       "      <td>Moeen Ali</td>\n",
       "      <td>Allrounder</td>\n",
       "      <td>England</td>\n",
       "      <td>20.0</td>\n",
       "      <td>800.0</td>\n",
       "      <td>CSK</td>\n",
       "      <td>RETAINED</td>\n",
       "    </tr>\n",
       "    <tr>\n",
       "      <th>306</th>\n",
       "      <td>Ruturaj Gaikwad</td>\n",
       "      <td>Batter</td>\n",
       "      <td>India</td>\n",
       "      <td>NaN</td>\n",
       "      <td>600.0</td>\n",
       "      <td>CSK</td>\n",
       "      <td>RETAINED</td>\n",
       "    </tr>\n",
       "    <tr>\n",
       "      <th>307</th>\n",
       "      <td>Rishabh Pant</td>\n",
       "      <td>WK-Batter</td>\n",
       "      <td>India</td>\n",
       "      <td>NaN</td>\n",
       "      <td>1600.0</td>\n",
       "      <td>DC</td>\n",
       "      <td>RETAINED</td>\n",
       "    </tr>\n",
       "    <tr>\n",
       "      <th>308</th>\n",
       "      <td>Axar Patel</td>\n",
       "      <td>Allrounder</td>\n",
       "      <td>India</td>\n",
       "      <td>20.0</td>\n",
       "      <td>900.0</td>\n",
       "      <td>DC</td>\n",
       "      <td>RETAINED</td>\n",
       "    </tr>\n",
       "  </tbody>\n",
       "</table>\n",
       "<p>238 rows × 7 columns</p>\n",
       "</div>"
      ],
      "text/plain": [
       "                name player_style  nationality  base_price  final_price  \\\n",
       "0       Harshit Rana       Bowler        India         NaN         20.0   \n",
       "3    Shakib Al Hasan   Allrounder   Bangladesh       150.0        150.0   \n",
       "4           Joe Root       Batter      England       100.0        100.0   \n",
       "5       Abdul Basith   Allrounder        India        20.0         20.0   \n",
       "7       Akeal Hosein       Bowler  West Indies       100.0        100.0   \n",
       "..               ...          ...          ...         ...          ...   \n",
       "304         MS Dhoni    WK-Batter        India         NaN       1200.0   \n",
       "305        Moeen Ali   Allrounder      England        20.0        800.0   \n",
       "306  Ruturaj Gaikwad       Batter        India         NaN        600.0   \n",
       "307     Rishabh Pant    WK-Batter        India         NaN       1600.0   \n",
       "308       Axar Patel   Allrounder        India        20.0        900.0   \n",
       "\n",
       "    franchise    status  \n",
       "0         KKR  RETAINED  \n",
       "3         KKR      SOLD  \n",
       "4          RR      SOLD  \n",
       "5          RR      SOLD  \n",
       "7         SRH      SOLD  \n",
       "..        ...       ...  \n",
       "304       CSK  RETAINED  \n",
       "305       CSK  RETAINED  \n",
       "306       CSK  RETAINED  \n",
       "307        DC  RETAINED  \n",
       "308        DC  RETAINED  \n",
       "\n",
       "[238 rows x 7 columns]"
      ]
     },
     "execution_count": 26,
     "metadata": {},
     "output_type": "execute_result"
    }
   ],
   "source": [
    "df"
   ]
  },
  {
   "cell_type": "code",
   "execution_count": 27,
   "id": "55dc6c19-377d-42f1-89a1-fdcf4281139d",
   "metadata": {},
   "outputs": [],
   "source": [
    "df['base_price'].fillna(df['base_price'].mean(), inplace=True)"
   ]
  },
  {
   "cell_type": "code",
   "execution_count": 28,
   "id": "cd05ceb5-7eef-463c-b4a8-0921896e883c",
   "metadata": {},
   "outputs": [
    {
     "data": {
      "text/plain": [
       "name            0\n",
       "player_style    0\n",
       "nationality     0\n",
       "base_price      0\n",
       "final_price     0\n",
       "franchise       0\n",
       "status          0\n",
       "dtype: int64"
      ]
     },
     "execution_count": 28,
     "metadata": {},
     "output_type": "execute_result"
    }
   ],
   "source": [
    "#cleaned data\n",
    "df.isnull().sum()"
   ]
  },
  {
   "cell_type": "code",
   "execution_count": 29,
   "id": "1b1526da-3cfd-436d-a695-f885444bea61",
   "metadata": {},
   "outputs": [
    {
     "data": {
      "text/html": [
       "<div>\n",
       "<style scoped>\n",
       "    .dataframe tbody tr th:only-of-type {\n",
       "        vertical-align: middle;\n",
       "    }\n",
       "\n",
       "    .dataframe tbody tr th {\n",
       "        vertical-align: top;\n",
       "    }\n",
       "\n",
       "    .dataframe thead th {\n",
       "        text-align: right;\n",
       "    }\n",
       "</style>\n",
       "<table border=\"1\" class=\"dataframe\">\n",
       "  <thead>\n",
       "    <tr style=\"text-align: right;\">\n",
       "      <th></th>\n",
       "      <th>base_price</th>\n",
       "      <th>final_price</th>\n",
       "    </tr>\n",
       "  </thead>\n",
       "  <tbody>\n",
       "    <tr>\n",
       "      <th>count</th>\n",
       "      <td>238.000000</td>\n",
       "      <td>238.000000</td>\n",
       "    </tr>\n",
       "    <tr>\n",
       "      <th>mean</th>\n",
       "      <td>47.120000</td>\n",
       "      <td>368.067227</td>\n",
       "    </tr>\n",
       "    <tr>\n",
       "      <th>std</th>\n",
       "      <td>38.325345</td>\n",
       "      <td>449.070117</td>\n",
       "    </tr>\n",
       "    <tr>\n",
       "      <th>min</th>\n",
       "      <td>20.000000</td>\n",
       "      <td>20.000000</td>\n",
       "    </tr>\n",
       "    <tr>\n",
       "      <th>25%</th>\n",
       "      <td>20.000000</td>\n",
       "      <td>21.250000</td>\n",
       "    </tr>\n",
       "    <tr>\n",
       "      <th>50%</th>\n",
       "      <td>47.120000</td>\n",
       "      <td>150.000000</td>\n",
       "    </tr>\n",
       "    <tr>\n",
       "      <th>75%</th>\n",
       "      <td>47.120000</td>\n",
       "      <td>625.000000</td>\n",
       "    </tr>\n",
       "    <tr>\n",
       "      <th>max</th>\n",
       "      <td>200.000000</td>\n",
       "      <td>1850.000000</td>\n",
       "    </tr>\n",
       "  </tbody>\n",
       "</table>\n",
       "</div>"
      ],
      "text/plain": [
       "       base_price  final_price\n",
       "count  238.000000   238.000000\n",
       "mean    47.120000   368.067227\n",
       "std     38.325345   449.070117\n",
       "min     20.000000    20.000000\n",
       "25%     20.000000    21.250000\n",
       "50%     47.120000   150.000000\n",
       "75%     47.120000   625.000000\n",
       "max    200.000000  1850.000000"
      ]
     },
     "execution_count": 29,
     "metadata": {},
     "output_type": "execute_result"
    }
   ],
   "source": [
    "df.describe()"
   ]
  },
  {
   "cell_type": "code",
   "execution_count": 30,
   "id": "8be6f990-3142-4ed2-bc58-70e913b48ab7",
   "metadata": {},
   "outputs": [
    {
     "data": {
      "image/png": "[encoded data removed]",
      "text/plain": [
       "<Figure size 1000x500 with 1 Axes>"
      ]
     },
     "metadata": {},
     "output_type": "display_data"
    }
   ],
   "source": [
    "franchise_spending = df.groupby('franchise')['final_price'].mean().sort_values(ascending=False)\n",
    "plt.figure(figsize=(10,5))\n",
    "franchise_spending.plot(kind='bar')\n",
    "plt.xlabel('Franchise')\n",
    "plt.ylabel('Average Final Price')\n",
    "plt.title('Average Final Price by Franchise')\n",
    "plt.show()"
   ]
  },
  {
   "cell_type": "code",
   "execution_count": 31,
   "id": "b2eaf902-1443-49c0-9404-e98f0759f5b7",
   "metadata": {},
   "outputs": [
    {
     "data": {
      "image/png": "[encoded data removed]",
      "text/plain": [
       "<Figure size 1000x500 with 1 Axes>"
      ]
     },
     "metadata": {},
     "output_type": "display_data"
    }
   ],
   "source": [
    "franchise_spending=df.groupby('franchise')['final_price'].max().sort_values(ascending=False)\n",
    "plt.figure(figsize=(10, 5))\n",
    "franchise_spending.plot(kind='bar')\n",
    "plt.xlabel('Franchise')\n",
    "plt.ylabel('Maximum Final Price')\n",
    "plt.title('Maximum spent on a player by Franchise')\n",
    "plt.show()"
   ]
  },
  {
   "cell_type": "markdown",
   "id": "73cb2d04-2939-4407-8119-aa74d6de2049",
   "metadata": {},
   "source": [
    "# Player Styles cost"
   ]
  },
  {
   "cell_type": "code",
   "execution_count": 32,
   "id": "38b94310-ca6c-4ccf-a71d-799e895bdcda",
   "metadata": {},
   "outputs": [
    {
     "data": {
      "image/png": "[encoded data removed]",
      "text/plain": [
       "<Figure size 800x500 with 1 Axes>"
      ]
     },
     "metadata": {},
     "output_type": "display_data"
    }
   ],
   "source": [
    "plt.figure(figsize=(8,5))\n",
    "sns.countplot(data=df,x='player_style')\n",
    "plt.xlabel('Player Style')\n",
    "plt.ylabel(\"Count\")\n",
    "plt.title('Distribution of Player Styles')\n",
    "plt.show()"
   ]
  },
  {
   "cell_type": "code",
   "execution_count": 33,
   "id": "05d0ef55-083e-4139-969e-08b43812267a",
   "metadata": {},
   "outputs": [
    {
     "data": {
      "text/html": [
       "<div>\n",
       "<style scoped>\n",
       "    .dataframe tbody tr th:only-of-type {\n",
       "        vertical-align: middle;\n",
       "    }\n",
       "\n",
       "    .dataframe tbody tr th {\n",
       "        vertical-align: top;\n",
       "    }\n",
       "\n",
       "    .dataframe thead th {\n",
       "        text-align: right;\n",
       "    }\n",
       "</style>\n",
       "<table border=\"1\" class=\"dataframe\">\n",
       "  <thead>\n",
       "    <tr style=\"text-align: right;\">\n",
       "      <th></th>\n",
       "      <th>count</th>\n",
       "      <th>mean</th>\n",
       "      <th>std</th>\n",
       "      <th>min</th>\n",
       "      <th>25%</th>\n",
       "      <th>50%</th>\n",
       "      <th>75%</th>\n",
       "      <th>max</th>\n",
       "    </tr>\n",
       "    <tr>\n",
       "      <th>player_style</th>\n",
       "      <th></th>\n",
       "      <th></th>\n",
       "      <th></th>\n",
       "      <th></th>\n",
       "      <th></th>\n",
       "      <th></th>\n",
       "      <th></th>\n",
       "      <th></th>\n",
       "    </tr>\n",
       "  </thead>\n",
       "  <tbody>\n",
       "    <tr>\n",
       "      <th>Allrounder</th>\n",
       "      <td>77.0</td>\n",
       "      <td>376.298701</td>\n",
       "      <td>485.561532</td>\n",
       "      <td>20.0</td>\n",
       "      <td>20.00</td>\n",
       "      <td>100.0</td>\n",
       "      <td>650.00</td>\n",
       "      <td>1850.0</td>\n",
       "    </tr>\n",
       "    <tr>\n",
       "      <th>Batter</th>\n",
       "      <td>44.0</td>\n",
       "      <td>425.113636</td>\n",
       "      <td>441.586053</td>\n",
       "      <td>20.0</td>\n",
       "      <td>50.00</td>\n",
       "      <td>260.0</td>\n",
       "      <td>781.25</td>\n",
       "      <td>1600.0</td>\n",
       "    </tr>\n",
       "    <tr>\n",
       "      <th>Bowler</th>\n",
       "      <td>87.0</td>\n",
       "      <td>290.344828</td>\n",
       "      <td>350.931313</td>\n",
       "      <td>20.0</td>\n",
       "      <td>30.00</td>\n",
       "      <td>120.0</td>\n",
       "      <td>420.00</td>\n",
       "      <td>1500.0</td>\n",
       "    </tr>\n",
       "    <tr>\n",
       "      <th>WK-Batter</th>\n",
       "      <td>30.0</td>\n",
       "      <td>488.666667</td>\n",
       "      <td>581.006756</td>\n",
       "      <td>20.0</td>\n",
       "      <td>31.25</td>\n",
       "      <td>170.0</td>\n",
       "      <td>675.00</td>\n",
       "      <td>1700.0</td>\n",
       "    </tr>\n",
       "  </tbody>\n",
       "</table>\n",
       "</div>"
      ],
      "text/plain": [
       "              count        mean         std   min    25%    50%     75%  \\\n",
       "player_style                                                              \n",
       "Allrounder     77.0  376.298701  485.561532  20.0  20.00  100.0  650.00   \n",
       "Batter         44.0  425.113636  441.586053  20.0  50.00  260.0  781.25   \n",
       "Bowler         87.0  290.344828  350.931313  20.0  30.00  120.0  420.00   \n",
       "WK-Batter      30.0  488.666667  581.006756  20.0  31.25  170.0  675.00   \n",
       "\n",
       "                 max  \n",
       "player_style          \n",
       "Allrounder    1850.0  \n",
       "Batter        1600.0  \n",
       "Bowler        1500.0  \n",
       "WK-Batter     1700.0  "
      ]
     },
     "execution_count": 33,
     "metadata": {},
     "output_type": "execute_result"
    }
   ],
   "source": [
    "df.groupby(['player_style'])['final_price'].describe()"
   ]
  },
  {
   "cell_type": "code",
   "execution_count": 34,
   "id": "0e3fe6d7-9df2-4486-bc1a-d7a40d0c40b6",
   "metadata": {},
   "outputs": [
    {
     "data": {
      "image/png": "[encoded data removed]",
      "text/plain": [
       "<Figure size 800x500 with 1 Axes>"
      ]
     },
     "metadata": {},
     "output_type": "display_data"
    }
   ],
   "source": [
    "player_style_cost = df.groupby('player_style')['final_price'].describe()\n",
    "\n",
    "player_style_cost.plot(kind='bar', figsize=(8,5))\n",
    "plt.xlabel('Player Style')\n",
    "plt.ylabel('Final Price')\n",
    "plt.title('Distribution of Final Price by Player Style')\n",
    "plt.show()"
   ]
  },
  {
   "cell_type": "code",
   "execution_count": 37,
   "id": "6b17a575-16bd-47d5-bc0d-ec8eccaf7f61",
   "metadata": {},
   "outputs": [
    {
     "data": {
      "text/html": [
       "<div>\n",
       "<style scoped>\n",
       "    .dataframe tbody tr th:only-of-type {\n",
       "        vertical-align: middle;\n",
       "    }\n",
       "\n",
       "    .dataframe tbody tr th {\n",
       "        vertical-align: top;\n",
       "    }\n",
       "\n",
       "    .dataframe thead th {\n",
       "        text-align: right;\n",
       "    }\n",
       "</style>\n",
       "<table border=\"1\" class=\"dataframe\">\n",
       "  <thead>\n",
       "    <tr style=\"text-align: right;\">\n",
       "      <th></th>\n",
       "      <th>name</th>\n",
       "      <th>player_style</th>\n",
       "      <th>nationality</th>\n",
       "      <th>base_price</th>\n",
       "      <th>final_price</th>\n",
       "      <th>franchise</th>\n",
       "      <th>status</th>\n",
       "    </tr>\n",
       "  </thead>\n",
       "  <tbody>\n",
       "    <tr>\n",
       "      <th>150</th>\n",
       "      <td>Sam Curran</td>\n",
       "      <td>Allrounder</td>\n",
       "      <td>England</td>\n",
       "      <td>200.0</td>\n",
       "      <td>1850.0</td>\n",
       "      <td>PBKS</td>\n",
       "      <td>SOLD</td>\n",
       "    </tr>\n",
       "  </tbody>\n",
       "</table>\n",
       "</div>"
      ],
      "text/plain": [
       "           name player_style nationality  base_price  final_price franchise  \\\n",
       "150  Sam Curran   Allrounder     England       200.0       1850.0      PBKS   \n",
       "\n",
       "    status  \n",
       "150   SOLD  "
      ]
     },
     "execution_count": 37,
     "metadata": {},
     "output_type": "execute_result"
    }
   ],
   "source": [
    "# Analysis :Who was costiliest allrounder player\n",
    "costliest_allrounder= df[df['final_price']==df['final_price'].max()]\n",
    "costliest_allrounder"
   ]
  },
  {
   "cell_type": "code",
   "execution_count": 38,
   "id": "72da3c85-9182-4cd1-a3dd-578eddaeaef6",
   "metadata": {},
   "outputs": [
    {
     "data": {
      "image/png": "[encoded data removed]",
      "text/plain": [
       "<Figure size 1200x700 with 1 Axes>"
      ]
     },
     "metadata": {},
     "output_type": "display_data"
    }
   ],
   "source": [
    "plt.figure(figsize=(12,7))\n",
    "sns.countplot(data=df,x='franchise',hue='player_style')\n",
    "plt.xlabel('Franchise')\n",
    "plt.ylabel('Count')\n",
    "plt.title('Player Styles in Each Franchise')\n",
    "plt.show()"
   ]
  },
  {
   "cell_type": "code",
   "execution_count": 43,
   "id": "7e33b780-c775-4f32-8581-c54d958ed99e",
   "metadata": {},
   "outputs": [
    {
     "data": {
      "text/plain": [
       "nationality   player_style\n",
       "India         Bowler          63\n",
       "              Allrounder      50\n",
       "              Batter          30\n",
       "              WK-Batter       19\n",
       "England       Allrounder       6\n",
       "Australia     Allrounder       5\n",
       "South Africa  Batter           5\n",
       "West Indies   Allrounder       5\n",
       "England       Bowler           4\n",
       "South Africa  WK-Batter        4\n",
       "West Indies   Bowler           4\n",
       "Australia     Bowler           4\n",
       "England       Batter           3\n",
       "South Africa  Allrounder       3\n",
       "              Bowler           3\n",
       "Afghanistan   Bowler           3\n",
       "England       WK-Batter        2\n",
       "West Indies   Batter           2\n",
       "Sri Lanka     Bowler           2\n",
       "New Zealand   Allrounder       2\n",
       "              Batter           2\n",
       "              Bowler           2\n",
       "              WK-Batter        2\n",
       "Sri Lanka     Allrounder       1\n",
       "West Indies   WK-Batter        1\n",
       "Sri Lanka     Batter           1\n",
       "Namibia       Allrounder       1\n",
       "Singapore     Allrounder       1\n",
       "Afghanistan   Allrounder       1\n",
       "Ireland       Bowler           1\n",
       "Bangladesh    Allrounder       1\n",
       "              Bowler           1\n",
       "              WK-Batter        1\n",
       "Australia     Batter           1\n",
       "              WK-Batter        1\n",
       "Zimbabwe      Allrounder       1\n",
       "Name: count, dtype: int64"
      ]
     },
     "execution_count": 43,
     "metadata": {},
     "output_type": "execute_result"
    }
   ],
   "source": [
    "player_styles_nationality=df.groupby('nationality')['player_style'].value_counts().sort_values(ascending=False)\n",
    "player_styles_nationality"
   ]
  },
  {
   "cell_type": "code",
   "execution_count": 45,
   "id": "1225b622-9a08-475f-b9ca-bdd6d080bddc",
   "metadata": {},
   "outputs": [
    {
     "data": {
      "image/png": "[encoded data removed]",
      "text/plain": [
       "<Figure size 1500x500 with 1 Axes>"
      ]
     },
     "metadata": {},
     "output_type": "display_data"
    }
   ],
   "source": [
    "nationality_cost=df.groupby('nationality')['final_price'].mean().sort_values(ascending=False)\n",
    "plt.figure(figsize=(15,5))\n",
    "sns.barplot(data=df,x='nationality',y='final_price')\n",
    "plt.xlabel('Nationality')\n",
    "plt.ylabel('Average Final Price')\n",
    "plt.title('Average Final Price by Nationality')\n",
    "plt.show()"
   ]
  },
  {
   "cell_type": "code",
   "execution_count": 46,
   "id": "d5541a24-925d-4bc3-9d92-a0c79d27c1b7",
   "metadata": {},
   "outputs": [
    {
     "data": {
      "text/html": [
       "<div>\n",
       "<style scoped>\n",
       "    .dataframe tbody tr th:only-of-type {\n",
       "        vertical-align: middle;\n",
       "    }\n",
       "\n",
       "    .dataframe tbody tr th {\n",
       "        vertical-align: top;\n",
       "    }\n",
       "\n",
       "    .dataframe thead th {\n",
       "        text-align: right;\n",
       "    }\n",
       "</style>\n",
       "<table border=\"1\" class=\"dataframe\">\n",
       "  <thead>\n",
       "    <tr style=\"text-align: right;\">\n",
       "      <th></th>\n",
       "      <th>name</th>\n",
       "      <th>player_style</th>\n",
       "      <th>nationality</th>\n",
       "      <th>base_price</th>\n",
       "      <th>final_price</th>\n",
       "      <th>franchise</th>\n",
       "      <th>status</th>\n",
       "    </tr>\n",
       "  </thead>\n",
       "  <tbody>\n",
       "    <tr>\n",
       "      <th>167</th>\n",
       "      <td>Tim David</td>\n",
       "      <td>Allrounder</td>\n",
       "      <td>Singapore</td>\n",
       "      <td>20.0</td>\n",
       "      <td>825.0</td>\n",
       "      <td>MI</td>\n",
       "      <td>RETAINED</td>\n",
       "    </tr>\n",
       "  </tbody>\n",
       "</table>\n",
       "</div>"
      ],
      "text/plain": [
       "          name player_style nationality  base_price  final_price franchise  \\\n",
       "167  Tim David   Allrounder   Singapore        20.0        825.0        MI   \n",
       "\n",
       "       status  \n",
       "167  RETAINED  "
      ]
     },
     "execution_count": 46,
     "metadata": {},
     "output_type": "execute_result"
    }
   ],
   "source": [
    "df[df['nationality']=='Singapore']"
   ]
  },
  {
   "cell_type": "code",
   "execution_count": 48,
   "id": "c678307c-fe76-4148-a77f-990eed347bbb",
   "metadata": {},
   "outputs": [
    {
     "name": "stderr",
     "output_type": "stream",
     "text": [
      "C:\\Users\\dell\\AppData\\Local\\Temp\\ipykernel_22232\\2532649767.py:1: SettingWithCopyWarning: \n",
      "A value is trying to be set on a copy of a slice from a DataFrame\n",
      "\n",
      "See the caveats in the documentation: https://pandas.pydata.org/pandas-docs/stable/user_guide/indexing.html#returning-a-view-versus-a-copy\n",
      "  df['nationality'][df['nationality']=='Singapore']= 'Australia'\n"
     ]
    },
    {
     "data": {
      "image/png": "[encoded data removed]",
      "text/plain": [
       "<Figure size 1500x500 with 1 Axes>"
      ]
     },
     "metadata": {},
     "output_type": "display_data"
    }
   ],
   "source": [
    "df['nationality'][df['nationality']=='Singapore']= 'Australia'\n",
    "nationality_cost_corrected=df.groupby('nationality')['final_price'].mean().sort_values(ascending=False)\n",
    "plt.figure(figsize=(15,5))\n",
    "\n",
    "nationality_cost_corrected.plot(kind='bar')\n",
    "plt.xlabel('Nationality')\n",
    "plt.ylabel('Average Final Price')\n",
    "plt.title('Average Final Price by Nationality')\n",
    "plt.show()"
   ]
  },
  {
   "cell_type": "code",
   "execution_count": 49,
   "id": "59515ef8-2c0e-48a0-b0fb-c0657dfac23f",
   "metadata": {},
   "outputs": [
    {
     "data": {
      "image/png": "[encoded data removed]",
      "text/plain": [
       "<Figure size 800x500 with 1 Axes>"
      ]
     },
     "metadata": {},
     "output_type": "display_data"
    }
   ],
   "source": [
    "#player style vs Final price vs status\n",
    "plt.figure(figsize=(8,5))\n",
    "sns.barplot(data=df ,x='player_style',y='final_price',hue='status')\n",
    "plt.xlabel('Player Style')\n",
    "plt.ylabel('Final Price')\n",
    "plt.title('Player Style vs Final Price by Status')\n",
    "plt.show()"
   ]
  },
  {
   "cell_type": "code",
   "execution_count": null,
   "id": "9ef080e5-2d04-4510-8837-5873db24d115",
   "metadata": {},
   "outputs": [],
   "source": []
  }
 ],
 "metadata": {
  "kernelspec": {
   "display_name": "Python 3 (ipykernel)",
   "language": "python",
   "name": "python3"
  },
  "language_info": {
   "codemirror_mode": {
    "name": "ipython",
    "version": 3
   },
   "file_extension": ".py",
   "mimetype": "text/x-python",
   "name": "python",
   "nbconvert_exporter": "python",
   "pygments_lexer": "ipython3",
   "version": "3.11.1"
  }
 },
 "nbformat": 4,
 "nbformat_minor": 5
}
