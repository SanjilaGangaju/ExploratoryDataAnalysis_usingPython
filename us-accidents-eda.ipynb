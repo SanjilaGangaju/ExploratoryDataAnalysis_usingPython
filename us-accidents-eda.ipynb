{
 "cells": [
  {
   "cell_type": "code",
   "execution_count": 1,
   "id": "57c198e8",
   "metadata": {
    "_cell_guid": "b1076dfc-b9ad-4769-8c92-a6c4dae69d19",
    "_uuid": "8f2839f25d086af736a60e9eeb907d3b93b6e0e5",
    "execution": {
     "iopub.execute_input": "2024-04-16T13:56:28.772427Z",
     "iopub.status.busy": "2024-04-16T13:56:28.771563Z",
     "iopub.status.idle": "2024-04-16T13:56:31.547201Z",
     "shell.execute_reply": "2024-04-16T13:56:31.545498Z"
    },
    "papermill": {
     "duration": 2.796379,
     "end_time": "2024-04-16T13:56:31.550790",
     "exception": false,
     "start_time": "2024-04-16T13:56:28.754411",
     "status": "completed"
    },
    "tags": []
   },
   "outputs": [
    {
     "name": "stdout",
     "output_type": "stream",
     "text": [
      "/kaggle/input/us-accidents/US_Accidents_March23.csv\n"
     ]
    }
   ],
   "source": [
    "# This Python 3 environment comes with many helpful analytics libraries installed\n",
    "# It is defined by the kaggle/python Docker image: https://github.com/kaggle/docker-python\n",
    "# For example, here's several helpful packages to load\n",
    "\n",
    "import numpy as np # linear algebra\n",
    "import pandas as pd # data processing, CSV file I/O (e.g. pd.read_csv)\n",
    "import seaborn as sns\n",
    "import warnings\n",
    "warnings.filterwarnings('ignore')\n",
    "# Input data files are available in the read-only \"../input/\" directory\n",
    "# For example, running this (by clicking run or pressing Shift+Enter) will list all files under the input directory\n",
    "\n",
    "import os\n",
    "for dirname, _, filenames in os.walk('/kaggle/input'):\n",
    "    for filename in filenames:\n",
    "        print(os.path.join(dirname, filename))\n",
    "\n",
    "# You can write up to 20GB to the current directory (/kaggle/working/) that gets preserved as output when you create a version using \"Save & Run All\" \n",
    "# You can also write temporary files to /kaggle/temp/, but they won't be saved outside of the current session"
   ]
  },
  {
   "cell_type": "markdown",
   "id": "8e2bb0fa",
   "metadata": {
    "papermill": {
     "duration": 0.013753,
     "end_time": "2024-04-16T13:56:31.578675",
     "exception": false,
     "start_time": "2024-04-16T13:56:31.564922",
     "status": "completed"
    },
    "tags": []
   },
   "source": [
    "# US-Accidents Exploratory Data Analysis\n",
    "\n",
    "Todo-Talk about EDA\n",
    "Todo-talk about the dataset(source,what it contains,how it will be useful)\n",
    "- Kaggle\n",
    "- information about accidents\n",
    "- can use to prevent accidents\n",
    "- mention that this does not contain data about NewYork"
   ]
  },
  {
   "cell_type": "markdown",
   "id": "b4bf5605",
   "metadata": {
    "papermill": {
     "duration": 0.013264,
     "end_time": "2024-04-16T13:56:31.605870",
     "exception": false,
     "start_time": "2024-04-16T13:56:31.592606",
     "status": "completed"
    },
    "tags": []
   },
   "source": [
    "## Download the data"
   ]
  },
  {
   "cell_type": "code",
   "execution_count": 2,
   "id": "9b08f083",
   "metadata": {
    "execution": {
     "iopub.execute_input": "2024-04-16T13:56:31.636268Z",
     "iopub.status.busy": "2024-04-16T13:56:31.635664Z",
     "iopub.status.idle": "2024-04-16T13:59:23.342012Z",
     "shell.execute_reply": "2024-04-16T13:59:23.339980Z"
    },
    "papermill": {
     "duration": 171.726771,
     "end_time": "2024-04-16T13:59:23.346183",
     "exception": false,
     "start_time": "2024-04-16T13:56:31.619412",
     "status": "completed"
    },
    "tags": []
   },
   "outputs": [],
   "source": [
    "data= pd.read_csv(\"/kaggle/input/us-accidents/US_Accidents_March23.csv\")"
   ]
  },
  {
   "cell_type": "markdown",
   "id": "e6ebf9ab",
   "metadata": {
    "papermill": {
     "duration": 0.015849,
     "end_time": "2024-04-16T13:59:23.381203",
     "exception": false,
     "start_time": "2024-04-16T13:59:23.365354",
     "status": "completed"
    },
    "tags": []
   },
   "source": [
    "## Data Preparation and Cleaning\n",
    "- Load the file using Pandas\n",
    "- Look at some information about the data and columns \n",
    "- Fix any missing \n"
   ]
  },
  {
   "cell_type": "code",
   "execution_count": 3,
   "id": "c5ae8efb",
   "metadata": {
    "execution": {
     "iopub.execute_input": "2024-04-16T13:59:23.417929Z",
     "iopub.status.busy": "2024-04-16T13:59:23.417064Z",
     "iopub.status.idle": "2024-04-16T13:59:23.467607Z",
     "shell.execute_reply": "2024-04-16T13:59:23.466522Z"
    },
    "papermill": {
     "duration": 0.073514,
     "end_time": "2024-04-16T13:59:23.471681",
     "exception": false,
     "start_time": "2024-04-16T13:59:23.398167",
     "status": "completed"
    },
    "tags": []
   },
   "outputs": [
    {
     "data": {
      "text/html": [
       "<div>\n",
       "<style scoped>\n",
       "    .dataframe tbody tr th:only-of-type {\n",
       "        vertical-align: middle;\n",
       "    }\n",
       "\n",
       "    .dataframe tbody tr th {\n",
       "        vertical-align: top;\n",
       "    }\n",
       "\n",
       "    .dataframe thead th {\n",
       "        text-align: right;\n",
       "    }\n",
       "</style>\n",
       "<table border=\"1\" class=\"dataframe\">\n",
       "  <thead>\n",
       "    <tr style=\"text-align: right;\">\n",
       "      <th></th>\n",
       "      <th>ID</th>\n",
       "      <th>Source</th>\n",
       "      <th>Severity</th>\n",
       "      <th>Start_Time</th>\n",
       "      <th>End_Time</th>\n",
       "      <th>Start_Lat</th>\n",
       "      <th>Start_Lng</th>\n",
       "      <th>End_Lat</th>\n",
       "      <th>End_Lng</th>\n",
       "      <th>Distance(mi)</th>\n",
       "      <th>...</th>\n",
       "      <th>Roundabout</th>\n",
       "      <th>Station</th>\n",
       "      <th>Stop</th>\n",
       "      <th>Traffic_Calming</th>\n",
       "      <th>Traffic_Signal</th>\n",
       "      <th>Turning_Loop</th>\n",
       "      <th>Sunrise_Sunset</th>\n",
       "      <th>Civil_Twilight</th>\n",
       "      <th>Nautical_Twilight</th>\n",
       "      <th>Astronomical_Twilight</th>\n",
       "    </tr>\n",
       "  </thead>\n",
       "  <tbody>\n",
       "    <tr>\n",
       "      <th>0</th>\n",
       "      <td>A-1</td>\n",
       "      <td>Source2</td>\n",
       "      <td>3</td>\n",
       "      <td>2016-02-08 05:46:00</td>\n",
       "      <td>2016-02-08 11:00:00</td>\n",
       "      <td>39.865147</td>\n",
       "      <td>-84.058723</td>\n",
       "      <td>NaN</td>\n",
       "      <td>NaN</td>\n",
       "      <td>0.01</td>\n",
       "      <td>...</td>\n",
       "      <td>False</td>\n",
       "      <td>False</td>\n",
       "      <td>False</td>\n",
       "      <td>False</td>\n",
       "      <td>False</td>\n",
       "      <td>False</td>\n",
       "      <td>Night</td>\n",
       "      <td>Night</td>\n",
       "      <td>Night</td>\n",
       "      <td>Night</td>\n",
       "    </tr>\n",
       "    <tr>\n",
       "      <th>1</th>\n",
       "      <td>A-2</td>\n",
       "      <td>Source2</td>\n",
       "      <td>2</td>\n",
       "      <td>2016-02-08 06:07:59</td>\n",
       "      <td>2016-02-08 06:37:59</td>\n",
       "      <td>39.928059</td>\n",
       "      <td>-82.831184</td>\n",
       "      <td>NaN</td>\n",
       "      <td>NaN</td>\n",
       "      <td>0.01</td>\n",
       "      <td>...</td>\n",
       "      <td>False</td>\n",
       "      <td>False</td>\n",
       "      <td>False</td>\n",
       "      <td>False</td>\n",
       "      <td>False</td>\n",
       "      <td>False</td>\n",
       "      <td>Night</td>\n",
       "      <td>Night</td>\n",
       "      <td>Night</td>\n",
       "      <td>Day</td>\n",
       "    </tr>\n",
       "    <tr>\n",
       "      <th>2</th>\n",
       "      <td>A-3</td>\n",
       "      <td>Source2</td>\n",
       "      <td>2</td>\n",
       "      <td>2016-02-08 06:49:27</td>\n",
       "      <td>2016-02-08 07:19:27</td>\n",
       "      <td>39.063148</td>\n",
       "      <td>-84.032608</td>\n",
       "      <td>NaN</td>\n",
       "      <td>NaN</td>\n",
       "      <td>0.01</td>\n",
       "      <td>...</td>\n",
       "      <td>False</td>\n",
       "      <td>False</td>\n",
       "      <td>False</td>\n",
       "      <td>False</td>\n",
       "      <td>True</td>\n",
       "      <td>False</td>\n",
       "      <td>Night</td>\n",
       "      <td>Night</td>\n",
       "      <td>Day</td>\n",
       "      <td>Day</td>\n",
       "    </tr>\n",
       "    <tr>\n",
       "      <th>3</th>\n",
       "      <td>A-4</td>\n",
       "      <td>Source2</td>\n",
       "      <td>3</td>\n",
       "      <td>2016-02-08 07:23:34</td>\n",
       "      <td>2016-02-08 07:53:34</td>\n",
       "      <td>39.747753</td>\n",
       "      <td>-84.205582</td>\n",
       "      <td>NaN</td>\n",
       "      <td>NaN</td>\n",
       "      <td>0.01</td>\n",
       "      <td>...</td>\n",
       "      <td>False</td>\n",
       "      <td>False</td>\n",
       "      <td>False</td>\n",
       "      <td>False</td>\n",
       "      <td>False</td>\n",
       "      <td>False</td>\n",
       "      <td>Night</td>\n",
       "      <td>Day</td>\n",
       "      <td>Day</td>\n",
       "      <td>Day</td>\n",
       "    </tr>\n",
       "    <tr>\n",
       "      <th>4</th>\n",
       "      <td>A-5</td>\n",
       "      <td>Source2</td>\n",
       "      <td>2</td>\n",
       "      <td>2016-02-08 07:39:07</td>\n",
       "      <td>2016-02-08 08:09:07</td>\n",
       "      <td>39.627781</td>\n",
       "      <td>-84.188354</td>\n",
       "      <td>NaN</td>\n",
       "      <td>NaN</td>\n",
       "      <td>0.01</td>\n",
       "      <td>...</td>\n",
       "      <td>False</td>\n",
       "      <td>False</td>\n",
       "      <td>False</td>\n",
       "      <td>False</td>\n",
       "      <td>True</td>\n",
       "      <td>False</td>\n",
       "      <td>Day</td>\n",
       "      <td>Day</td>\n",
       "      <td>Day</td>\n",
       "      <td>Day</td>\n",
       "    </tr>\n",
       "  </tbody>\n",
       "</table>\n",
       "<p>5 rows × 46 columns</p>\n",
       "</div>"
      ],
      "text/plain": [
       "    ID   Source  Severity           Start_Time             End_Time  \\\n",
       "0  A-1  Source2         3  2016-02-08 05:46:00  2016-02-08 11:00:00   \n",
       "1  A-2  Source2         2  2016-02-08 06:07:59  2016-02-08 06:37:59   \n",
       "2  A-3  Source2         2  2016-02-08 06:49:27  2016-02-08 07:19:27   \n",
       "3  A-4  Source2         3  2016-02-08 07:23:34  2016-02-08 07:53:34   \n",
       "4  A-5  Source2         2  2016-02-08 07:39:07  2016-02-08 08:09:07   \n",
       "\n",
       "   Start_Lat  Start_Lng  End_Lat  End_Lng  Distance(mi)  ... Roundabout  \\\n",
       "0  39.865147 -84.058723      NaN      NaN          0.01  ...      False   \n",
       "1  39.928059 -82.831184      NaN      NaN          0.01  ...      False   \n",
       "2  39.063148 -84.032608      NaN      NaN          0.01  ...      False   \n",
       "3  39.747753 -84.205582      NaN      NaN          0.01  ...      False   \n",
       "4  39.627781 -84.188354      NaN      NaN          0.01  ...      False   \n",
       "\n",
       "  Station   Stop Traffic_Calming Traffic_Signal Turning_Loop Sunrise_Sunset  \\\n",
       "0   False  False           False          False        False          Night   \n",
       "1   False  False           False          False        False          Night   \n",
       "2   False  False           False           True        False          Night   \n",
       "3   False  False           False          False        False          Night   \n",
       "4   False  False           False           True        False            Day   \n",
       "\n",
       "  Civil_Twilight Nautical_Twilight Astronomical_Twilight  \n",
       "0          Night             Night                 Night  \n",
       "1          Night             Night                   Day  \n",
       "2          Night               Day                   Day  \n",
       "3            Day               Day                   Day  \n",
       "4            Day               Day                   Day  \n",
       "\n",
       "[5 rows x 46 columns]"
      ]
     },
     "execution_count": 3,
     "metadata": {},
     "output_type": "execute_result"
    }
   ],
   "source": [
    "data.head()"
   ]
  },
  {
   "cell_type": "code",
   "execution_count": 4,
   "id": "bea9722c",
   "metadata": {
    "execution": {
     "iopub.execute_input": "2024-04-16T13:59:23.504229Z",
     "iopub.status.busy": "2024-04-16T13:59:23.503755Z",
     "iopub.status.idle": "2024-04-16T13:59:23.534626Z",
     "shell.execute_reply": "2024-04-16T13:59:23.533034Z"
    },
    "papermill": {
     "duration": 0.050669,
     "end_time": "2024-04-16T13:59:23.537826",
     "exception": false,
     "start_time": "2024-04-16T13:59:23.487157",
     "status": "completed"
    },
    "tags": []
   },
   "outputs": [
    {
     "data": {
      "text/html": [
       "<div>\n",
       "<style scoped>\n",
       "    .dataframe tbody tr th:only-of-type {\n",
       "        vertical-align: middle;\n",
       "    }\n",
       "\n",
       "    .dataframe tbody tr th {\n",
       "        vertical-align: top;\n",
       "    }\n",
       "\n",
       "    .dataframe thead th {\n",
       "        text-align: right;\n",
       "    }\n",
       "</style>\n",
       "<table border=\"1\" class=\"dataframe\">\n",
       "  <thead>\n",
       "    <tr style=\"text-align: right;\">\n",
       "      <th></th>\n",
       "      <th>ID</th>\n",
       "      <th>Source</th>\n",
       "      <th>Severity</th>\n",
       "      <th>Start_Time</th>\n",
       "      <th>End_Time</th>\n",
       "      <th>Start_Lat</th>\n",
       "      <th>Start_Lng</th>\n",
       "      <th>End_Lat</th>\n",
       "      <th>End_Lng</th>\n",
       "      <th>Distance(mi)</th>\n",
       "      <th>...</th>\n",
       "      <th>Roundabout</th>\n",
       "      <th>Station</th>\n",
       "      <th>Stop</th>\n",
       "      <th>Traffic_Calming</th>\n",
       "      <th>Traffic_Signal</th>\n",
       "      <th>Turning_Loop</th>\n",
       "      <th>Sunrise_Sunset</th>\n",
       "      <th>Civil_Twilight</th>\n",
       "      <th>Nautical_Twilight</th>\n",
       "      <th>Astronomical_Twilight</th>\n",
       "    </tr>\n",
       "  </thead>\n",
       "  <tbody>\n",
       "    <tr>\n",
       "      <th>7728389</th>\n",
       "      <td>A-7777757</td>\n",
       "      <td>Source1</td>\n",
       "      <td>2</td>\n",
       "      <td>2019-08-23 18:03:25</td>\n",
       "      <td>2019-08-23 18:32:01</td>\n",
       "      <td>34.00248</td>\n",
       "      <td>-117.37936</td>\n",
       "      <td>33.99888</td>\n",
       "      <td>-117.37094</td>\n",
       "      <td>0.543</td>\n",
       "      <td>...</td>\n",
       "      <td>False</td>\n",
       "      <td>False</td>\n",
       "      <td>False</td>\n",
       "      <td>False</td>\n",
       "      <td>False</td>\n",
       "      <td>False</td>\n",
       "      <td>Day</td>\n",
       "      <td>Day</td>\n",
       "      <td>Day</td>\n",
       "      <td>Day</td>\n",
       "    </tr>\n",
       "    <tr>\n",
       "      <th>7728390</th>\n",
       "      <td>A-7777758</td>\n",
       "      <td>Source1</td>\n",
       "      <td>2</td>\n",
       "      <td>2019-08-23 19:11:30</td>\n",
       "      <td>2019-08-23 19:38:23</td>\n",
       "      <td>32.76696</td>\n",
       "      <td>-117.14806</td>\n",
       "      <td>32.76555</td>\n",
       "      <td>-117.15363</td>\n",
       "      <td>0.338</td>\n",
       "      <td>...</td>\n",
       "      <td>False</td>\n",
       "      <td>False</td>\n",
       "      <td>False</td>\n",
       "      <td>False</td>\n",
       "      <td>False</td>\n",
       "      <td>False</td>\n",
       "      <td>Day</td>\n",
       "      <td>Day</td>\n",
       "      <td>Day</td>\n",
       "      <td>Day</td>\n",
       "    </tr>\n",
       "    <tr>\n",
       "      <th>7728391</th>\n",
       "      <td>A-7777759</td>\n",
       "      <td>Source1</td>\n",
       "      <td>2</td>\n",
       "      <td>2019-08-23 19:00:21</td>\n",
       "      <td>2019-08-23 19:28:49</td>\n",
       "      <td>33.77545</td>\n",
       "      <td>-117.84779</td>\n",
       "      <td>33.77740</td>\n",
       "      <td>-117.85727</td>\n",
       "      <td>0.561</td>\n",
       "      <td>...</td>\n",
       "      <td>False</td>\n",
       "      <td>False</td>\n",
       "      <td>False</td>\n",
       "      <td>False</td>\n",
       "      <td>False</td>\n",
       "      <td>False</td>\n",
       "      <td>Day</td>\n",
       "      <td>Day</td>\n",
       "      <td>Day</td>\n",
       "      <td>Day</td>\n",
       "    </tr>\n",
       "    <tr>\n",
       "      <th>7728392</th>\n",
       "      <td>A-7777760</td>\n",
       "      <td>Source1</td>\n",
       "      <td>2</td>\n",
       "      <td>2019-08-23 19:00:21</td>\n",
       "      <td>2019-08-23 19:29:42</td>\n",
       "      <td>33.99246</td>\n",
       "      <td>-118.40302</td>\n",
       "      <td>33.98311</td>\n",
       "      <td>-118.39565</td>\n",
       "      <td>0.772</td>\n",
       "      <td>...</td>\n",
       "      <td>False</td>\n",
       "      <td>False</td>\n",
       "      <td>False</td>\n",
       "      <td>False</td>\n",
       "      <td>False</td>\n",
       "      <td>False</td>\n",
       "      <td>Day</td>\n",
       "      <td>Day</td>\n",
       "      <td>Day</td>\n",
       "      <td>Day</td>\n",
       "    </tr>\n",
       "    <tr>\n",
       "      <th>7728393</th>\n",
       "      <td>A-7777761</td>\n",
       "      <td>Source1</td>\n",
       "      <td>2</td>\n",
       "      <td>2019-08-23 18:52:06</td>\n",
       "      <td>2019-08-23 19:21:31</td>\n",
       "      <td>34.13393</td>\n",
       "      <td>-117.23092</td>\n",
       "      <td>34.13736</td>\n",
       "      <td>-117.23934</td>\n",
       "      <td>0.537</td>\n",
       "      <td>...</td>\n",
       "      <td>False</td>\n",
       "      <td>False</td>\n",
       "      <td>False</td>\n",
       "      <td>False</td>\n",
       "      <td>False</td>\n",
       "      <td>False</td>\n",
       "      <td>Day</td>\n",
       "      <td>Day</td>\n",
       "      <td>Day</td>\n",
       "      <td>Day</td>\n",
       "    </tr>\n",
       "  </tbody>\n",
       "</table>\n",
       "<p>5 rows × 46 columns</p>\n",
       "</div>"
      ],
      "text/plain": [
       "                ID   Source  Severity           Start_Time  \\\n",
       "7728389  A-7777757  Source1         2  2019-08-23 18:03:25   \n",
       "7728390  A-7777758  Source1         2  2019-08-23 19:11:30   \n",
       "7728391  A-7777759  Source1         2  2019-08-23 19:00:21   \n",
       "7728392  A-7777760  Source1         2  2019-08-23 19:00:21   \n",
       "7728393  A-7777761  Source1         2  2019-08-23 18:52:06   \n",
       "\n",
       "                    End_Time  Start_Lat  Start_Lng   End_Lat    End_Lng  \\\n",
       "7728389  2019-08-23 18:32:01   34.00248 -117.37936  33.99888 -117.37094   \n",
       "7728390  2019-08-23 19:38:23   32.76696 -117.14806  32.76555 -117.15363   \n",
       "7728391  2019-08-23 19:28:49   33.77545 -117.84779  33.77740 -117.85727   \n",
       "7728392  2019-08-23 19:29:42   33.99246 -118.40302  33.98311 -118.39565   \n",
       "7728393  2019-08-23 19:21:31   34.13393 -117.23092  34.13736 -117.23934   \n",
       "\n",
       "         Distance(mi)  ... Roundabout Station   Stop Traffic_Calming  \\\n",
       "7728389         0.543  ...      False   False  False           False   \n",
       "7728390         0.338  ...      False   False  False           False   \n",
       "7728391         0.561  ...      False   False  False           False   \n",
       "7728392         0.772  ...      False   False  False           False   \n",
       "7728393         0.537  ...      False   False  False           False   \n",
       "\n",
       "        Traffic_Signal Turning_Loop Sunrise_Sunset Civil_Twilight  \\\n",
       "7728389          False        False            Day            Day   \n",
       "7728390          False        False            Day            Day   \n",
       "7728391          False        False            Day            Day   \n",
       "7728392          False        False            Day            Day   \n",
       "7728393          False        False            Day            Day   \n",
       "\n",
       "        Nautical_Twilight Astronomical_Twilight  \n",
       "7728389               Day                   Day  \n",
       "7728390               Day                   Day  \n",
       "7728391               Day                   Day  \n",
       "7728392               Day                   Day  \n",
       "7728393               Day                   Day  \n",
       "\n",
       "[5 rows x 46 columns]"
      ]
     },
     "execution_count": 4,
     "metadata": {},
     "output_type": "execute_result"
    }
   ],
   "source": [
    "data.tail()"
   ]
  },
  {
   "cell_type": "code",
   "execution_count": 5,
   "id": "39f68bb1",
   "metadata": {
    "execution": {
     "iopub.execute_input": "2024-04-16T13:59:23.569317Z",
     "iopub.status.busy": "2024-04-16T13:59:23.568810Z",
     "iopub.status.idle": "2024-04-16T13:59:23.599940Z",
     "shell.execute_reply": "2024-04-16T13:59:23.597149Z"
    },
    "papermill": {
     "duration": 0.052166,
     "end_time": "2024-04-16T13:59:23.604404",
     "exception": false,
     "start_time": "2024-04-16T13:59:23.552238",
     "status": "completed"
    },
    "tags": []
   },
   "outputs": [
    {
     "name": "stdout",
     "output_type": "stream",
     "text": [
      "<class 'pandas.core.frame.DataFrame'>\n",
      "RangeIndex: 7728394 entries, 0 to 7728393\n",
      "Data columns (total 46 columns):\n",
      " #   Column                 Dtype  \n",
      "---  ------                 -----  \n",
      " 0   ID                     object \n",
      " 1   Source                 object \n",
      " 2   Severity               int64  \n",
      " 3   Start_Time             object \n",
      " 4   End_Time               object \n",
      " 5   Start_Lat              float64\n",
      " 6   Start_Lng              float64\n",
      " 7   End_Lat                float64\n",
      " 8   End_Lng                float64\n",
      " 9   Distance(mi)           float64\n",
      " 10  Description            object \n",
      " 11  Street                 object \n",
      " 12  City                   object \n",
      " 13  County                 object \n",
      " 14  State                  object \n",
      " 15  Zipcode                object \n",
      " 16  Country                object \n",
      " 17  Timezone               object \n",
      " 18  Airport_Code           object \n",
      " 19  Weather_Timestamp      object \n",
      " 20  Temperature(F)         float64\n",
      " 21  Wind_Chill(F)          float64\n",
      " 22  Humidity(%)            float64\n",
      " 23  Pressure(in)           float64\n",
      " 24  Visibility(mi)         float64\n",
      " 25  Wind_Direction         object \n",
      " 26  Wind_Speed(mph)        float64\n",
      " 27  Precipitation(in)      float64\n",
      " 28  Weather_Condition      object \n",
      " 29  Amenity                bool   \n",
      " 30  Bump                   bool   \n",
      " 31  Crossing               bool   \n",
      " 32  Give_Way               bool   \n",
      " 33  Junction               bool   \n",
      " 34  No_Exit                bool   \n",
      " 35  Railway                bool   \n",
      " 36  Roundabout             bool   \n",
      " 37  Station                bool   \n",
      " 38  Stop                   bool   \n",
      " 39  Traffic_Calming        bool   \n",
      " 40  Traffic_Signal         bool   \n",
      " 41  Turning_Loop           bool   \n",
      " 42  Sunrise_Sunset         object \n",
      " 43  Civil_Twilight         object \n",
      " 44  Nautical_Twilight      object \n",
      " 45  Astronomical_Twilight  object \n",
      "dtypes: bool(13), float64(12), int64(1), object(20)\n",
      "memory usage: 2.0+ GB\n"
     ]
    }
   ],
   "source": [
    "data.info()"
   ]
  },
  {
   "cell_type": "code",
   "execution_count": 6,
   "id": "bf18514d",
   "metadata": {
    "execution": {
     "iopub.execute_input": "2024-04-16T13:59:23.645323Z",
     "iopub.status.busy": "2024-04-16T13:59:23.644818Z",
     "iopub.status.idle": "2024-04-16T13:59:29.372957Z",
     "shell.execute_reply": "2024-04-16T13:59:29.369054Z"
    },
    "papermill": {
     "duration": 5.76388,
     "end_time": "2024-04-16T13:59:29.386914",
     "exception": false,
     "start_time": "2024-04-16T13:59:23.623034",
     "status": "completed"
    },
    "tags": []
   },
   "outputs": [
    {
     "data": {
      "text/html": [
       "<div>\n",
       "<style scoped>\n",
       "    .dataframe tbody tr th:only-of-type {\n",
       "        vertical-align: middle;\n",
       "    }\n",
       "\n",
       "    .dataframe tbody tr th {\n",
       "        vertical-align: top;\n",
       "    }\n",
       "\n",
       "    .dataframe thead th {\n",
       "        text-align: right;\n",
       "    }\n",
       "</style>\n",
       "<table border=\"1\" class=\"dataframe\">\n",
       "  <thead>\n",
       "    <tr style=\"text-align: right;\">\n",
       "      <th></th>\n",
       "      <th>Severity</th>\n",
       "      <th>Start_Lat</th>\n",
       "      <th>Start_Lng</th>\n",
       "      <th>End_Lat</th>\n",
       "      <th>End_Lng</th>\n",
       "      <th>Distance(mi)</th>\n",
       "      <th>Temperature(F)</th>\n",
       "      <th>Wind_Chill(F)</th>\n",
       "      <th>Humidity(%)</th>\n",
       "      <th>Pressure(in)</th>\n",
       "      <th>Visibility(mi)</th>\n",
       "      <th>Wind_Speed(mph)</th>\n",
       "      <th>Precipitation(in)</th>\n",
       "    </tr>\n",
       "  </thead>\n",
       "  <tbody>\n",
       "    <tr>\n",
       "      <th>count</th>\n",
       "      <td>7.728394e+06</td>\n",
       "      <td>7.728394e+06</td>\n",
       "      <td>7.728394e+06</td>\n",
       "      <td>4.325632e+06</td>\n",
       "      <td>4.325632e+06</td>\n",
       "      <td>7.728394e+06</td>\n",
       "      <td>7.564541e+06</td>\n",
       "      <td>5.729375e+06</td>\n",
       "      <td>7.554250e+06</td>\n",
       "      <td>7.587715e+06</td>\n",
       "      <td>7.551296e+06</td>\n",
       "      <td>7.157161e+06</td>\n",
       "      <td>5.524808e+06</td>\n",
       "    </tr>\n",
       "    <tr>\n",
       "      <th>mean</th>\n",
       "      <td>2.212384e+00</td>\n",
       "      <td>3.620119e+01</td>\n",
       "      <td>-9.470255e+01</td>\n",
       "      <td>3.626183e+01</td>\n",
       "      <td>-9.572557e+01</td>\n",
       "      <td>5.618423e-01</td>\n",
       "      <td>6.166329e+01</td>\n",
       "      <td>5.825105e+01</td>\n",
       "      <td>6.483104e+01</td>\n",
       "      <td>2.953899e+01</td>\n",
       "      <td>9.090376e+00</td>\n",
       "      <td>7.685490e+00</td>\n",
       "      <td>8.407210e-03</td>\n",
       "    </tr>\n",
       "    <tr>\n",
       "      <th>std</th>\n",
       "      <td>4.875313e-01</td>\n",
       "      <td>5.076079e+00</td>\n",
       "      <td>1.739176e+01</td>\n",
       "      <td>5.272905e+00</td>\n",
       "      <td>1.810793e+01</td>\n",
       "      <td>1.776811e+00</td>\n",
       "      <td>1.901365e+01</td>\n",
       "      <td>2.238983e+01</td>\n",
       "      <td>2.282097e+01</td>\n",
       "      <td>1.006190e+00</td>\n",
       "      <td>2.688316e+00</td>\n",
       "      <td>5.424983e+00</td>\n",
       "      <td>1.102246e-01</td>\n",
       "    </tr>\n",
       "    <tr>\n",
       "      <th>min</th>\n",
       "      <td>1.000000e+00</td>\n",
       "      <td>2.455480e+01</td>\n",
       "      <td>-1.246238e+02</td>\n",
       "      <td>2.456601e+01</td>\n",
       "      <td>-1.245457e+02</td>\n",
       "      <td>0.000000e+00</td>\n",
       "      <td>-8.900000e+01</td>\n",
       "      <td>-8.900000e+01</td>\n",
       "      <td>1.000000e+00</td>\n",
       "      <td>0.000000e+00</td>\n",
       "      <td>0.000000e+00</td>\n",
       "      <td>0.000000e+00</td>\n",
       "      <td>0.000000e+00</td>\n",
       "    </tr>\n",
       "    <tr>\n",
       "      <th>25%</th>\n",
       "      <td>2.000000e+00</td>\n",
       "      <td>3.339963e+01</td>\n",
       "      <td>-1.172194e+02</td>\n",
       "      <td>3.346207e+01</td>\n",
       "      <td>-1.177543e+02</td>\n",
       "      <td>0.000000e+00</td>\n",
       "      <td>4.900000e+01</td>\n",
       "      <td>4.300000e+01</td>\n",
       "      <td>4.800000e+01</td>\n",
       "      <td>2.937000e+01</td>\n",
       "      <td>1.000000e+01</td>\n",
       "      <td>4.600000e+00</td>\n",
       "      <td>0.000000e+00</td>\n",
       "    </tr>\n",
       "    <tr>\n",
       "      <th>50%</th>\n",
       "      <td>2.000000e+00</td>\n",
       "      <td>3.582397e+01</td>\n",
       "      <td>-8.776662e+01</td>\n",
       "      <td>3.618349e+01</td>\n",
       "      <td>-8.802789e+01</td>\n",
       "      <td>3.000000e-02</td>\n",
       "      <td>6.400000e+01</td>\n",
       "      <td>6.200000e+01</td>\n",
       "      <td>6.700000e+01</td>\n",
       "      <td>2.986000e+01</td>\n",
       "      <td>1.000000e+01</td>\n",
       "      <td>7.000000e+00</td>\n",
       "      <td>0.000000e+00</td>\n",
       "    </tr>\n",
       "    <tr>\n",
       "      <th>75%</th>\n",
       "      <td>2.000000e+00</td>\n",
       "      <td>4.008496e+01</td>\n",
       "      <td>-8.035368e+01</td>\n",
       "      <td>4.017892e+01</td>\n",
       "      <td>-8.024709e+01</td>\n",
       "      <td>4.640000e-01</td>\n",
       "      <td>7.600000e+01</td>\n",
       "      <td>7.500000e+01</td>\n",
       "      <td>8.400000e+01</td>\n",
       "      <td>3.003000e+01</td>\n",
       "      <td>1.000000e+01</td>\n",
       "      <td>1.040000e+01</td>\n",
       "      <td>0.000000e+00</td>\n",
       "    </tr>\n",
       "    <tr>\n",
       "      <th>max</th>\n",
       "      <td>4.000000e+00</td>\n",
       "      <td>4.900220e+01</td>\n",
       "      <td>-6.711317e+01</td>\n",
       "      <td>4.907500e+01</td>\n",
       "      <td>-6.710924e+01</td>\n",
       "      <td>4.417500e+02</td>\n",
       "      <td>2.070000e+02</td>\n",
       "      <td>2.070000e+02</td>\n",
       "      <td>1.000000e+02</td>\n",
       "      <td>5.863000e+01</td>\n",
       "      <td>1.400000e+02</td>\n",
       "      <td>1.087000e+03</td>\n",
       "      <td>3.647000e+01</td>\n",
       "    </tr>\n",
       "  </tbody>\n",
       "</table>\n",
       "</div>"
      ],
      "text/plain": [
       "           Severity     Start_Lat     Start_Lng       End_Lat       End_Lng  \\\n",
       "count  7.728394e+06  7.728394e+06  7.728394e+06  4.325632e+06  4.325632e+06   \n",
       "mean   2.212384e+00  3.620119e+01 -9.470255e+01  3.626183e+01 -9.572557e+01   \n",
       "std    4.875313e-01  5.076079e+00  1.739176e+01  5.272905e+00  1.810793e+01   \n",
       "min    1.000000e+00  2.455480e+01 -1.246238e+02  2.456601e+01 -1.245457e+02   \n",
       "25%    2.000000e+00  3.339963e+01 -1.172194e+02  3.346207e+01 -1.177543e+02   \n",
       "50%    2.000000e+00  3.582397e+01 -8.776662e+01  3.618349e+01 -8.802789e+01   \n",
       "75%    2.000000e+00  4.008496e+01 -8.035368e+01  4.017892e+01 -8.024709e+01   \n",
       "max    4.000000e+00  4.900220e+01 -6.711317e+01  4.907500e+01 -6.710924e+01   \n",
       "\n",
       "       Distance(mi)  Temperature(F)  Wind_Chill(F)   Humidity(%)  \\\n",
       "count  7.728394e+06    7.564541e+06   5.729375e+06  7.554250e+06   \n",
       "mean   5.618423e-01    6.166329e+01   5.825105e+01  6.483104e+01   \n",
       "std    1.776811e+00    1.901365e+01   2.238983e+01  2.282097e+01   \n",
       "min    0.000000e+00   -8.900000e+01  -8.900000e+01  1.000000e+00   \n",
       "25%    0.000000e+00    4.900000e+01   4.300000e+01  4.800000e+01   \n",
       "50%    3.000000e-02    6.400000e+01   6.200000e+01  6.700000e+01   \n",
       "75%    4.640000e-01    7.600000e+01   7.500000e+01  8.400000e+01   \n",
       "max    4.417500e+02    2.070000e+02   2.070000e+02  1.000000e+02   \n",
       "\n",
       "       Pressure(in)  Visibility(mi)  Wind_Speed(mph)  Precipitation(in)  \n",
       "count  7.587715e+06    7.551296e+06     7.157161e+06       5.524808e+06  \n",
       "mean   2.953899e+01    9.090376e+00     7.685490e+00       8.407210e-03  \n",
       "std    1.006190e+00    2.688316e+00     5.424983e+00       1.102246e-01  \n",
       "min    0.000000e+00    0.000000e+00     0.000000e+00       0.000000e+00  \n",
       "25%    2.937000e+01    1.000000e+01     4.600000e+00       0.000000e+00  \n",
       "50%    2.986000e+01    1.000000e+01     7.000000e+00       0.000000e+00  \n",
       "75%    3.003000e+01    1.000000e+01     1.040000e+01       0.000000e+00  \n",
       "max    5.863000e+01    1.400000e+02     1.087000e+03       3.647000e+01  "
      ]
     },
     "execution_count": 6,
     "metadata": {},
     "output_type": "execute_result"
    }
   ],
   "source": [
    "data.describe()                           "
   ]
  },
  {
   "cell_type": "code",
   "execution_count": 7,
   "id": "3f7b9ad9",
   "metadata": {
    "execution": {
     "iopub.execute_input": "2024-04-16T13:59:29.427811Z",
     "iopub.status.busy": "2024-04-16T13:59:29.427067Z",
     "iopub.status.idle": "2024-04-16T13:59:29.787485Z",
     "shell.execute_reply": "2024-04-16T13:59:29.785981Z"
    },
    "papermill": {
     "duration": 0.383611,
     "end_time": "2024-04-16T13:59:29.791326",
     "exception": false,
     "start_time": "2024-04-16T13:59:29.407715",
     "status": "completed"
    },
    "tags": []
   },
   "outputs": [
    {
     "data": {
      "text/plain": [
       "13"
      ]
     },
     "execution_count": 7,
     "metadata": {},
     "output_type": "execute_result"
    }
   ],
   "source": [
    "numerics = ['int16', 'int32', 'int64', 'float16', 'float32', 'float64']\n",
    "numerics_cols= data.select_dtypes(include=numerics)\n",
    "len(numerics_cols.columns)"
   ]
  },
  {
   "cell_type": "code",
   "execution_count": 8,
   "id": "08ea67eb",
   "metadata": {
    "execution": {
     "iopub.execute_input": "2024-04-16T13:59:29.826918Z",
     "iopub.status.busy": "2024-04-16T13:59:29.826427Z",
     "iopub.status.idle": "2024-04-16T13:59:50.962652Z",
     "shell.execute_reply": "2024-04-16T13:59:50.960230Z"
    },
    "papermill": {
     "duration": 21.159428,
     "end_time": "2024-04-16T13:59:50.967271",
     "exception": false,
     "start_time": "2024-04-16T13:59:29.807843",
     "status": "completed"
    },
    "tags": []
   },
   "outputs": [
    {
     "data": {
      "text/plain": [
       "End_Lat                  4.402935e-01\n",
       "End_Lng                  4.402935e-01\n",
       "Precipitation(in)        2.851286e-01\n",
       "Wind_Chill(F)            2.586590e-01\n",
       "Wind_Speed(mph)          7.391355e-02\n",
       "Visibility(mi)           2.291524e-02\n",
       "Wind_Direction           2.267043e-02\n",
       "Humidity(%)              2.253301e-02\n",
       "Weather_Condition        2.244438e-02\n",
       "Temperature(F)           2.120143e-02\n",
       "Pressure(in)             1.820288e-02\n",
       "Weather_Timestamp        1.555666e-02\n",
       "Nautical_Twilight        3.007869e-03\n",
       "Civil_Twilight           3.007869e-03\n",
       "Sunrise_Sunset           3.007869e-03\n",
       "Astronomical_Twilight    3.007869e-03\n",
       "Airport_Code             2.928810e-03\n",
       "Street                   1.406372e-03\n",
       "Timezone                 1.010300e-03\n",
       "Zipcode                  2.477876e-04\n",
       "City                     3.273643e-05\n",
       "Description              6.469649e-07\n",
       "Traffic_Signal           0.000000e+00\n",
       "Roundabout               0.000000e+00\n",
       "Station                  0.000000e+00\n",
       "Stop                     0.000000e+00\n",
       "Traffic_Calming          0.000000e+00\n",
       "Country                  0.000000e+00\n",
       "Turning_Loop             0.000000e+00\n",
       "No_Exit                  0.000000e+00\n",
       "End_Time                 0.000000e+00\n",
       "Start_Time               0.000000e+00\n",
       "Severity                 0.000000e+00\n",
       "Railway                  0.000000e+00\n",
       "Crossing                 0.000000e+00\n",
       "Junction                 0.000000e+00\n",
       "Give_Way                 0.000000e+00\n",
       "Bump                     0.000000e+00\n",
       "Amenity                  0.000000e+00\n",
       "Start_Lat                0.000000e+00\n",
       "Start_Lng                0.000000e+00\n",
       "Distance(mi)             0.000000e+00\n",
       "Source                   0.000000e+00\n",
       "County                   0.000000e+00\n",
       "State                    0.000000e+00\n",
       "ID                       0.000000e+00\n",
       "dtype: float64"
      ]
     },
     "execution_count": 8,
     "metadata": {},
     "output_type": "execute_result"
    }
   ],
   "source": [
    "missing_percentages=data.isna().sum().sort_values(ascending=False)/len(data)\n",
    "missing_percentages"
   ]
  },
  {
   "cell_type": "code",
   "execution_count": 9,
   "id": "1f7b021e",
   "metadata": {
    "execution": {
     "iopub.execute_input": "2024-04-16T13:59:51.014334Z",
     "iopub.status.busy": "2024-04-16T13:59:51.013593Z",
     "iopub.status.idle": "2024-04-16T13:59:51.031648Z",
     "shell.execute_reply": "2024-04-16T13:59:51.029605Z"
    },
    "papermill": {
     "duration": 0.0486,
     "end_time": "2024-04-16T13:59:51.035043",
     "exception": false,
     "start_time": "2024-04-16T13:59:50.986443",
     "status": "completed"
    },
    "tags": []
   },
   "outputs": [
    {
     "data": {
      "text/plain": [
       "End_Lat                  4.402935e-01\n",
       "End_Lng                  4.402935e-01\n",
       "Precipitation(in)        2.851286e-01\n",
       "Wind_Chill(F)            2.586590e-01\n",
       "Wind_Speed(mph)          7.391355e-02\n",
       "Visibility(mi)           2.291524e-02\n",
       "Wind_Direction           2.267043e-02\n",
       "Humidity(%)              2.253301e-02\n",
       "Weather_Condition        2.244438e-02\n",
       "Temperature(F)           2.120143e-02\n",
       "Pressure(in)             1.820288e-02\n",
       "Weather_Timestamp        1.555666e-02\n",
       "Nautical_Twilight        3.007869e-03\n",
       "Civil_Twilight           3.007869e-03\n",
       "Sunrise_Sunset           3.007869e-03\n",
       "Astronomical_Twilight    3.007869e-03\n",
       "Airport_Code             2.928810e-03\n",
       "Street                   1.406372e-03\n",
       "Timezone                 1.010300e-03\n",
       "Zipcode                  2.477876e-04\n",
       "City                     3.273643e-05\n",
       "Description              6.469649e-07\n",
       "dtype: float64"
      ]
     },
     "execution_count": 9,
     "metadata": {},
     "output_type": "execute_result"
    }
   ],
   "source": [
    "missing_percentages[missing_percentages !=0]"
   ]
  },
  {
   "cell_type": "code",
   "execution_count": 10,
   "id": "249cd05c",
   "metadata": {
    "execution": {
     "iopub.execute_input": "2024-04-16T13:59:51.076417Z",
     "iopub.status.busy": "2024-04-16T13:59:51.075883Z",
     "iopub.status.idle": "2024-04-16T13:59:51.929238Z",
     "shell.execute_reply": "2024-04-16T13:59:51.927099Z"
    },
    "papermill": {
     "duration": 0.87951,
     "end_time": "2024-04-16T13:59:51.933668",
     "exception": false,
     "start_time": "2024-04-16T13:59:51.054158",
     "status": "completed"
    },
    "tags": []
   },
   "outputs": [
    {
     "data": {
      "text/plain": [
       "<Axes: >"
      ]
     },
     "execution_count": 10,
     "metadata": {},
     "output_type": "execute_result"
    },
    {
     "data": {
      "image/png": "[encoded data removed]",
      "text/plain": [
       "<Figure size 640x480 with 1 Axes>"
      ]
     },
     "metadata": {},
     "output_type": "display_data"
    }
   ],
   "source": [
    "missing_percentages[missing_percentages !=0].plot(kind='barh')"
   ]
  },
  {
   "cell_type": "code",
   "execution_count": 11,
   "id": "ce0dde96",
   "metadata": {
    "execution": {
     "iopub.execute_input": "2024-04-16T13:59:51.974728Z",
     "iopub.status.busy": "2024-04-16T13:59:51.974072Z",
     "iopub.status.idle": "2024-04-16T13:59:56.632977Z",
     "shell.execute_reply": "2024-04-16T13:59:56.631740Z"
    },
    "papermill": {
     "duration": 4.683875,
     "end_time": "2024-04-16T13:59:56.636589",
     "exception": false,
     "start_time": "2024-04-16T13:59:51.952714",
     "status": "completed"
    },
    "tags": []
   },
   "outputs": [],
   "source": [
    "data.drop(['End_Lng','End_Lat'],inplace=True,axis=1)"
   ]
  },
  {
   "cell_type": "markdown",
   "id": "94b382bf",
   "metadata": {
    "papermill": {
     "duration": 0.028573,
     "end_time": "2024-04-16T13:59:56.689426",
     "exception": false,
     "start_time": "2024-04-16T13:59:56.660853",
     "status": "completed"
    },
    "tags": []
   },
   "source": [
    "# Exploratory Analysis and visualization"
   ]
  },
  {
   "cell_type": "markdown",
   "id": "f684c9f4",
   "metadata": {
    "papermill": {
     "duration": 0.023156,
     "end_time": "2024-04-16T13:59:56.735683",
     "exception": false,
     "start_time": "2024-04-16T13:59:56.712527",
     "status": "completed"
    },
    "tags": []
   },
   "source": [
    " Columns we'll analyze\n",
    " 1. City\n",
    " 2. Start Time\n",
    " 3. Start Lat,Start Lng\n",
    " 4. Temperature\n",
    " 5. Weather Condition"
   ]
  },
  {
   "cell_type": "code",
   "execution_count": 12,
   "id": "6b8aaa3c",
   "metadata": {
    "execution": {
     "iopub.execute_input": "2024-04-16T13:59:56.785673Z",
     "iopub.status.busy": "2024-04-16T13:59:56.784692Z",
     "iopub.status.idle": "2024-04-16T13:59:57.928827Z",
     "shell.execute_reply": "2024-04-16T13:59:57.927510Z"
    },
    "papermill": {
     "duration": 1.171824,
     "end_time": "2024-04-16T13:59:57.932380",
     "exception": false,
     "start_time": "2024-04-16T13:59:56.760556",
     "status": "completed"
    },
    "tags": []
   },
   "outputs": [
    {
     "data": {
      "text/plain": [
       "13679"
      ]
     },
     "execution_count": 12,
     "metadata": {},
     "output_type": "execute_result"
    }
   ],
   "source": [
    "cities=data.City.unique()\n",
    "len(cities)"
   ]
  },
  {
   "cell_type": "code",
   "execution_count": 13,
   "id": "0e9ca554",
   "metadata": {
    "execution": {
     "iopub.execute_input": "2024-04-16T13:59:57.972916Z",
     "iopub.status.busy": "2024-04-16T13:59:57.971928Z",
     "iopub.status.idle": "2024-04-16T14:00:00.418928Z",
     "shell.execute_reply": "2024-04-16T14:00:00.416486Z"
    },
    "papermill": {
     "duration": 2.472809,
     "end_time": "2024-04-16T14:00:00.423892",
     "exception": false,
     "start_time": "2024-04-16T13:59:57.951083",
     "status": "completed"
    },
    "tags": []
   },
   "outputs": [
    {
     "data": {
      "text/plain": [
       "City\n",
       "Miami                           186917\n",
       "Houston                         169609\n",
       "Los Angeles                     156491\n",
       "Charlotte                       138652\n",
       "Dallas                          130939\n",
       "                                 ...  \n",
       "Benkelman                            1\n",
       "Old Appleton                         1\n",
       "Wildrose                             1\n",
       "Mc Nabb                              1\n",
       "American Fork-Pleasant Grove         1\n",
       "Name: count, Length: 13678, dtype: int64"
      ]
     },
     "execution_count": 13,
     "metadata": {},
     "output_type": "execute_result"
    }
   ],
   "source": [
    "cities_by_accident=data.City.value_counts()\n",
    "cities_by_accident"
   ]
  },
  {
   "cell_type": "code",
   "execution_count": 14,
   "id": "6e99c52d",
   "metadata": {
    "execution": {
     "iopub.execute_input": "2024-04-16T14:00:00.485250Z",
     "iopub.status.busy": "2024-04-16T14:00:00.484638Z",
     "iopub.status.idle": "2024-04-16T14:00:00.495887Z",
     "shell.execute_reply": "2024-04-16T14:00:00.494458Z"
    },
    "papermill": {
     "duration": 0.04888,
     "end_time": "2024-04-16T14:00:00.499544",
     "exception": false,
     "start_time": "2024-04-16T14:00:00.450664",
     "status": "completed"
    },
    "tags": []
   },
   "outputs": [
    {
     "data": {
      "text/plain": [
       "City\n",
       "Miami            186917\n",
       "Houston          169609\n",
       "Los Angeles      156491\n",
       "Charlotte        138652\n",
       "Dallas           130939\n",
       "Orlando          109733\n",
       "Austin            97359\n",
       "Raleigh           86079\n",
       "Nashville         72930\n",
       "Baton Rouge       71588\n",
       "Atlanta           68186\n",
       "Sacramento        66264\n",
       "San Diego         55504\n",
       "Phoenix           53974\n",
       "Minneapolis       51488\n",
       "Richmond          48845\n",
       "Oklahoma City     46092\n",
       "Jacksonville      42447\n",
       "Tucson            39304\n",
       "Columbia          38178\n",
       "Name: count, dtype: int64"
      ]
     },
     "execution_count": 14,
     "metadata": {},
     "output_type": "execute_result"
    }
   ],
   "source": [
    "cities_by_accident[:20]"
   ]
  },
  {
   "cell_type": "code",
   "execution_count": 15,
   "id": "aaf4c969",
   "metadata": {
    "execution": {
     "iopub.execute_input": "2024-04-16T14:00:00.546443Z",
     "iopub.status.busy": "2024-04-16T14:00:00.545612Z",
     "iopub.status.idle": "2024-04-16T14:00:00.553939Z",
     "shell.execute_reply": "2024-04-16T14:00:00.552178Z"
    },
    "papermill": {
     "duration": 0.03334,
     "end_time": "2024-04-16T14:00:00.557217",
     "exception": false,
     "start_time": "2024-04-16T14:00:00.523877",
     "status": "completed"
    },
    "tags": []
   },
   "outputs": [
    {
     "data": {
      "text/plain": [
       "False"
      ]
     },
     "execution_count": 15,
     "metadata": {},
     "output_type": "execute_result"
    }
   ],
   "source": [
    "'NY' in data.State"
   ]
  },
  {
   "cell_type": "code",
   "execution_count": 16,
   "id": "dd157d59",
   "metadata": {
    "execution": {
     "iopub.execute_input": "2024-04-16T14:00:00.608110Z",
     "iopub.status.busy": "2024-04-16T14:00:00.607506Z",
     "iopub.status.idle": "2024-04-16T14:00:01.114328Z",
     "shell.execute_reply": "2024-04-16T14:00:01.112262Z"
    },
    "papermill": {
     "duration": 0.543188,
     "end_time": "2024-04-16T14:00:01.120302",
     "exception": false,
     "start_time": "2024-04-16T14:00:00.577114",
     "status": "completed"
    },
    "tags": []
   },
   "outputs": [
    {
     "data": {
      "text/plain": [
       "<Axes: ylabel='City'>"
      ]
     },
     "execution_count": 16,
     "metadata": {},
     "output_type": "execute_result"
    },
    {
     "data": {
      "image/png": "[encoded data removed]",
      "text/plain": [
       "<Figure size 640x480 with 1 Axes>"
      ]
     },
     "metadata": {},
     "output_type": "display_data"
    }
   ],
   "source": [
    "cities_by_accident[:10].plot(kind='barh')"
   ]
  },
  {
   "cell_type": "code",
   "execution_count": 17,
   "id": "ed83db80",
   "metadata": {
    "execution": {
     "iopub.execute_input": "2024-04-16T14:00:01.169085Z",
     "iopub.status.busy": "2024-04-16T14:00:01.168526Z",
     "iopub.status.idle": "2024-04-16T14:00:03.531126Z",
     "shell.execute_reply": "2024-04-16T14:00:03.529447Z"
    },
    "papermill": {
     "duration": 2.391174,
     "end_time": "2024-04-16T14:00:03.535051",
     "exception": false,
     "start_time": "2024-04-16T14:00:01.143877",
     "status": "completed"
    },
    "tags": []
   },
   "outputs": [
    {
     "data": {
      "text/plain": [
       "<Axes: xlabel='count', ylabel='Count'>"
      ]
     },
     "execution_count": 17,
     "metadata": {},
     "output_type": "execute_result"
    },
    {
     "data": {
      "image/png": "[encoded data removed]",
      "text/plain": [
       "<Figure size 640x480 with 1 Axes>"
      ]
     },
     "metadata": {},
     "output_type": "display_data"
    }
   ],
   "source": [
    "sns.set_style(\"darkgrid\")\n",
    "sns.histplot(cities_by_accident,log_scale=True)\n"
   ]
  },
  {
   "cell_type": "code",
   "execution_count": 18,
   "id": "6e756f2f",
   "metadata": {
    "execution": {
     "iopub.execute_input": "2024-04-16T14:00:03.587288Z",
     "iopub.status.busy": "2024-04-16T14:00:03.586361Z",
     "iopub.status.idle": "2024-04-16T14:00:03.616452Z",
     "shell.execute_reply": "2024-04-16T14:00:03.611623Z"
    },
    "papermill": {
     "duration": 0.064163,
     "end_time": "2024-04-16T14:00:03.623834",
     "exception": false,
     "start_time": "2024-04-16T14:00:03.559671",
     "status": "completed"
    },
    "tags": []
   },
   "outputs": [
    {
     "data": {
      "text/plain": [
       "City\n",
       "Lake Andes                      1\n",
       "Catoctin                        1\n",
       "Duck Hill                       1\n",
       "Westbrookville                  1\n",
       "Saint Croix                     1\n",
       "                               ..\n",
       "Benkelman                       1\n",
       "Old Appleton                    1\n",
       "Wildrose                        1\n",
       "Mc Nabb                         1\n",
       "American Fork-Pleasant Grove    1\n",
       "Name: count, Length: 1023, dtype: int64"
      ]
     },
     "execution_count": 18,
     "metadata": {},
     "output_type": "execute_result"
    }
   ],
   "source": [
    "cities_by_accident[cities_by_accident==1]"
   ]
  },
  {
   "cell_type": "code",
   "execution_count": 19,
   "id": "3a0dd6f0",
   "metadata": {
    "execution": {
     "iopub.execute_input": "2024-04-16T14:00:03.895701Z",
     "iopub.status.busy": "2024-04-16T14:00:03.894551Z",
     "iopub.status.idle": "2024-04-16T14:00:03.903906Z",
     "shell.execute_reply": "2024-04-16T14:00:03.902253Z"
    },
    "papermill": {
     "duration": 0.040351,
     "end_time": "2024-04-16T14:00:03.909727",
     "exception": false,
     "start_time": "2024-04-16T14:00:03.869376",
     "status": "completed"
    },
    "tags": []
   },
   "outputs": [],
   "source": [
    "high_accidents_cities=cities_by_accident[cities_by_accident>1000]\n",
    "low_accidents_cities=cities_by_accident[cities_by_accident<1000]"
   ]
  },
  {
   "cell_type": "code",
   "execution_count": 20,
   "id": "961733ec",
   "metadata": {
    "execution": {
     "iopub.execute_input": "2024-04-16T14:00:03.964654Z",
     "iopub.status.busy": "2024-04-16T14:00:03.962384Z",
     "iopub.status.idle": "2024-04-16T14:00:03.974869Z",
     "shell.execute_reply": "2024-04-16T14:00:03.973141Z"
    },
    "papermill": {
     "duration": 0.042602,
     "end_time": "2024-04-16T14:00:03.978217",
     "exception": false,
     "start_time": "2024-04-16T14:00:03.935615",
     "status": "completed"
    },
    "tags": []
   },
   "outputs": [
    {
     "data": {
      "text/plain": [
       "0.08882228233057972"
      ]
     },
     "execution_count": 20,
     "metadata": {},
     "output_type": "execute_result"
    }
   ],
   "source": [
    "len(high_accidents_cities)/len(cities)"
   ]
  },
  {
   "cell_type": "code",
   "execution_count": 21,
   "id": "e5f648f8",
   "metadata": {
    "execution": {
     "iopub.execute_input": "2024-04-16T14:00:04.033103Z",
     "iopub.status.busy": "2024-04-16T14:00:04.031696Z",
     "iopub.status.idle": "2024-04-16T14:00:04.711438Z",
     "shell.execute_reply": "2024-04-16T14:00:04.708706Z"
    },
    "papermill": {
     "duration": 0.713819,
     "end_time": "2024-04-16T14:00:04.715696",
     "exception": false,
     "start_time": "2024-04-16T14:00:04.001877",
     "status": "completed"
    },
    "tags": []
   },
   "outputs": [
    {
     "data": {
      "text/plain": [
       "<Axes: xlabel='count', ylabel='Density'>"
      ]
     },
     "execution_count": 21,
     "metadata": {},
     "output_type": "execute_result"
    },
    {
     "data": {
      "image/png": "[encoded data removed]",
      "text/plain": [
       "<Figure size 640x480 with 1 Axes>"
      ]
     },
     "metadata": {},
     "output_type": "display_data"
    }
   ],
   "source": [
    "sns.distplot(high_accidents_cities)"
   ]
  },
  {
   "cell_type": "code",
   "execution_count": 22,
   "id": "ba90f649",
   "metadata": {
    "execution": {
     "iopub.execute_input": "2024-04-16T14:00:04.763334Z",
     "iopub.status.busy": "2024-04-16T14:00:04.762877Z",
     "iopub.status.idle": "2024-04-16T14:00:05.555377Z",
     "shell.execute_reply": "2024-04-16T14:00:05.552060Z"
    },
    "papermill": {
     "duration": 0.820378,
     "end_time": "2024-04-16T14:00:05.558926",
     "exception": false,
     "start_time": "2024-04-16T14:00:04.738548",
     "status": "completed"
    },
    "tags": []
   },
   "outputs": [
    {
     "data": {
      "text/plain": [
       "<Axes: xlabel='count', ylabel='Density'>"
      ]
     },
     "execution_count": 22,
     "metadata": {},
     "output_type": "execute_result"
    },
    {
     "data": {
      "image/png": "[encoded data removed]",
      "text/plain": [
       "<Figure size 640x480 with 1 Axes>"
      ]
     },
     "metadata": {},
     "output_type": "display_data"
    }
   ],
   "source": [
    "sns.distplot(low_accidents_cities)"
   ]
  },
  {
   "cell_type": "markdown",
   "id": "cae46578",
   "metadata": {
    "papermill": {
     "duration": 0.022525,
     "end_time": "2024-04-16T14:00:05.604609",
     "exception": false,
     "start_time": "2024-04-16T14:00:05.582084",
     "status": "completed"
    },
    "tags": []
   },
   "source": [
    "### Start Time"
   ]
  },
  {
   "cell_type": "code",
   "execution_count": 23,
   "id": "b8c2e939",
   "metadata": {
    "execution": {
     "iopub.execute_input": "2024-04-16T14:00:05.657966Z",
     "iopub.status.busy": "2024-04-16T14:00:05.657385Z",
     "iopub.status.idle": "2024-04-16T14:00:05.672439Z",
     "shell.execute_reply": "2024-04-16T14:00:05.670449Z"
    },
    "papermill": {
     "duration": 0.044714,
     "end_time": "2024-04-16T14:00:05.676387",
     "exception": false,
     "start_time": "2024-04-16T14:00:05.631673",
     "status": "completed"
    },
    "tags": []
   },
   "outputs": [
    {
     "data": {
      "text/plain": [
       "0          2016-02-08 05:46:00\n",
       "1          2016-02-08 06:07:59\n",
       "2          2016-02-08 06:49:27\n",
       "3          2016-02-08 07:23:34\n",
       "4          2016-02-08 07:39:07\n",
       "                  ...         \n",
       "7728389    2019-08-23 18:03:25\n",
       "7728390    2019-08-23 19:11:30\n",
       "7728391    2019-08-23 19:00:21\n",
       "7728392    2019-08-23 19:00:21\n",
       "7728393    2019-08-23 18:52:06\n",
       "Name: Start_Time, Length: 7728394, dtype: object"
      ]
     },
     "execution_count": 23,
     "metadata": {},
     "output_type": "execute_result"
    }
   ],
   "source": [
    "data.Start_Time"
   ]
  },
  {
   "cell_type": "code",
   "execution_count": 24,
   "id": "3dfdde43",
   "metadata": {
    "execution": {
     "iopub.execute_input": "2024-04-16T14:00:05.734623Z",
     "iopub.status.busy": "2024-04-16T14:00:05.732910Z",
     "iopub.status.idle": "2024-04-16T14:00:12.106414Z",
     "shell.execute_reply": "2024-04-16T14:00:12.104180Z"
    },
    "papermill": {
     "duration": 6.406597,
     "end_time": "2024-04-16T14:00:12.111675",
     "exception": false,
     "start_time": "2024-04-16T14:00:05.705078",
     "status": "completed"
    },
    "tags": []
   },
   "outputs": [],
   "source": [
    "data['Start_Time'] = pd.to_datetime(data['Start_Time'], format='%Y-%m-%d %H:%M:%S',errors='coerce')"
   ]
  },
  {
   "cell_type": "code",
   "execution_count": 25,
   "id": "be852945",
   "metadata": {
    "execution": {
     "iopub.execute_input": "2024-04-16T14:00:12.188756Z",
     "iopub.status.busy": "2024-04-16T14:00:12.188174Z",
     "iopub.status.idle": "2024-04-16T14:00:12.204124Z",
     "shell.execute_reply": "2024-04-16T14:00:12.202255Z"
    },
    "papermill": {
     "duration": 0.068879,
     "end_time": "2024-04-16T14:00:12.212116",
     "exception": false,
     "start_time": "2024-04-16T14:00:12.143237",
     "status": "completed"
    },
    "tags": []
   },
   "outputs": [
    {
     "data": {
      "text/plain": [
       "Timestamp('2016-02-08 05:46:00')"
      ]
     },
     "execution_count": 25,
     "metadata": {},
     "output_type": "execute_result"
    }
   ],
   "source": [
    "data.Start_Time[0]"
   ]
  },
  {
   "cell_type": "code",
   "execution_count": 26,
   "id": "45cc926d",
   "metadata": {
    "execution": {
     "iopub.execute_input": "2024-04-16T14:00:12.307764Z",
     "iopub.status.busy": "2024-04-16T14:00:12.307203Z",
     "iopub.status.idle": "2024-04-16T14:00:26.811454Z",
     "shell.execute_reply": "2024-04-16T14:00:26.809461Z"
    },
    "papermill": {
     "duration": 14.558063,
     "end_time": "2024-04-16T14:00:26.814708",
     "exception": false,
     "start_time": "2024-04-16T14:00:12.256645",
     "status": "completed"
    },
    "tags": []
   },
   "outputs": [
    {
     "data": {
      "text/plain": [
       "<Axes: xlabel='Start_Time', ylabel='Density'>"
      ]
     },
     "execution_count": 26,
     "metadata": {},
     "output_type": "execute_result"
    },
    {
     "data": {
      "image/png": "[encoded data removed]",
      "text/plain": [
       "<Figure size 640x480 with 1 Axes>"
      ]
     },
     "metadata": {},
     "output_type": "display_data"
    }
   ],
   "source": [
    "sns.histplot(data['Start_Time'].dt.hour, bins=24, kde=False, stat='density')"
   ]
  },
  {
   "cell_type": "markdown",
   "id": "879f6659",
   "metadata": {
    "papermill": {
     "duration": 0.041603,
     "end_time": "2024-04-16T14:00:26.885672",
     "exception": false,
     "start_time": "2024-04-16T14:00:26.844069",
     "status": "completed"
    },
    "tags": []
   },
   "source": [
    "****Peak hours for occurence of accidents are 7 to 9 am and 16 to 19 pm\n",
    "and the reason might be \n",
    "Rush Hour Traffic: During these times, there is typically heavy traffic as people commute to and from work or school. Increased traffic congestion can lead to a higher likelihood of accidents due to more vehicles on the road and closer proximity between vehicles and others"
   ]
  },
  {
   "cell_type": "code",
   "execution_count": 27,
   "id": "24508162",
   "metadata": {
    "execution": {
     "iopub.execute_input": "2024-04-16T14:00:26.958181Z",
     "iopub.status.busy": "2024-04-16T14:00:26.957607Z",
     "iopub.status.idle": "2024-04-16T14:00:41.017970Z",
     "shell.execute_reply": "2024-04-16T14:00:41.016645Z"
    },
    "papermill": {
     "duration": 14.097952,
     "end_time": "2024-04-16T14:00:41.020849",
     "exception": false,
     "start_time": "2024-04-16T14:00:26.922897",
     "status": "completed"
    },
    "tags": []
   },
   "outputs": [
    {
     "data": {
      "text/plain": [
       "<Axes: xlabel='Start_Time', ylabel='Density'>"
      ]
     },
     "execution_count": 27,
     "metadata": {},
     "output_type": "execute_result"
    },
    {
     "data": {
      "image/png": "[encoded data removed]",
      "text/plain": [
       "<Figure size 640x480 with 1 Axes>"
      ]
     },
     "metadata": {},
     "output_type": "display_data"
    }
   ],
   "source": [
    "sns.histplot(data['Start_Time'].dt.dayofweek, bins=7, kde=False, stat='density')"
   ]
  },
  {
   "cell_type": "markdown",
   "id": "f1fbe378",
   "metadata": {
    "papermill": {
     "duration": 0.035463,
     "end_time": "2024-04-16T14:00:41.090939",
     "exception": false,
     "start_time": "2024-04-16T14:00:41.055476",
     "status": "completed"
    },
    "tags": []
   },
   "source": [
    "Is the distribution of accidents by hour the same on weekends and as onweekdays"
   ]
  },
  {
   "cell_type": "code",
   "execution_count": 28,
   "id": "11ac79f1",
   "metadata": {
    "execution": {
     "iopub.execute_input": "2024-04-16T14:00:41.160640Z",
     "iopub.status.busy": "2024-04-16T14:00:41.159720Z",
     "iopub.status.idle": "2024-04-16T14:00:41.663764Z",
     "shell.execute_reply": "2024-04-16T14:00:41.661279Z"
    },
    "papermill": {
     "duration": 0.546029,
     "end_time": "2024-04-16T14:00:41.668258",
     "exception": false,
     "start_time": "2024-04-16T14:00:41.122229",
     "status": "completed"
    },
    "tags": []
   },
   "outputs": [],
   "source": [
    "sundays_start_time =data.Start_Time[data['Start_Time'].dt.dayofweek==6]"
   ]
  },
  {
   "cell_type": "code",
   "execution_count": 29,
   "id": "6de8467c",
   "metadata": {
    "execution": {
     "iopub.execute_input": "2024-04-16T14:00:41.735750Z",
     "iopub.status.busy": "2024-04-16T14:00:41.734475Z",
     "iopub.status.idle": "2024-04-16T14:00:42.970615Z",
     "shell.execute_reply": "2024-04-16T14:00:42.969275Z"
    },
    "papermill": {
     "duration": 1.276259,
     "end_time": "2024-04-16T14:00:42.973784",
     "exception": false,
     "start_time": "2024-04-16T14:00:41.697525",
     "status": "completed"
    },
    "tags": []
   },
   "outputs": [
    {
     "data": {
      "text/plain": [
       "<Axes: xlabel='Start_Time', ylabel='Density'>"
      ]
     },
     "execution_count": 29,
     "metadata": {},
     "output_type": "execute_result"
    },
    {
     "data": {
      "image/png": "[encoded data removed]",
      "text/plain": [
       "<Figure size 640x480 with 1 Axes>"
      ]
     },
     "metadata": {},
     "output_type": "display_data"
    }
   ],
   "source": [
    "sns.histplot(sundays_start_time.dt.hour, bins=24, kde=False, stat='density')"
   ]
  },
  {
   "cell_type": "code",
   "execution_count": 30,
   "id": "d5b53865",
   "metadata": {
    "execution": {
     "iopub.execute_input": "2024-04-16T14:00:43.032076Z",
     "iopub.status.busy": "2024-04-16T14:00:43.031556Z",
     "iopub.status.idle": "2024-04-16T14:00:43.452097Z",
     "shell.execute_reply": "2024-04-16T14:00:43.450699Z"
    },
    "papermill": {
     "duration": 0.457628,
     "end_time": "2024-04-16T14:00:43.455596",
     "exception": false,
     "start_time": "2024-04-16T14:00:42.997968",
     "status": "completed"
    },
    "tags": []
   },
   "outputs": [],
   "source": [
    "mondays_start_time =data.Start_Time[data['Start_Time'].dt.dayofweek==0]"
   ]
  },
  {
   "cell_type": "code",
   "execution_count": 31,
   "id": "31515334",
   "metadata": {
    "execution": {
     "iopub.execute_input": "2024-04-16T14:00:43.506615Z",
     "iopub.status.busy": "2024-04-16T14:00:43.506062Z",
     "iopub.status.idle": "2024-04-16T14:00:45.387730Z",
     "shell.execute_reply": "2024-04-16T14:00:45.385841Z"
    },
    "papermill": {
     "duration": 1.910366,
     "end_time": "2024-04-16T14:00:45.390862",
     "exception": false,
     "start_time": "2024-04-16T14:00:43.480496",
     "status": "completed"
    },
    "tags": []
   },
   "outputs": [
    {
     "data": {
      "text/plain": [
       "<Axes: xlabel='Start_Time', ylabel='Density'>"
      ]
     },
     "execution_count": 31,
     "metadata": {},
     "output_type": "execute_result"
    },
    {
     "data": {
      "image/png": "[encoded data removed]",
      "text/plain": [
       "<Figure size 640x480 with 1 Axes>"
      ]
     },
     "metadata": {},
     "output_type": "display_data"
    }
   ],
   "source": [
    "sns.histplot(mondays_start_time.dt.hour, bins=24, kde=False, stat='density')"
   ]
  },
  {
   "cell_type": "markdown",
   "id": "79fd425b",
   "metadata": {
    "papermill": {
     "duration": 0.027471,
     "end_time": "2024-04-16T14:00:45.442995",
     "exception": false,
     "start_time": "2024-04-16T14:00:45.415524",
     "status": "completed"
    },
    "tags": []
   },
   "source": [
    "On sundays ,the peak occurs between 10 am and 3 pm unlike weekdays"
   ]
  },
  {
   "cell_type": "markdown",
   "id": "851e23b8",
   "metadata": {
    "papermill": {
     "duration": 0.02326,
     "end_time": "2024-04-16T14:00:45.490693",
     "exception": false,
     "start_time": "2024-04-16T14:00:45.467433",
     "status": "completed"
    },
    "tags": []
   },
   "source": [
    "# Ask and answer Questions"
   ]
  },
  {
   "cell_type": "markdown",
   "id": "8218edd2",
   "metadata": {
    "execution": {
     "iopub.execute_input": "2024-04-15T15:25:34.649417Z",
     "iopub.status.busy": "2024-04-15T15:25:34.648879Z",
     "iopub.status.idle": "2024-04-15T15:25:34.664642Z",
     "shell.execute_reply": "2024-04-15T15:25:34.662607Z",
     "shell.execute_reply.started": "2024-04-15T15:25:34.649378Z"
    },
    "papermill": {
     "duration": 0.022805,
     "end_time": "2024-04-16T14:00:45.539174",
     "exception": false,
     "start_time": "2024-04-16T14:00:45.516369",
     "status": "completed"
    },
    "tags": []
   },
   "source": [
    "- Are there more accidents in warmer or colder regions?\n",
    "- Which 5 states has the higher no of accidents?How about per capita?\n",
    "- Does NewYork show up in the data ? If yes,why is the count lower if this is the most populated city\n",
    "- Among the top 100 cities in number of accidents,which state do they belong to most frequently?\n",
    "- What time of the day are accidents more frequent in?Answered\n",
    "- which days of the week have the most accidents?Answered\n",
    "- Which months have the most accident?\n",
    "- What is the trend of accidents year over year(decreasing/increasing)?\n",
    "- How safe is certain state?\n",
    "- "
   ]
  },
  {
   "cell_type": "code",
   "execution_count": null,
   "id": "e2445a78",
   "metadata": {
    "papermill": {
     "duration": 0.025762,
     "end_time": "2024-04-16T14:00:45.588415",
     "exception": false,
     "start_time": "2024-04-16T14:00:45.562653",
     "status": "completed"
    },
    "tags": []
   },
   "outputs": [],
   "source": []
  },
  {
   "cell_type": "code",
   "execution_count": null,
   "id": "006a7a65",
   "metadata": {
    "papermill": {
     "duration": 0.026275,
     "end_time": "2024-04-16T14:00:45.640504",
     "exception": false,
     "start_time": "2024-04-16T14:00:45.614229",
     "status": "completed"
    },
    "tags": []
   },
   "outputs": [],
   "source": []
  },
  {
   "cell_type": "markdown",
   "id": "e967cd3e",
   "metadata": {
    "papermill": {
     "duration": 0.024771,
     "end_time": "2024-04-16T14:00:45.694620",
     "exception": false,
     "start_time": "2024-04-16T14:00:45.669849",
     "status": "completed"
    },
    "tags": []
   },
   "source": [
    "# Summary and Conclusion"
   ]
  },
  {
   "cell_type": "markdown",
   "id": "56049b46",
   "metadata": {
    "execution": {
     "iopub.execute_input": "2024-04-15T15:48:37.679957Z",
     "iopub.status.busy": "2024-04-15T15:48:37.679496Z",
     "iopub.status.idle": "2024-04-15T15:48:37.688375Z",
     "shell.execute_reply": "2024-04-15T15:48:37.686471Z",
     "shell.execute_reply.started": "2024-04-15T15:48:37.679924Z"
    },
    "papermill": {
     "duration": 0.024556,
     "end_time": "2024-04-16T14:00:45.743406",
     "exception": false,
     "start_time": "2024-04-16T14:00:45.718850",
     "status": "completed"
    },
    "tags": []
   },
   "source": [
    "Insights:\n",
    " - No data from NewYork\n",
    " - Less than 8% of cities have more than 1000 yearly accidents\n",
    " - The no of accidents per city decreases exponentially\n",
    "  - Over1000 cities have reported just one accident"
   ]
  },
  {
   "cell_type": "code",
   "execution_count": null,
   "id": "413bf4e0",
   "metadata": {
    "papermill": {
     "duration": 0.027913,
     "end_time": "2024-04-16T14:00:45.794723",
     "exception": false,
     "start_time": "2024-04-16T14:00:45.766810",
     "status": "completed"
    },
    "tags": []
   },
   "outputs": [],
   "source": []
  }
 ],
 "metadata": {
  "kaggle": {
   "accelerator": "none",
   "dataSources": [
    {
     "datasetId": 199387,
     "sourceId": 5793796,
     "sourceType": "datasetVersion"
    }
   ],
   "dockerImageVersionId": 30684,
   "isGpuEnabled": false,
   "isInternetEnabled": true,
   "language": "python",
   "sourceType": "notebook"
  },
  "kernelspec": {
   "display_name": "Python 3",
   "language": "python",
   "name": "python3"
  },
  "language_info": {
   "codemirror_mode": {
    "name": "ipython",
    "version": 3
   },
   "file_extension": ".py",
   "mimetype": "text/x-python",
   "name": "python",
   "nbconvert_exporter": "python",
   "pygments_lexer": "ipython3",
   "version": "3.10.13"
  },
  "papermill": {
   "default_parameters": {},
   "duration": 263.700351,
   "end_time": "2024-04-16T14:00:48.951282",
   "environment_variables": {},
   "exception": null,
   "input_path": "__notebook__.ipynb",
   "output_path": "__notebook__.ipynb",
   "parameters": {},
   "start_time": "2024-04-16T13:56:25.250931",
   "version": "2.5.0"
  }
 },
 "nbformat": 4,
 "nbformat_minor": 5
}
